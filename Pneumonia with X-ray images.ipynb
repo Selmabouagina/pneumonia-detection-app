{
 "cells": [
  {
   "cell_type": "markdown",
   "id": "0c70e99c",
   "metadata": {},
   "source": [
    "# Imports"
   ]
  },
  {
   "cell_type": "code",
   "execution_count": 1,
   "id": "f3756a30",
   "metadata": {},
   "outputs": [
    {
     "data": {
      "text/html": [
       "        <script type=\"text/javascript\">\n",
       "        window.PlotlyConfig = {MathJaxConfig: 'local'};\n",
       "        if (window.MathJax && window.MathJax.Hub && window.MathJax.Hub.Config) {window.MathJax.Hub.Config({SVG: {font: \"STIX-Web\"}});}\n",
       "        if (typeof require !== 'undefined') {\n",
       "        require.undef(\"plotly\");\n",
       "        requirejs.config({\n",
       "            paths: {\n",
       "                'plotly': ['https://cdn.plot.ly/plotly-2.12.1.min']\n",
       "            }\n",
       "        });\n",
       "        require(['plotly'], function(Plotly) {\n",
       "            window._Plotly = Plotly;\n",
       "        });\n",
       "        }\n",
       "        </script>\n",
       "        "
      ]
     },
     "metadata": {},
     "output_type": "display_data"
    }
   ],
   "source": [
    "import pandas as pd \n",
    "import os \n",
    "import glob \n",
    "import numpy as np\n",
    "\n",
    "import matplotlib.pyplot as plt \n",
    "import seaborn as sns \n",
    "import plotly.offline as py \n",
    "py.init_notebook_mode(connected=True)\n",
    "import plotly.io as pio\n",
    "import plotly.graph_objs as go \n",
    "import plotly.tools as tls \n",
    "import plotly.figure_factory as figure_factory\n",
    "\n",
    "import cv2\n",
    "\n",
    "from sklearn.model_selection import train_test_split\n",
    "from sklearn.metrics import classification_report,confusion_matrix, accuracy_score\n",
    "from sklearn import metrics\n",
    "\n",
    "from tensorflow import keras\n",
    "from keras.preprocessing.image import ImageDataGenerator\n",
    "from tensorflow.keras import callbacks\n",
    "from tensorflow.keras.callbacks import ReduceLROnPlateau\n",
    "from tensorflow.keras import layers\n",
    "from tensorflow.keras.models import Model\n",
    "import joblib\n",
    "import tensorflow as tf"
   ]
  },
  {
   "cell_type": "markdown",
   "id": "c9b2d4d0",
   "metadata": {},
   "source": [
    "# Read Data"
   ]
  },
  {
   "cell_type": "code",
   "execution_count": 2,
   "id": "efd2d7b6",
   "metadata": {},
   "outputs": [],
   "source": [
    "# Read Files\n",
    "\n",
    "main_path = \"C:/Users/MSI/Desktop/Projet ML/Pneumonia\"\n",
    "\n",
    "train_path = os.path.join(main_path,\"train\")\n",
    "test_path = os.path.join(main_path,\"test\")\n",
    "val_path = os.path.join(main_path,\"val\")\n",
    "\n",
    "train_normal = glob.glob(train_path+\"/NORMAL/*.jpeg\")\n",
    "train_pneumonia = glob.glob(train_path+\"/PNEUMONIA/*.jpeg\")\n",
    "\n",
    "test_normal = glob.glob(test_path+\"/NORMAL/*.jpeg\")\n",
    "test_pneumonia = glob.glob(test_path+\"/PNEUMONIA/*.jpeg\")\n",
    "\n",
    "val_normal = glob.glob(val_path+\"/NORMAL/*.jpeg\")\n",
    "val_pneumonia = glob.glob(val_path+\"/PNEUMONIA/*.jpeg\")\n"
   ]
  },
  {
   "cell_type": "code",
   "execution_count": 3,
   "id": "9a93fc8b",
   "metadata": {},
   "outputs": [],
   "source": [
    "# train_list contient les emplacements de chaque image\n",
    "train_list = [x for x in train_normal]\n",
    "train_list.extend([x for x in train_pneumonia])\n",
    "\n",
    "# creation du dataframe qui contient la classe et l'emplacement de chaque image\n",
    "df_train = pd.DataFrame(np.concatenate([['Normal']*len(train_normal),['Pneumonia']*len(train_pneumonia)]), columns=['class'])\n",
    "df_train['image']= [x for x in train_list]\n",
    "\n",
    "\n",
    "test_list = [x for x in test_normal]\n",
    "test_list.extend([x for x in test_pneumonia])\n",
    "\n",
    "df_test = pd.DataFrame(np.concatenate([['Normal']*len(test_normal),['Pneumonia']*len(test_pneumonia)]), columns=['class'])\n",
    "df_test['image']= [x for x in test_list]\n",
    "\n",
    "\n",
    "val_list = [x for x in val_normal]\n",
    "val_list.extend([x for x in val_pneumonia])\n",
    "\n",
    "df_val = pd.DataFrame(np.concatenate([['Normal']*len(val_normal),['Pneumonia']*len(val_pneumonia)]), columns=['class'])\n",
    "df_val['image']= [x for x in val_list]\n"
   ]
  },
  {
   "cell_type": "code",
   "execution_count": 4,
   "id": "cab826f4",
   "metadata": {},
   "outputs": [
    {
     "data": {
      "text/html": [
       "<div>\n",
       "<style scoped>\n",
       "    .dataframe tbody tr th:only-of-type {\n",
       "        vertical-align: middle;\n",
       "    }\n",
       "\n",
       "    .dataframe tbody tr th {\n",
       "        vertical-align: top;\n",
       "    }\n",
       "\n",
       "    .dataframe thead th {\n",
       "        text-align: right;\n",
       "    }\n",
       "</style>\n",
       "<table border=\"1\" class=\"dataframe\">\n",
       "  <thead>\n",
       "    <tr style=\"text-align: right;\">\n",
       "      <th></th>\n",
       "      <th>class</th>\n",
       "      <th>image</th>\n",
       "    </tr>\n",
       "  </thead>\n",
       "  <tbody>\n",
       "    <tr>\n",
       "      <th>0</th>\n",
       "      <td>Normal</td>\n",
       "      <td>C:/Users/MSI/Desktop/Projet ML/Pneumonia\\train...</td>\n",
       "    </tr>\n",
       "    <tr>\n",
       "      <th>1</th>\n",
       "      <td>Normal</td>\n",
       "      <td>C:/Users/MSI/Desktop/Projet ML/Pneumonia\\train...</td>\n",
       "    </tr>\n",
       "    <tr>\n",
       "      <th>2</th>\n",
       "      <td>Normal</td>\n",
       "      <td>C:/Users/MSI/Desktop/Projet ML/Pneumonia\\train...</td>\n",
       "    </tr>\n",
       "    <tr>\n",
       "      <th>3</th>\n",
       "      <td>Normal</td>\n",
       "      <td>C:/Users/MSI/Desktop/Projet ML/Pneumonia\\train...</td>\n",
       "    </tr>\n",
       "    <tr>\n",
       "      <th>4</th>\n",
       "      <td>Normal</td>\n",
       "      <td>C:/Users/MSI/Desktop/Projet ML/Pneumonia\\train...</td>\n",
       "    </tr>\n",
       "    <tr>\n",
       "      <th>...</th>\n",
       "      <td>...</td>\n",
       "      <td>...</td>\n",
       "    </tr>\n",
       "    <tr>\n",
       "      <th>5211</th>\n",
       "      <td>Pneumonia</td>\n",
       "      <td>C:/Users/MSI/Desktop/Projet ML/Pneumonia\\train...</td>\n",
       "    </tr>\n",
       "    <tr>\n",
       "      <th>5212</th>\n",
       "      <td>Pneumonia</td>\n",
       "      <td>C:/Users/MSI/Desktop/Projet ML/Pneumonia\\train...</td>\n",
       "    </tr>\n",
       "    <tr>\n",
       "      <th>5213</th>\n",
       "      <td>Pneumonia</td>\n",
       "      <td>C:/Users/MSI/Desktop/Projet ML/Pneumonia\\train...</td>\n",
       "    </tr>\n",
       "    <tr>\n",
       "      <th>5214</th>\n",
       "      <td>Pneumonia</td>\n",
       "      <td>C:/Users/MSI/Desktop/Projet ML/Pneumonia\\train...</td>\n",
       "    </tr>\n",
       "    <tr>\n",
       "      <th>5215</th>\n",
       "      <td>Pneumonia</td>\n",
       "      <td>C:/Users/MSI/Desktop/Projet ML/Pneumonia\\train...</td>\n",
       "    </tr>\n",
       "  </tbody>\n",
       "</table>\n",
       "<p>5216 rows × 2 columns</p>\n",
       "</div>"
      ],
      "text/plain": [
       "          class                                              image\n",
       "0        Normal  C:/Users/MSI/Desktop/Projet ML/Pneumonia\\train...\n",
       "1        Normal  C:/Users/MSI/Desktop/Projet ML/Pneumonia\\train...\n",
       "2        Normal  C:/Users/MSI/Desktop/Projet ML/Pneumonia\\train...\n",
       "3        Normal  C:/Users/MSI/Desktop/Projet ML/Pneumonia\\train...\n",
       "4        Normal  C:/Users/MSI/Desktop/Projet ML/Pneumonia\\train...\n",
       "...         ...                                                ...\n",
       "5211  Pneumonia  C:/Users/MSI/Desktop/Projet ML/Pneumonia\\train...\n",
       "5212  Pneumonia  C:/Users/MSI/Desktop/Projet ML/Pneumonia\\train...\n",
       "5213  Pneumonia  C:/Users/MSI/Desktop/Projet ML/Pneumonia\\train...\n",
       "5214  Pneumonia  C:/Users/MSI/Desktop/Projet ML/Pneumonia\\train...\n",
       "5215  Pneumonia  C:/Users/MSI/Desktop/Projet ML/Pneumonia\\train...\n",
       "\n",
       "[5216 rows x 2 columns]"
      ]
     },
     "execution_count": 4,
     "metadata": {},
     "output_type": "execute_result"
    }
   ],
   "source": [
    "df_train"
   ]
  },
  {
   "cell_type": "code",
   "execution_count": 5,
   "id": "4f93a159",
   "metadata": {},
   "outputs": [
    {
     "data": {
      "text/html": [
       "<div>\n",
       "<style scoped>\n",
       "    .dataframe tbody tr th:only-of-type {\n",
       "        vertical-align: middle;\n",
       "    }\n",
       "\n",
       "    .dataframe tbody tr th {\n",
       "        vertical-align: top;\n",
       "    }\n",
       "\n",
       "    .dataframe thead th {\n",
       "        text-align: right;\n",
       "    }\n",
       "</style>\n",
       "<table border=\"1\" class=\"dataframe\">\n",
       "  <thead>\n",
       "    <tr style=\"text-align: right;\">\n",
       "      <th></th>\n",
       "      <th>class</th>\n",
       "      <th>image</th>\n",
       "    </tr>\n",
       "  </thead>\n",
       "  <tbody>\n",
       "    <tr>\n",
       "      <th>0</th>\n",
       "      <td>Normal</td>\n",
       "      <td>C:/Users/MSI/Desktop/Projet ML/Pneumonia\\test/...</td>\n",
       "    </tr>\n",
       "    <tr>\n",
       "      <th>1</th>\n",
       "      <td>Normal</td>\n",
       "      <td>C:/Users/MSI/Desktop/Projet ML/Pneumonia\\test/...</td>\n",
       "    </tr>\n",
       "    <tr>\n",
       "      <th>2</th>\n",
       "      <td>Normal</td>\n",
       "      <td>C:/Users/MSI/Desktop/Projet ML/Pneumonia\\test/...</td>\n",
       "    </tr>\n",
       "    <tr>\n",
       "      <th>3</th>\n",
       "      <td>Normal</td>\n",
       "      <td>C:/Users/MSI/Desktop/Projet ML/Pneumonia\\test/...</td>\n",
       "    </tr>\n",
       "    <tr>\n",
       "      <th>4</th>\n",
       "      <td>Normal</td>\n",
       "      <td>C:/Users/MSI/Desktop/Projet ML/Pneumonia\\test/...</td>\n",
       "    </tr>\n",
       "    <tr>\n",
       "      <th>...</th>\n",
       "      <td>...</td>\n",
       "      <td>...</td>\n",
       "    </tr>\n",
       "    <tr>\n",
       "      <th>619</th>\n",
       "      <td>Pneumonia</td>\n",
       "      <td>C:/Users/MSI/Desktop/Projet ML/Pneumonia\\test/...</td>\n",
       "    </tr>\n",
       "    <tr>\n",
       "      <th>620</th>\n",
       "      <td>Pneumonia</td>\n",
       "      <td>C:/Users/MSI/Desktop/Projet ML/Pneumonia\\test/...</td>\n",
       "    </tr>\n",
       "    <tr>\n",
       "      <th>621</th>\n",
       "      <td>Pneumonia</td>\n",
       "      <td>C:/Users/MSI/Desktop/Projet ML/Pneumonia\\test/...</td>\n",
       "    </tr>\n",
       "    <tr>\n",
       "      <th>622</th>\n",
       "      <td>Pneumonia</td>\n",
       "      <td>C:/Users/MSI/Desktop/Projet ML/Pneumonia\\test/...</td>\n",
       "    </tr>\n",
       "    <tr>\n",
       "      <th>623</th>\n",
       "      <td>Pneumonia</td>\n",
       "      <td>C:/Users/MSI/Desktop/Projet ML/Pneumonia\\test/...</td>\n",
       "    </tr>\n",
       "  </tbody>\n",
       "</table>\n",
       "<p>624 rows × 2 columns</p>\n",
       "</div>"
      ],
      "text/plain": [
       "         class                                              image\n",
       "0       Normal  C:/Users/MSI/Desktop/Projet ML/Pneumonia\\test/...\n",
       "1       Normal  C:/Users/MSI/Desktop/Projet ML/Pneumonia\\test/...\n",
       "2       Normal  C:/Users/MSI/Desktop/Projet ML/Pneumonia\\test/...\n",
       "3       Normal  C:/Users/MSI/Desktop/Projet ML/Pneumonia\\test/...\n",
       "4       Normal  C:/Users/MSI/Desktop/Projet ML/Pneumonia\\test/...\n",
       "..         ...                                                ...\n",
       "619  Pneumonia  C:/Users/MSI/Desktop/Projet ML/Pneumonia\\test/...\n",
       "620  Pneumonia  C:/Users/MSI/Desktop/Projet ML/Pneumonia\\test/...\n",
       "621  Pneumonia  C:/Users/MSI/Desktop/Projet ML/Pneumonia\\test/...\n",
       "622  Pneumonia  C:/Users/MSI/Desktop/Projet ML/Pneumonia\\test/...\n",
       "623  Pneumonia  C:/Users/MSI/Desktop/Projet ML/Pneumonia\\test/...\n",
       "\n",
       "[624 rows x 2 columns]"
      ]
     },
     "execution_count": 5,
     "metadata": {},
     "output_type": "execute_result"
    }
   ],
   "source": [
    "df_test"
   ]
  },
  {
   "cell_type": "code",
   "execution_count": 6,
   "id": "c704f073",
   "metadata": {
    "scrolled": true
   },
   "outputs": [
    {
     "data": {
      "text/html": [
       "<div>\n",
       "<style scoped>\n",
       "    .dataframe tbody tr th:only-of-type {\n",
       "        vertical-align: middle;\n",
       "    }\n",
       "\n",
       "    .dataframe tbody tr th {\n",
       "        vertical-align: top;\n",
       "    }\n",
       "\n",
       "    .dataframe thead th {\n",
       "        text-align: right;\n",
       "    }\n",
       "</style>\n",
       "<table border=\"1\" class=\"dataframe\">\n",
       "  <thead>\n",
       "    <tr style=\"text-align: right;\">\n",
       "      <th></th>\n",
       "      <th>class</th>\n",
       "      <th>image</th>\n",
       "    </tr>\n",
       "  </thead>\n",
       "  <tbody>\n",
       "    <tr>\n",
       "      <th>0</th>\n",
       "      <td>Normal</td>\n",
       "      <td>C:/Users/MSI/Desktop/Projet ML/Pneumonia\\val/N...</td>\n",
       "    </tr>\n",
       "    <tr>\n",
       "      <th>1</th>\n",
       "      <td>Normal</td>\n",
       "      <td>C:/Users/MSI/Desktop/Projet ML/Pneumonia\\val/N...</td>\n",
       "    </tr>\n",
       "    <tr>\n",
       "      <th>2</th>\n",
       "      <td>Normal</td>\n",
       "      <td>C:/Users/MSI/Desktop/Projet ML/Pneumonia\\val/N...</td>\n",
       "    </tr>\n",
       "    <tr>\n",
       "      <th>3</th>\n",
       "      <td>Normal</td>\n",
       "      <td>C:/Users/MSI/Desktop/Projet ML/Pneumonia\\val/N...</td>\n",
       "    </tr>\n",
       "    <tr>\n",
       "      <th>4</th>\n",
       "      <td>Normal</td>\n",
       "      <td>C:/Users/MSI/Desktop/Projet ML/Pneumonia\\val/N...</td>\n",
       "    </tr>\n",
       "    <tr>\n",
       "      <th>5</th>\n",
       "      <td>Normal</td>\n",
       "      <td>C:/Users/MSI/Desktop/Projet ML/Pneumonia\\val/N...</td>\n",
       "    </tr>\n",
       "    <tr>\n",
       "      <th>6</th>\n",
       "      <td>Normal</td>\n",
       "      <td>C:/Users/MSI/Desktop/Projet ML/Pneumonia\\val/N...</td>\n",
       "    </tr>\n",
       "    <tr>\n",
       "      <th>7</th>\n",
       "      <td>Normal</td>\n",
       "      <td>C:/Users/MSI/Desktop/Projet ML/Pneumonia\\val/N...</td>\n",
       "    </tr>\n",
       "    <tr>\n",
       "      <th>8</th>\n",
       "      <td>Pneumonia</td>\n",
       "      <td>C:/Users/MSI/Desktop/Projet ML/Pneumonia\\val/P...</td>\n",
       "    </tr>\n",
       "    <tr>\n",
       "      <th>9</th>\n",
       "      <td>Pneumonia</td>\n",
       "      <td>C:/Users/MSI/Desktop/Projet ML/Pneumonia\\val/P...</td>\n",
       "    </tr>\n",
       "    <tr>\n",
       "      <th>10</th>\n",
       "      <td>Pneumonia</td>\n",
       "      <td>C:/Users/MSI/Desktop/Projet ML/Pneumonia\\val/P...</td>\n",
       "    </tr>\n",
       "    <tr>\n",
       "      <th>11</th>\n",
       "      <td>Pneumonia</td>\n",
       "      <td>C:/Users/MSI/Desktop/Projet ML/Pneumonia\\val/P...</td>\n",
       "    </tr>\n",
       "    <tr>\n",
       "      <th>12</th>\n",
       "      <td>Pneumonia</td>\n",
       "      <td>C:/Users/MSI/Desktop/Projet ML/Pneumonia\\val/P...</td>\n",
       "    </tr>\n",
       "    <tr>\n",
       "      <th>13</th>\n",
       "      <td>Pneumonia</td>\n",
       "      <td>C:/Users/MSI/Desktop/Projet ML/Pneumonia\\val/P...</td>\n",
       "    </tr>\n",
       "    <tr>\n",
       "      <th>14</th>\n",
       "      <td>Pneumonia</td>\n",
       "      <td>C:/Users/MSI/Desktop/Projet ML/Pneumonia\\val/P...</td>\n",
       "    </tr>\n",
       "    <tr>\n",
       "      <th>15</th>\n",
       "      <td>Pneumonia</td>\n",
       "      <td>C:/Users/MSI/Desktop/Projet ML/Pneumonia\\val/P...</td>\n",
       "    </tr>\n",
       "  </tbody>\n",
       "</table>\n",
       "</div>"
      ],
      "text/plain": [
       "        class                                              image\n",
       "0      Normal  C:/Users/MSI/Desktop/Projet ML/Pneumonia\\val/N...\n",
       "1      Normal  C:/Users/MSI/Desktop/Projet ML/Pneumonia\\val/N...\n",
       "2      Normal  C:/Users/MSI/Desktop/Projet ML/Pneumonia\\val/N...\n",
       "3      Normal  C:/Users/MSI/Desktop/Projet ML/Pneumonia\\val/N...\n",
       "4      Normal  C:/Users/MSI/Desktop/Projet ML/Pneumonia\\val/N...\n",
       "5      Normal  C:/Users/MSI/Desktop/Projet ML/Pneumonia\\val/N...\n",
       "6      Normal  C:/Users/MSI/Desktop/Projet ML/Pneumonia\\val/N...\n",
       "7      Normal  C:/Users/MSI/Desktop/Projet ML/Pneumonia\\val/N...\n",
       "8   Pneumonia  C:/Users/MSI/Desktop/Projet ML/Pneumonia\\val/P...\n",
       "9   Pneumonia  C:/Users/MSI/Desktop/Projet ML/Pneumonia\\val/P...\n",
       "10  Pneumonia  C:/Users/MSI/Desktop/Projet ML/Pneumonia\\val/P...\n",
       "11  Pneumonia  C:/Users/MSI/Desktop/Projet ML/Pneumonia\\val/P...\n",
       "12  Pneumonia  C:/Users/MSI/Desktop/Projet ML/Pneumonia\\val/P...\n",
       "13  Pneumonia  C:/Users/MSI/Desktop/Projet ML/Pneumonia\\val/P...\n",
       "14  Pneumonia  C:/Users/MSI/Desktop/Projet ML/Pneumonia\\val/P...\n",
       "15  Pneumonia  C:/Users/MSI/Desktop/Projet ML/Pneumonia\\val/P..."
      ]
     },
     "execution_count": 6,
     "metadata": {},
     "output_type": "execute_result"
    }
   ],
   "source": [
    "df_val"
   ]
  },
  {
   "cell_type": "markdown",
   "id": "6a856bfc",
   "metadata": {},
   "source": [
    "# Exploratory Data Analysis"
   ]
  },
  {
   "cell_type": "code",
   "execution_count": 7,
   "id": "c40e82bd",
   "metadata": {},
   "outputs": [
    {
     "data": {
      "application/vnd.plotly.v1+json": {
       "config": {
        "linkText": "Export to plot.ly",
        "plotlyServerURL": "https://plot.ly",
        "showLink": false
       },
       "data": [
        {
         "marker": {
          "color": [
           "gold",
           "lightskyblue"
          ],
          "line": {
           "color": "#000000",
           "width": 1.5
          }
         },
         "opacity": 0.8,
         "orientation": "h",
         "type": "bar",
         "x": [
          3875,
          1341
         ],
         "y": [
          "Pneumonia",
          "Normal"
         ]
        }
       ],
       "layout": {
        "template": {
         "data": {
          "bar": [
           {
            "error_x": {
             "color": "#2a3f5f"
            },
            "error_y": {
             "color": "#2a3f5f"
            },
            "marker": {
             "line": {
              "color": "#E5ECF6",
              "width": 0.5
             },
             "pattern": {
              "fillmode": "overlay",
              "size": 10,
              "solidity": 0.2
             }
            },
            "type": "bar"
           }
          ],
          "barpolar": [
           {
            "marker": {
             "line": {
              "color": "#E5ECF6",
              "width": 0.5
             },
             "pattern": {
              "fillmode": "overlay",
              "size": 10,
              "solidity": 0.2
             }
            },
            "type": "barpolar"
           }
          ],
          "carpet": [
           {
            "aaxis": {
             "endlinecolor": "#2a3f5f",
             "gridcolor": "white",
             "linecolor": "white",
             "minorgridcolor": "white",
             "startlinecolor": "#2a3f5f"
            },
            "baxis": {
             "endlinecolor": "#2a3f5f",
             "gridcolor": "white",
             "linecolor": "white",
             "minorgridcolor": "white",
             "startlinecolor": "#2a3f5f"
            },
            "type": "carpet"
           }
          ],
          "choropleth": [
           {
            "colorbar": {
             "outlinewidth": 0,
             "ticks": ""
            },
            "type": "choropleth"
           }
          ],
          "contour": [
           {
            "colorbar": {
             "outlinewidth": 0,
             "ticks": ""
            },
            "colorscale": [
             [
              0,
              "#0d0887"
             ],
             [
              0.1111111111111111,
              "#46039f"
             ],
             [
              0.2222222222222222,
              "#7201a8"
             ],
             [
              0.3333333333333333,
              "#9c179e"
             ],
             [
              0.4444444444444444,
              "#bd3786"
             ],
             [
              0.5555555555555556,
              "#d8576b"
             ],
             [
              0.6666666666666666,
              "#ed7953"
             ],
             [
              0.7777777777777778,
              "#fb9f3a"
             ],
             [
              0.8888888888888888,
              "#fdca26"
             ],
             [
              1,
              "#f0f921"
             ]
            ],
            "type": "contour"
           }
          ],
          "contourcarpet": [
           {
            "colorbar": {
             "outlinewidth": 0,
             "ticks": ""
            },
            "type": "contourcarpet"
           }
          ],
          "heatmap": [
           {
            "colorbar": {
             "outlinewidth": 0,
             "ticks": ""
            },
            "colorscale": [
             [
              0,
              "#0d0887"
             ],
             [
              0.1111111111111111,
              "#46039f"
             ],
             [
              0.2222222222222222,
              "#7201a8"
             ],
             [
              0.3333333333333333,
              "#9c179e"
             ],
             [
              0.4444444444444444,
              "#bd3786"
             ],
             [
              0.5555555555555556,
              "#d8576b"
             ],
             [
              0.6666666666666666,
              "#ed7953"
             ],
             [
              0.7777777777777778,
              "#fb9f3a"
             ],
             [
              0.8888888888888888,
              "#fdca26"
             ],
             [
              1,
              "#f0f921"
             ]
            ],
            "type": "heatmap"
           }
          ],
          "heatmapgl": [
           {
            "colorbar": {
             "outlinewidth": 0,
             "ticks": ""
            },
            "colorscale": [
             [
              0,
              "#0d0887"
             ],
             [
              0.1111111111111111,
              "#46039f"
             ],
             [
              0.2222222222222222,
              "#7201a8"
             ],
             [
              0.3333333333333333,
              "#9c179e"
             ],
             [
              0.4444444444444444,
              "#bd3786"
             ],
             [
              0.5555555555555556,
              "#d8576b"
             ],
             [
              0.6666666666666666,
              "#ed7953"
             ],
             [
              0.7777777777777778,
              "#fb9f3a"
             ],
             [
              0.8888888888888888,
              "#fdca26"
             ],
             [
              1,
              "#f0f921"
             ]
            ],
            "type": "heatmapgl"
           }
          ],
          "histogram": [
           {
            "marker": {
             "pattern": {
              "fillmode": "overlay",
              "size": 10,
              "solidity": 0.2
             }
            },
            "type": "histogram"
           }
          ],
          "histogram2d": [
           {
            "colorbar": {
             "outlinewidth": 0,
             "ticks": ""
            },
            "colorscale": [
             [
              0,
              "#0d0887"
             ],
             [
              0.1111111111111111,
              "#46039f"
             ],
             [
              0.2222222222222222,
              "#7201a8"
             ],
             [
              0.3333333333333333,
              "#9c179e"
             ],
             [
              0.4444444444444444,
              "#bd3786"
             ],
             [
              0.5555555555555556,
              "#d8576b"
             ],
             [
              0.6666666666666666,
              "#ed7953"
             ],
             [
              0.7777777777777778,
              "#fb9f3a"
             ],
             [
              0.8888888888888888,
              "#fdca26"
             ],
             [
              1,
              "#f0f921"
             ]
            ],
            "type": "histogram2d"
           }
          ],
          "histogram2dcontour": [
           {
            "colorbar": {
             "outlinewidth": 0,
             "ticks": ""
            },
            "colorscale": [
             [
              0,
              "#0d0887"
             ],
             [
              0.1111111111111111,
              "#46039f"
             ],
             [
              0.2222222222222222,
              "#7201a8"
             ],
             [
              0.3333333333333333,
              "#9c179e"
             ],
             [
              0.4444444444444444,
              "#bd3786"
             ],
             [
              0.5555555555555556,
              "#d8576b"
             ],
             [
              0.6666666666666666,
              "#ed7953"
             ],
             [
              0.7777777777777778,
              "#fb9f3a"
             ],
             [
              0.8888888888888888,
              "#fdca26"
             ],
             [
              1,
              "#f0f921"
             ]
            ],
            "type": "histogram2dcontour"
           }
          ],
          "mesh3d": [
           {
            "colorbar": {
             "outlinewidth": 0,
             "ticks": ""
            },
            "type": "mesh3d"
           }
          ],
          "parcoords": [
           {
            "line": {
             "colorbar": {
              "outlinewidth": 0,
              "ticks": ""
             }
            },
            "type": "parcoords"
           }
          ],
          "pie": [
           {
            "automargin": true,
            "type": "pie"
           }
          ],
          "scatter": [
           {
            "fillpattern": {
             "fillmode": "overlay",
             "size": 10,
             "solidity": 0.2
            },
            "type": "scatter"
           }
          ],
          "scatter3d": [
           {
            "line": {
             "colorbar": {
              "outlinewidth": 0,
              "ticks": ""
             }
            },
            "marker": {
             "colorbar": {
              "outlinewidth": 0,
              "ticks": ""
             }
            },
            "type": "scatter3d"
           }
          ],
          "scattercarpet": [
           {
            "marker": {
             "colorbar": {
              "outlinewidth": 0,
              "ticks": ""
             }
            },
            "type": "scattercarpet"
           }
          ],
          "scattergeo": [
           {
            "marker": {
             "colorbar": {
              "outlinewidth": 0,
              "ticks": ""
             }
            },
            "type": "scattergeo"
           }
          ],
          "scattergl": [
           {
            "marker": {
             "colorbar": {
              "outlinewidth": 0,
              "ticks": ""
             }
            },
            "type": "scattergl"
           }
          ],
          "scattermapbox": [
           {
            "marker": {
             "colorbar": {
              "outlinewidth": 0,
              "ticks": ""
             }
            },
            "type": "scattermapbox"
           }
          ],
          "scatterpolar": [
           {
            "marker": {
             "colorbar": {
              "outlinewidth": 0,
              "ticks": ""
             }
            },
            "type": "scatterpolar"
           }
          ],
          "scatterpolargl": [
           {
            "marker": {
             "colorbar": {
              "outlinewidth": 0,
              "ticks": ""
             }
            },
            "type": "scatterpolargl"
           }
          ],
          "scatterternary": [
           {
            "marker": {
             "colorbar": {
              "outlinewidth": 0,
              "ticks": ""
             }
            },
            "type": "scatterternary"
           }
          ],
          "surface": [
           {
            "colorbar": {
             "outlinewidth": 0,
             "ticks": ""
            },
            "colorscale": [
             [
              0,
              "#0d0887"
             ],
             [
              0.1111111111111111,
              "#46039f"
             ],
             [
              0.2222222222222222,
              "#7201a8"
             ],
             [
              0.3333333333333333,
              "#9c179e"
             ],
             [
              0.4444444444444444,
              "#bd3786"
             ],
             [
              0.5555555555555556,
              "#d8576b"
             ],
             [
              0.6666666666666666,
              "#ed7953"
             ],
             [
              0.7777777777777778,
              "#fb9f3a"
             ],
             [
              0.8888888888888888,
              "#fdca26"
             ],
             [
              1,
              "#f0f921"
             ]
            ],
            "type": "surface"
           }
          ],
          "table": [
           {
            "cells": {
             "fill": {
              "color": "#EBF0F8"
             },
             "line": {
              "color": "white"
             }
            },
            "header": {
             "fill": {
              "color": "#C8D4E3"
             },
             "line": {
              "color": "white"
             }
            },
            "type": "table"
           }
          ]
         },
         "layout": {
          "annotationdefaults": {
           "arrowcolor": "#2a3f5f",
           "arrowhead": 0,
           "arrowwidth": 1
          },
          "autotypenumbers": "strict",
          "coloraxis": {
           "colorbar": {
            "outlinewidth": 0,
            "ticks": ""
           }
          },
          "colorscale": {
           "diverging": [
            [
             0,
             "#8e0152"
            ],
            [
             0.1,
             "#c51b7d"
            ],
            [
             0.2,
             "#de77ae"
            ],
            [
             0.3,
             "#f1b6da"
            ],
            [
             0.4,
             "#fde0ef"
            ],
            [
             0.5,
             "#f7f7f7"
            ],
            [
             0.6,
             "#e6f5d0"
            ],
            [
             0.7,
             "#b8e186"
            ],
            [
             0.8,
             "#7fbc41"
            ],
            [
             0.9,
             "#4d9221"
            ],
            [
             1,
             "#276419"
            ]
           ],
           "sequential": [
            [
             0,
             "#0d0887"
            ],
            [
             0.1111111111111111,
             "#46039f"
            ],
            [
             0.2222222222222222,
             "#7201a8"
            ],
            [
             0.3333333333333333,
             "#9c179e"
            ],
            [
             0.4444444444444444,
             "#bd3786"
            ],
            [
             0.5555555555555556,
             "#d8576b"
            ],
            [
             0.6666666666666666,
             "#ed7953"
            ],
            [
             0.7777777777777778,
             "#fb9f3a"
            ],
            [
             0.8888888888888888,
             "#fdca26"
            ],
            [
             1,
             "#f0f921"
            ]
           ],
           "sequentialminus": [
            [
             0,
             "#0d0887"
            ],
            [
             0.1111111111111111,
             "#46039f"
            ],
            [
             0.2222222222222222,
             "#7201a8"
            ],
            [
             0.3333333333333333,
             "#9c179e"
            ],
            [
             0.4444444444444444,
             "#bd3786"
            ],
            [
             0.5555555555555556,
             "#d8576b"
            ],
            [
             0.6666666666666666,
             "#ed7953"
            ],
            [
             0.7777777777777778,
             "#fb9f3a"
            ],
            [
             0.8888888888888888,
             "#fdca26"
            ],
            [
             1,
             "#f0f921"
            ]
           ]
          },
          "colorway": [
           "#636efa",
           "#EF553B",
           "#00cc96",
           "#ab63fa",
           "#FFA15A",
           "#19d3f3",
           "#FF6692",
           "#B6E880",
           "#FF97FF",
           "#FECB52"
          ],
          "font": {
           "color": "#2a3f5f"
          },
          "geo": {
           "bgcolor": "white",
           "lakecolor": "white",
           "landcolor": "#E5ECF6",
           "showlakes": true,
           "showland": true,
           "subunitcolor": "white"
          },
          "hoverlabel": {
           "align": "left"
          },
          "hovermode": "closest",
          "mapbox": {
           "style": "light"
          },
          "paper_bgcolor": "white",
          "plot_bgcolor": "#E5ECF6",
          "polar": {
           "angularaxis": {
            "gridcolor": "white",
            "linecolor": "white",
            "ticks": ""
           },
           "bgcolor": "#E5ECF6",
           "radialaxis": {
            "gridcolor": "white",
            "linecolor": "white",
            "ticks": ""
           }
          },
          "scene": {
           "xaxis": {
            "backgroundcolor": "#E5ECF6",
            "gridcolor": "white",
            "gridwidth": 2,
            "linecolor": "white",
            "showbackground": true,
            "ticks": "",
            "zerolinecolor": "white"
           },
           "yaxis": {
            "backgroundcolor": "#E5ECF6",
            "gridcolor": "white",
            "gridwidth": 2,
            "linecolor": "white",
            "showbackground": true,
            "ticks": "",
            "zerolinecolor": "white"
           },
           "zaxis": {
            "backgroundcolor": "#E5ECF6",
            "gridcolor": "white",
            "gridwidth": 2,
            "linecolor": "white",
            "showbackground": true,
            "ticks": "",
            "zerolinecolor": "white"
           }
          },
          "shapedefaults": {
           "line": {
            "color": "#2a3f5f"
           }
          },
          "ternary": {
           "aaxis": {
            "gridcolor": "white",
            "linecolor": "white",
            "ticks": ""
           },
           "baxis": {
            "gridcolor": "white",
            "linecolor": "white",
            "ticks": ""
           },
           "bgcolor": "#E5ECF6",
           "caxis": {
            "gridcolor": "white",
            "linecolor": "white",
            "ticks": ""
           }
          },
          "title": {
           "x": 0.05
          },
          "xaxis": {
           "automargin": true,
           "gridcolor": "white",
           "linecolor": "white",
           "ticks": "",
           "title": {
            "standoff": 15
           },
           "zerolinecolor": "white",
           "zerolinewidth": 2
          },
          "yaxis": {
           "automargin": true,
           "gridcolor": "white",
           "linecolor": "white",
           "ticks": "",
           "title": {
            "standoff": 15
           },
           "zerolinecolor": "white",
           "zerolinewidth": 2
          }
         }
        },
        "title": {
         "text": "Count of class variable in train dataset"
        }
       }
      },
      "text/html": [
       "<div>                            <div id=\"3aa68601-7b61-48f9-afa4-ab37e17087f9\" class=\"plotly-graph-div\" style=\"height:525px; width:100%;\"></div>            <script type=\"text/javascript\">                require([\"plotly\"], function(Plotly) {                    window.PLOTLYENV=window.PLOTLYENV || {};                                    if (document.getElementById(\"3aa68601-7b61-48f9-afa4-ab37e17087f9\")) {                    Plotly.newPlot(                        \"3aa68601-7b61-48f9-afa4-ab37e17087f9\",                        [{\"marker\":{\"color\":[\"gold\",\"lightskyblue\"],\"line\":{\"color\":\"#000000\",\"width\":1.5}},\"opacity\":0.8,\"orientation\":\"h\",\"x\":[3875,1341],\"y\":[\"Pneumonia\",\"Normal\"],\"type\":\"bar\"}],                        {\"template\":{\"data\":{\"barpolar\":[{\"marker\":{\"line\":{\"color\":\"#E5ECF6\",\"width\":0.5},\"pattern\":{\"fillmode\":\"overlay\",\"size\":10,\"solidity\":0.2}},\"type\":\"barpolar\"}],\"bar\":[{\"error_x\":{\"color\":\"#2a3f5f\"},\"error_y\":{\"color\":\"#2a3f5f\"},\"marker\":{\"line\":{\"color\":\"#E5ECF6\",\"width\":0.5},\"pattern\":{\"fillmode\":\"overlay\",\"size\":10,\"solidity\":0.2}},\"type\":\"bar\"}],\"carpet\":[{\"aaxis\":{\"endlinecolor\":\"#2a3f5f\",\"gridcolor\":\"white\",\"linecolor\":\"white\",\"minorgridcolor\":\"white\",\"startlinecolor\":\"#2a3f5f\"},\"baxis\":{\"endlinecolor\":\"#2a3f5f\",\"gridcolor\":\"white\",\"linecolor\":\"white\",\"minorgridcolor\":\"white\",\"startlinecolor\":\"#2a3f5f\"},\"type\":\"carpet\"}],\"choropleth\":[{\"colorbar\":{\"outlinewidth\":0,\"ticks\":\"\"},\"type\":\"choropleth\"}],\"contourcarpet\":[{\"colorbar\":{\"outlinewidth\":0,\"ticks\":\"\"},\"type\":\"contourcarpet\"}],\"contour\":[{\"colorbar\":{\"outlinewidth\":0,\"ticks\":\"\"},\"colorscale\":[[0.0,\"#0d0887\"],[0.1111111111111111,\"#46039f\"],[0.2222222222222222,\"#7201a8\"],[0.3333333333333333,\"#9c179e\"],[0.4444444444444444,\"#bd3786\"],[0.5555555555555556,\"#d8576b\"],[0.6666666666666666,\"#ed7953\"],[0.7777777777777778,\"#fb9f3a\"],[0.8888888888888888,\"#fdca26\"],[1.0,\"#f0f921\"]],\"type\":\"contour\"}],\"heatmapgl\":[{\"colorbar\":{\"outlinewidth\":0,\"ticks\":\"\"},\"colorscale\":[[0.0,\"#0d0887\"],[0.1111111111111111,\"#46039f\"],[0.2222222222222222,\"#7201a8\"],[0.3333333333333333,\"#9c179e\"],[0.4444444444444444,\"#bd3786\"],[0.5555555555555556,\"#d8576b\"],[0.6666666666666666,\"#ed7953\"],[0.7777777777777778,\"#fb9f3a\"],[0.8888888888888888,\"#fdca26\"],[1.0,\"#f0f921\"]],\"type\":\"heatmapgl\"}],\"heatmap\":[{\"colorbar\":{\"outlinewidth\":0,\"ticks\":\"\"},\"colorscale\":[[0.0,\"#0d0887\"],[0.1111111111111111,\"#46039f\"],[0.2222222222222222,\"#7201a8\"],[0.3333333333333333,\"#9c179e\"],[0.4444444444444444,\"#bd3786\"],[0.5555555555555556,\"#d8576b\"],[0.6666666666666666,\"#ed7953\"],[0.7777777777777778,\"#fb9f3a\"],[0.8888888888888888,\"#fdca26\"],[1.0,\"#f0f921\"]],\"type\":\"heatmap\"}],\"histogram2dcontour\":[{\"colorbar\":{\"outlinewidth\":0,\"ticks\":\"\"},\"colorscale\":[[0.0,\"#0d0887\"],[0.1111111111111111,\"#46039f\"],[0.2222222222222222,\"#7201a8\"],[0.3333333333333333,\"#9c179e\"],[0.4444444444444444,\"#bd3786\"],[0.5555555555555556,\"#d8576b\"],[0.6666666666666666,\"#ed7953\"],[0.7777777777777778,\"#fb9f3a\"],[0.8888888888888888,\"#fdca26\"],[1.0,\"#f0f921\"]],\"type\":\"histogram2dcontour\"}],\"histogram2d\":[{\"colorbar\":{\"outlinewidth\":0,\"ticks\":\"\"},\"colorscale\":[[0.0,\"#0d0887\"],[0.1111111111111111,\"#46039f\"],[0.2222222222222222,\"#7201a8\"],[0.3333333333333333,\"#9c179e\"],[0.4444444444444444,\"#bd3786\"],[0.5555555555555556,\"#d8576b\"],[0.6666666666666666,\"#ed7953\"],[0.7777777777777778,\"#fb9f3a\"],[0.8888888888888888,\"#fdca26\"],[1.0,\"#f0f921\"]],\"type\":\"histogram2d\"}],\"histogram\":[{\"marker\":{\"pattern\":{\"fillmode\":\"overlay\",\"size\":10,\"solidity\":0.2}},\"type\":\"histogram\"}],\"mesh3d\":[{\"colorbar\":{\"outlinewidth\":0,\"ticks\":\"\"},\"type\":\"mesh3d\"}],\"parcoords\":[{\"line\":{\"colorbar\":{\"outlinewidth\":0,\"ticks\":\"\"}},\"type\":\"parcoords\"}],\"pie\":[{\"automargin\":true,\"type\":\"pie\"}],\"scatter3d\":[{\"line\":{\"colorbar\":{\"outlinewidth\":0,\"ticks\":\"\"}},\"marker\":{\"colorbar\":{\"outlinewidth\":0,\"ticks\":\"\"}},\"type\":\"scatter3d\"}],\"scattercarpet\":[{\"marker\":{\"colorbar\":{\"outlinewidth\":0,\"ticks\":\"\"}},\"type\":\"scattercarpet\"}],\"scattergeo\":[{\"marker\":{\"colorbar\":{\"outlinewidth\":0,\"ticks\":\"\"}},\"type\":\"scattergeo\"}],\"scattergl\":[{\"marker\":{\"colorbar\":{\"outlinewidth\":0,\"ticks\":\"\"}},\"type\":\"scattergl\"}],\"scattermapbox\":[{\"marker\":{\"colorbar\":{\"outlinewidth\":0,\"ticks\":\"\"}},\"type\":\"scattermapbox\"}],\"scatterpolargl\":[{\"marker\":{\"colorbar\":{\"outlinewidth\":0,\"ticks\":\"\"}},\"type\":\"scatterpolargl\"}],\"scatterpolar\":[{\"marker\":{\"colorbar\":{\"outlinewidth\":0,\"ticks\":\"\"}},\"type\":\"scatterpolar\"}],\"scatter\":[{\"fillpattern\":{\"fillmode\":\"overlay\",\"size\":10,\"solidity\":0.2},\"type\":\"scatter\"}],\"scatterternary\":[{\"marker\":{\"colorbar\":{\"outlinewidth\":0,\"ticks\":\"\"}},\"type\":\"scatterternary\"}],\"surface\":[{\"colorbar\":{\"outlinewidth\":0,\"ticks\":\"\"},\"colorscale\":[[0.0,\"#0d0887\"],[0.1111111111111111,\"#46039f\"],[0.2222222222222222,\"#7201a8\"],[0.3333333333333333,\"#9c179e\"],[0.4444444444444444,\"#bd3786\"],[0.5555555555555556,\"#d8576b\"],[0.6666666666666666,\"#ed7953\"],[0.7777777777777778,\"#fb9f3a\"],[0.8888888888888888,\"#fdca26\"],[1.0,\"#f0f921\"]],\"type\":\"surface\"}],\"table\":[{\"cells\":{\"fill\":{\"color\":\"#EBF0F8\"},\"line\":{\"color\":\"white\"}},\"header\":{\"fill\":{\"color\":\"#C8D4E3\"},\"line\":{\"color\":\"white\"}},\"type\":\"table\"}]},\"layout\":{\"annotationdefaults\":{\"arrowcolor\":\"#2a3f5f\",\"arrowhead\":0,\"arrowwidth\":1},\"autotypenumbers\":\"strict\",\"coloraxis\":{\"colorbar\":{\"outlinewidth\":0,\"ticks\":\"\"}},\"colorscale\":{\"diverging\":[[0,\"#8e0152\"],[0.1,\"#c51b7d\"],[0.2,\"#de77ae\"],[0.3,\"#f1b6da\"],[0.4,\"#fde0ef\"],[0.5,\"#f7f7f7\"],[0.6,\"#e6f5d0\"],[0.7,\"#b8e186\"],[0.8,\"#7fbc41\"],[0.9,\"#4d9221\"],[1,\"#276419\"]],\"sequential\":[[0.0,\"#0d0887\"],[0.1111111111111111,\"#46039f\"],[0.2222222222222222,\"#7201a8\"],[0.3333333333333333,\"#9c179e\"],[0.4444444444444444,\"#bd3786\"],[0.5555555555555556,\"#d8576b\"],[0.6666666666666666,\"#ed7953\"],[0.7777777777777778,\"#fb9f3a\"],[0.8888888888888888,\"#fdca26\"],[1.0,\"#f0f921\"]],\"sequentialminus\":[[0.0,\"#0d0887\"],[0.1111111111111111,\"#46039f\"],[0.2222222222222222,\"#7201a8\"],[0.3333333333333333,\"#9c179e\"],[0.4444444444444444,\"#bd3786\"],[0.5555555555555556,\"#d8576b\"],[0.6666666666666666,\"#ed7953\"],[0.7777777777777778,\"#fb9f3a\"],[0.8888888888888888,\"#fdca26\"],[1.0,\"#f0f921\"]]},\"colorway\":[\"#636efa\",\"#EF553B\",\"#00cc96\",\"#ab63fa\",\"#FFA15A\",\"#19d3f3\",\"#FF6692\",\"#B6E880\",\"#FF97FF\",\"#FECB52\"],\"font\":{\"color\":\"#2a3f5f\"},\"geo\":{\"bgcolor\":\"white\",\"lakecolor\":\"white\",\"landcolor\":\"#E5ECF6\",\"showlakes\":true,\"showland\":true,\"subunitcolor\":\"white\"},\"hoverlabel\":{\"align\":\"left\"},\"hovermode\":\"closest\",\"mapbox\":{\"style\":\"light\"},\"paper_bgcolor\":\"white\",\"plot_bgcolor\":\"#E5ECF6\",\"polar\":{\"angularaxis\":{\"gridcolor\":\"white\",\"linecolor\":\"white\",\"ticks\":\"\"},\"bgcolor\":\"#E5ECF6\",\"radialaxis\":{\"gridcolor\":\"white\",\"linecolor\":\"white\",\"ticks\":\"\"}},\"scene\":{\"xaxis\":{\"backgroundcolor\":\"#E5ECF6\",\"gridcolor\":\"white\",\"gridwidth\":2,\"linecolor\":\"white\",\"showbackground\":true,\"ticks\":\"\",\"zerolinecolor\":\"white\"},\"yaxis\":{\"backgroundcolor\":\"#E5ECF6\",\"gridcolor\":\"white\",\"gridwidth\":2,\"linecolor\":\"white\",\"showbackground\":true,\"ticks\":\"\",\"zerolinecolor\":\"white\"},\"zaxis\":{\"backgroundcolor\":\"#E5ECF6\",\"gridcolor\":\"white\",\"gridwidth\":2,\"linecolor\":\"white\",\"showbackground\":true,\"ticks\":\"\",\"zerolinecolor\":\"white\"}},\"shapedefaults\":{\"line\":{\"color\":\"#2a3f5f\"}},\"ternary\":{\"aaxis\":{\"gridcolor\":\"white\",\"linecolor\":\"white\",\"ticks\":\"\"},\"baxis\":{\"gridcolor\":\"white\",\"linecolor\":\"white\",\"ticks\":\"\"},\"bgcolor\":\"#E5ECF6\",\"caxis\":{\"gridcolor\":\"white\",\"linecolor\":\"white\",\"ticks\":\"\"}},\"title\":{\"x\":0.05},\"xaxis\":{\"automargin\":true,\"gridcolor\":\"white\",\"linecolor\":\"white\",\"ticks\":\"\",\"title\":{\"standoff\":15},\"zerolinecolor\":\"white\",\"zerolinewidth\":2},\"yaxis\":{\"automargin\":true,\"gridcolor\":\"white\",\"linecolor\":\"white\",\"ticks\":\"\",\"title\":{\"standoff\":15},\"zerolinecolor\":\"white\",\"zerolinewidth\":2}}},\"title\":{\"text\":\"Count of class variable in train dataset\"}},                        {\"responsive\": true}                    ).then(function(){\n",
       "                            \n",
       "var gd = document.getElementById('3aa68601-7b61-48f9-afa4-ab37e17087f9');\n",
       "var x = new MutationObserver(function (mutations, observer) {{\n",
       "        var display = window.getComputedStyle(gd).display;\n",
       "        if (!display || display === 'none') {{\n",
       "            console.log([gd, 'removed!']);\n",
       "            Plotly.purge(gd);\n",
       "            observer.disconnect();\n",
       "        }}\n",
       "}});\n",
       "\n",
       "// Listen for the removal of the full notebook cells\n",
       "var notebookContainer = gd.closest('#notebook-container');\n",
       "if (notebookContainer) {{\n",
       "    x.observe(notebookContainer, {childList: true});\n",
       "}}\n",
       "\n",
       "// Listen for the clearing of the current output cell\n",
       "var outputEl = gd.closest('.output');\n",
       "if (outputEl) {{\n",
       "    x.observe(outputEl, {childList: true});\n",
       "}}\n",
       "\n",
       "                        })                };                });            </script>        </div>"
      ]
     },
     "metadata": {},
     "output_type": "display_data"
    }
   ],
   "source": [
    "Pneumonia = df_train[(df_train['class'] == 'Pneumonia')]\n",
    "Normal = df_train[(df_train['class'] == 'Normal')]\n",
    "\n",
    "trace = go.Bar(x = (len(Pneumonia), len(Normal)), y = ['Pneumonia', 'Normal'], orientation = 'h', opacity = 0.8, marker=dict(\n",
    "        color=['gold', 'lightskyblue'],\n",
    "        line=dict(color='#000000',width=1.5)))\n",
    "\n",
    "layout = dict(title =  'Count of class variable in train dataset')\n",
    "                    \n",
    "fig = dict(data = [trace], layout=layout)\n",
    "py.iplot(fig)"
   ]
  },
  {
   "cell_type": "code",
   "execution_count": 8,
   "id": "f892b6c4",
   "metadata": {},
   "outputs": [
    {
     "data": {
      "application/vnd.plotly.v1+json": {
       "config": {
        "linkText": "Export to plot.ly",
        "plotlyServerURL": "https://plot.ly",
        "showLink": false
       },
       "data": [
        {
         "labels": [
          "Pneumonia",
          "Normal"
         ],
         "marker": {
          "colors": [
           "lightskyblue",
           "gold"
          ],
          "line": {
           "color": "#000000",
           "width": 1.5
          }
         },
         "opacity": 0.8,
         "textfont": {
          "size": 15
         },
         "type": "pie",
         "values": [
          3875,
          1341
         ]
        }
       ],
       "layout": {
        "template": {
         "data": {
          "bar": [
           {
            "error_x": {
             "color": "#2a3f5f"
            },
            "error_y": {
             "color": "#2a3f5f"
            },
            "marker": {
             "line": {
              "color": "#E5ECF6",
              "width": 0.5
             },
             "pattern": {
              "fillmode": "overlay",
              "size": 10,
              "solidity": 0.2
             }
            },
            "type": "bar"
           }
          ],
          "barpolar": [
           {
            "marker": {
             "line": {
              "color": "#E5ECF6",
              "width": 0.5
             },
             "pattern": {
              "fillmode": "overlay",
              "size": 10,
              "solidity": 0.2
             }
            },
            "type": "barpolar"
           }
          ],
          "carpet": [
           {
            "aaxis": {
             "endlinecolor": "#2a3f5f",
             "gridcolor": "white",
             "linecolor": "white",
             "minorgridcolor": "white",
             "startlinecolor": "#2a3f5f"
            },
            "baxis": {
             "endlinecolor": "#2a3f5f",
             "gridcolor": "white",
             "linecolor": "white",
             "minorgridcolor": "white",
             "startlinecolor": "#2a3f5f"
            },
            "type": "carpet"
           }
          ],
          "choropleth": [
           {
            "colorbar": {
             "outlinewidth": 0,
             "ticks": ""
            },
            "type": "choropleth"
           }
          ],
          "contour": [
           {
            "colorbar": {
             "outlinewidth": 0,
             "ticks": ""
            },
            "colorscale": [
             [
              0,
              "#0d0887"
             ],
             [
              0.1111111111111111,
              "#46039f"
             ],
             [
              0.2222222222222222,
              "#7201a8"
             ],
             [
              0.3333333333333333,
              "#9c179e"
             ],
             [
              0.4444444444444444,
              "#bd3786"
             ],
             [
              0.5555555555555556,
              "#d8576b"
             ],
             [
              0.6666666666666666,
              "#ed7953"
             ],
             [
              0.7777777777777778,
              "#fb9f3a"
             ],
             [
              0.8888888888888888,
              "#fdca26"
             ],
             [
              1,
              "#f0f921"
             ]
            ],
            "type": "contour"
           }
          ],
          "contourcarpet": [
           {
            "colorbar": {
             "outlinewidth": 0,
             "ticks": ""
            },
            "type": "contourcarpet"
           }
          ],
          "heatmap": [
           {
            "colorbar": {
             "outlinewidth": 0,
             "ticks": ""
            },
            "colorscale": [
             [
              0,
              "#0d0887"
             ],
             [
              0.1111111111111111,
              "#46039f"
             ],
             [
              0.2222222222222222,
              "#7201a8"
             ],
             [
              0.3333333333333333,
              "#9c179e"
             ],
             [
              0.4444444444444444,
              "#bd3786"
             ],
             [
              0.5555555555555556,
              "#d8576b"
             ],
             [
              0.6666666666666666,
              "#ed7953"
             ],
             [
              0.7777777777777778,
              "#fb9f3a"
             ],
             [
              0.8888888888888888,
              "#fdca26"
             ],
             [
              1,
              "#f0f921"
             ]
            ],
            "type": "heatmap"
           }
          ],
          "heatmapgl": [
           {
            "colorbar": {
             "outlinewidth": 0,
             "ticks": ""
            },
            "colorscale": [
             [
              0,
              "#0d0887"
             ],
             [
              0.1111111111111111,
              "#46039f"
             ],
             [
              0.2222222222222222,
              "#7201a8"
             ],
             [
              0.3333333333333333,
              "#9c179e"
             ],
             [
              0.4444444444444444,
              "#bd3786"
             ],
             [
              0.5555555555555556,
              "#d8576b"
             ],
             [
              0.6666666666666666,
              "#ed7953"
             ],
             [
              0.7777777777777778,
              "#fb9f3a"
             ],
             [
              0.8888888888888888,
              "#fdca26"
             ],
             [
              1,
              "#f0f921"
             ]
            ],
            "type": "heatmapgl"
           }
          ],
          "histogram": [
           {
            "marker": {
             "pattern": {
              "fillmode": "overlay",
              "size": 10,
              "solidity": 0.2
             }
            },
            "type": "histogram"
           }
          ],
          "histogram2d": [
           {
            "colorbar": {
             "outlinewidth": 0,
             "ticks": ""
            },
            "colorscale": [
             [
              0,
              "#0d0887"
             ],
             [
              0.1111111111111111,
              "#46039f"
             ],
             [
              0.2222222222222222,
              "#7201a8"
             ],
             [
              0.3333333333333333,
              "#9c179e"
             ],
             [
              0.4444444444444444,
              "#bd3786"
             ],
             [
              0.5555555555555556,
              "#d8576b"
             ],
             [
              0.6666666666666666,
              "#ed7953"
             ],
             [
              0.7777777777777778,
              "#fb9f3a"
             ],
             [
              0.8888888888888888,
              "#fdca26"
             ],
             [
              1,
              "#f0f921"
             ]
            ],
            "type": "histogram2d"
           }
          ],
          "histogram2dcontour": [
           {
            "colorbar": {
             "outlinewidth": 0,
             "ticks": ""
            },
            "colorscale": [
             [
              0,
              "#0d0887"
             ],
             [
              0.1111111111111111,
              "#46039f"
             ],
             [
              0.2222222222222222,
              "#7201a8"
             ],
             [
              0.3333333333333333,
              "#9c179e"
             ],
             [
              0.4444444444444444,
              "#bd3786"
             ],
             [
              0.5555555555555556,
              "#d8576b"
             ],
             [
              0.6666666666666666,
              "#ed7953"
             ],
             [
              0.7777777777777778,
              "#fb9f3a"
             ],
             [
              0.8888888888888888,
              "#fdca26"
             ],
             [
              1,
              "#f0f921"
             ]
            ],
            "type": "histogram2dcontour"
           }
          ],
          "mesh3d": [
           {
            "colorbar": {
             "outlinewidth": 0,
             "ticks": ""
            },
            "type": "mesh3d"
           }
          ],
          "parcoords": [
           {
            "line": {
             "colorbar": {
              "outlinewidth": 0,
              "ticks": ""
             }
            },
            "type": "parcoords"
           }
          ],
          "pie": [
           {
            "automargin": true,
            "type": "pie"
           }
          ],
          "scatter": [
           {
            "fillpattern": {
             "fillmode": "overlay",
             "size": 10,
             "solidity": 0.2
            },
            "type": "scatter"
           }
          ],
          "scatter3d": [
           {
            "line": {
             "colorbar": {
              "outlinewidth": 0,
              "ticks": ""
             }
            },
            "marker": {
             "colorbar": {
              "outlinewidth": 0,
              "ticks": ""
             }
            },
            "type": "scatter3d"
           }
          ],
          "scattercarpet": [
           {
            "marker": {
             "colorbar": {
              "outlinewidth": 0,
              "ticks": ""
             }
            },
            "type": "scattercarpet"
           }
          ],
          "scattergeo": [
           {
            "marker": {
             "colorbar": {
              "outlinewidth": 0,
              "ticks": ""
             }
            },
            "type": "scattergeo"
           }
          ],
          "scattergl": [
           {
            "marker": {
             "colorbar": {
              "outlinewidth": 0,
              "ticks": ""
             }
            },
            "type": "scattergl"
           }
          ],
          "scattermapbox": [
           {
            "marker": {
             "colorbar": {
              "outlinewidth": 0,
              "ticks": ""
             }
            },
            "type": "scattermapbox"
           }
          ],
          "scatterpolar": [
           {
            "marker": {
             "colorbar": {
              "outlinewidth": 0,
              "ticks": ""
             }
            },
            "type": "scatterpolar"
           }
          ],
          "scatterpolargl": [
           {
            "marker": {
             "colorbar": {
              "outlinewidth": 0,
              "ticks": ""
             }
            },
            "type": "scatterpolargl"
           }
          ],
          "scatterternary": [
           {
            "marker": {
             "colorbar": {
              "outlinewidth": 0,
              "ticks": ""
             }
            },
            "type": "scatterternary"
           }
          ],
          "surface": [
           {
            "colorbar": {
             "outlinewidth": 0,
             "ticks": ""
            },
            "colorscale": [
             [
              0,
              "#0d0887"
             ],
             [
              0.1111111111111111,
              "#46039f"
             ],
             [
              0.2222222222222222,
              "#7201a8"
             ],
             [
              0.3333333333333333,
              "#9c179e"
             ],
             [
              0.4444444444444444,
              "#bd3786"
             ],
             [
              0.5555555555555556,
              "#d8576b"
             ],
             [
              0.6666666666666666,
              "#ed7953"
             ],
             [
              0.7777777777777778,
              "#fb9f3a"
             ],
             [
              0.8888888888888888,
              "#fdca26"
             ],
             [
              1,
              "#f0f921"
             ]
            ],
            "type": "surface"
           }
          ],
          "table": [
           {
            "cells": {
             "fill": {
              "color": "#EBF0F8"
             },
             "line": {
              "color": "white"
             }
            },
            "header": {
             "fill": {
              "color": "#C8D4E3"
             },
             "line": {
              "color": "white"
             }
            },
            "type": "table"
           }
          ]
         },
         "layout": {
          "annotationdefaults": {
           "arrowcolor": "#2a3f5f",
           "arrowhead": 0,
           "arrowwidth": 1
          },
          "autotypenumbers": "strict",
          "coloraxis": {
           "colorbar": {
            "outlinewidth": 0,
            "ticks": ""
           }
          },
          "colorscale": {
           "diverging": [
            [
             0,
             "#8e0152"
            ],
            [
             0.1,
             "#c51b7d"
            ],
            [
             0.2,
             "#de77ae"
            ],
            [
             0.3,
             "#f1b6da"
            ],
            [
             0.4,
             "#fde0ef"
            ],
            [
             0.5,
             "#f7f7f7"
            ],
            [
             0.6,
             "#e6f5d0"
            ],
            [
             0.7,
             "#b8e186"
            ],
            [
             0.8,
             "#7fbc41"
            ],
            [
             0.9,
             "#4d9221"
            ],
            [
             1,
             "#276419"
            ]
           ],
           "sequential": [
            [
             0,
             "#0d0887"
            ],
            [
             0.1111111111111111,
             "#46039f"
            ],
            [
             0.2222222222222222,
             "#7201a8"
            ],
            [
             0.3333333333333333,
             "#9c179e"
            ],
            [
             0.4444444444444444,
             "#bd3786"
            ],
            [
             0.5555555555555556,
             "#d8576b"
            ],
            [
             0.6666666666666666,
             "#ed7953"
            ],
            [
             0.7777777777777778,
             "#fb9f3a"
            ],
            [
             0.8888888888888888,
             "#fdca26"
            ],
            [
             1,
             "#f0f921"
            ]
           ],
           "sequentialminus": [
            [
             0,
             "#0d0887"
            ],
            [
             0.1111111111111111,
             "#46039f"
            ],
            [
             0.2222222222222222,
             "#7201a8"
            ],
            [
             0.3333333333333333,
             "#9c179e"
            ],
            [
             0.4444444444444444,
             "#bd3786"
            ],
            [
             0.5555555555555556,
             "#d8576b"
            ],
            [
             0.6666666666666666,
             "#ed7953"
            ],
            [
             0.7777777777777778,
             "#fb9f3a"
            ],
            [
             0.8888888888888888,
             "#fdca26"
            ],
            [
             1,
             "#f0f921"
            ]
           ]
          },
          "colorway": [
           "#636efa",
           "#EF553B",
           "#00cc96",
           "#ab63fa",
           "#FFA15A",
           "#19d3f3",
           "#FF6692",
           "#B6E880",
           "#FF97FF",
           "#FECB52"
          ],
          "font": {
           "color": "#2a3f5f"
          },
          "geo": {
           "bgcolor": "white",
           "lakecolor": "white",
           "landcolor": "#E5ECF6",
           "showlakes": true,
           "showland": true,
           "subunitcolor": "white"
          },
          "hoverlabel": {
           "align": "left"
          },
          "hovermode": "closest",
          "mapbox": {
           "style": "light"
          },
          "paper_bgcolor": "white",
          "plot_bgcolor": "#E5ECF6",
          "polar": {
           "angularaxis": {
            "gridcolor": "white",
            "linecolor": "white",
            "ticks": ""
           },
           "bgcolor": "#E5ECF6",
           "radialaxis": {
            "gridcolor": "white",
            "linecolor": "white",
            "ticks": ""
           }
          },
          "scene": {
           "xaxis": {
            "backgroundcolor": "#E5ECF6",
            "gridcolor": "white",
            "gridwidth": 2,
            "linecolor": "white",
            "showbackground": true,
            "ticks": "",
            "zerolinecolor": "white"
           },
           "yaxis": {
            "backgroundcolor": "#E5ECF6",
            "gridcolor": "white",
            "gridwidth": 2,
            "linecolor": "white",
            "showbackground": true,
            "ticks": "",
            "zerolinecolor": "white"
           },
           "zaxis": {
            "backgroundcolor": "#E5ECF6",
            "gridcolor": "white",
            "gridwidth": 2,
            "linecolor": "white",
            "showbackground": true,
            "ticks": "",
            "zerolinecolor": "white"
           }
          },
          "shapedefaults": {
           "line": {
            "color": "#2a3f5f"
           }
          },
          "ternary": {
           "aaxis": {
            "gridcolor": "white",
            "linecolor": "white",
            "ticks": ""
           },
           "baxis": {
            "gridcolor": "white",
            "linecolor": "white",
            "ticks": ""
           },
           "bgcolor": "#E5ECF6",
           "caxis": {
            "gridcolor": "white",
            "linecolor": "white",
            "ticks": ""
           }
          },
          "title": {
           "x": 0.05
          },
          "xaxis": {
           "automargin": true,
           "gridcolor": "white",
           "linecolor": "white",
           "ticks": "",
           "title": {
            "standoff": 15
           },
           "zerolinecolor": "white",
           "zerolinewidth": 2
          },
          "yaxis": {
           "automargin": true,
           "gridcolor": "white",
           "linecolor": "white",
           "ticks": "",
           "title": {
            "standoff": 15
           },
           "zerolinecolor": "white",
           "zerolinewidth": 2
          }
         }
        },
        "title": {
         "text": "Distribution of class variable in train dataset"
        }
       }
      },
      "text/html": [
       "<div>                            <div id=\"0e5839ce-518e-45c0-a7cd-4d59eb653b52\" class=\"plotly-graph-div\" style=\"height:525px; width:100%;\"></div>            <script type=\"text/javascript\">                require([\"plotly\"], function(Plotly) {                    window.PLOTLYENV=window.PLOTLYENV || {};                                    if (document.getElementById(\"0e5839ce-518e-45c0-a7cd-4d59eb653b52\")) {                    Plotly.newPlot(                        \"0e5839ce-518e-45c0-a7cd-4d59eb653b52\",                        [{\"labels\":[\"Pneumonia\",\"Normal\"],\"marker\":{\"colors\":[\"lightskyblue\",\"gold\"],\"line\":{\"color\":\"#000000\",\"width\":1.5}},\"opacity\":0.8,\"textfont\":{\"size\":15},\"values\":[3875,1341],\"type\":\"pie\"}],                        {\"template\":{\"data\":{\"barpolar\":[{\"marker\":{\"line\":{\"color\":\"#E5ECF6\",\"width\":0.5},\"pattern\":{\"fillmode\":\"overlay\",\"size\":10,\"solidity\":0.2}},\"type\":\"barpolar\"}],\"bar\":[{\"error_x\":{\"color\":\"#2a3f5f\"},\"error_y\":{\"color\":\"#2a3f5f\"},\"marker\":{\"line\":{\"color\":\"#E5ECF6\",\"width\":0.5},\"pattern\":{\"fillmode\":\"overlay\",\"size\":10,\"solidity\":0.2}},\"type\":\"bar\"}],\"carpet\":[{\"aaxis\":{\"endlinecolor\":\"#2a3f5f\",\"gridcolor\":\"white\",\"linecolor\":\"white\",\"minorgridcolor\":\"white\",\"startlinecolor\":\"#2a3f5f\"},\"baxis\":{\"endlinecolor\":\"#2a3f5f\",\"gridcolor\":\"white\",\"linecolor\":\"white\",\"minorgridcolor\":\"white\",\"startlinecolor\":\"#2a3f5f\"},\"type\":\"carpet\"}],\"choropleth\":[{\"colorbar\":{\"outlinewidth\":0,\"ticks\":\"\"},\"type\":\"choropleth\"}],\"contourcarpet\":[{\"colorbar\":{\"outlinewidth\":0,\"ticks\":\"\"},\"type\":\"contourcarpet\"}],\"contour\":[{\"colorbar\":{\"outlinewidth\":0,\"ticks\":\"\"},\"colorscale\":[[0.0,\"#0d0887\"],[0.1111111111111111,\"#46039f\"],[0.2222222222222222,\"#7201a8\"],[0.3333333333333333,\"#9c179e\"],[0.4444444444444444,\"#bd3786\"],[0.5555555555555556,\"#d8576b\"],[0.6666666666666666,\"#ed7953\"],[0.7777777777777778,\"#fb9f3a\"],[0.8888888888888888,\"#fdca26\"],[1.0,\"#f0f921\"]],\"type\":\"contour\"}],\"heatmapgl\":[{\"colorbar\":{\"outlinewidth\":0,\"ticks\":\"\"},\"colorscale\":[[0.0,\"#0d0887\"],[0.1111111111111111,\"#46039f\"],[0.2222222222222222,\"#7201a8\"],[0.3333333333333333,\"#9c179e\"],[0.4444444444444444,\"#bd3786\"],[0.5555555555555556,\"#d8576b\"],[0.6666666666666666,\"#ed7953\"],[0.7777777777777778,\"#fb9f3a\"],[0.8888888888888888,\"#fdca26\"],[1.0,\"#f0f921\"]],\"type\":\"heatmapgl\"}],\"heatmap\":[{\"colorbar\":{\"outlinewidth\":0,\"ticks\":\"\"},\"colorscale\":[[0.0,\"#0d0887\"],[0.1111111111111111,\"#46039f\"],[0.2222222222222222,\"#7201a8\"],[0.3333333333333333,\"#9c179e\"],[0.4444444444444444,\"#bd3786\"],[0.5555555555555556,\"#d8576b\"],[0.6666666666666666,\"#ed7953\"],[0.7777777777777778,\"#fb9f3a\"],[0.8888888888888888,\"#fdca26\"],[1.0,\"#f0f921\"]],\"type\":\"heatmap\"}],\"histogram2dcontour\":[{\"colorbar\":{\"outlinewidth\":0,\"ticks\":\"\"},\"colorscale\":[[0.0,\"#0d0887\"],[0.1111111111111111,\"#46039f\"],[0.2222222222222222,\"#7201a8\"],[0.3333333333333333,\"#9c179e\"],[0.4444444444444444,\"#bd3786\"],[0.5555555555555556,\"#d8576b\"],[0.6666666666666666,\"#ed7953\"],[0.7777777777777778,\"#fb9f3a\"],[0.8888888888888888,\"#fdca26\"],[1.0,\"#f0f921\"]],\"type\":\"histogram2dcontour\"}],\"histogram2d\":[{\"colorbar\":{\"outlinewidth\":0,\"ticks\":\"\"},\"colorscale\":[[0.0,\"#0d0887\"],[0.1111111111111111,\"#46039f\"],[0.2222222222222222,\"#7201a8\"],[0.3333333333333333,\"#9c179e\"],[0.4444444444444444,\"#bd3786\"],[0.5555555555555556,\"#d8576b\"],[0.6666666666666666,\"#ed7953\"],[0.7777777777777778,\"#fb9f3a\"],[0.8888888888888888,\"#fdca26\"],[1.0,\"#f0f921\"]],\"type\":\"histogram2d\"}],\"histogram\":[{\"marker\":{\"pattern\":{\"fillmode\":\"overlay\",\"size\":10,\"solidity\":0.2}},\"type\":\"histogram\"}],\"mesh3d\":[{\"colorbar\":{\"outlinewidth\":0,\"ticks\":\"\"},\"type\":\"mesh3d\"}],\"parcoords\":[{\"line\":{\"colorbar\":{\"outlinewidth\":0,\"ticks\":\"\"}},\"type\":\"parcoords\"}],\"pie\":[{\"automargin\":true,\"type\":\"pie\"}],\"scatter3d\":[{\"line\":{\"colorbar\":{\"outlinewidth\":0,\"ticks\":\"\"}},\"marker\":{\"colorbar\":{\"outlinewidth\":0,\"ticks\":\"\"}},\"type\":\"scatter3d\"}],\"scattercarpet\":[{\"marker\":{\"colorbar\":{\"outlinewidth\":0,\"ticks\":\"\"}},\"type\":\"scattercarpet\"}],\"scattergeo\":[{\"marker\":{\"colorbar\":{\"outlinewidth\":0,\"ticks\":\"\"}},\"type\":\"scattergeo\"}],\"scattergl\":[{\"marker\":{\"colorbar\":{\"outlinewidth\":0,\"ticks\":\"\"}},\"type\":\"scattergl\"}],\"scattermapbox\":[{\"marker\":{\"colorbar\":{\"outlinewidth\":0,\"ticks\":\"\"}},\"type\":\"scattermapbox\"}],\"scatterpolargl\":[{\"marker\":{\"colorbar\":{\"outlinewidth\":0,\"ticks\":\"\"}},\"type\":\"scatterpolargl\"}],\"scatterpolar\":[{\"marker\":{\"colorbar\":{\"outlinewidth\":0,\"ticks\":\"\"}},\"type\":\"scatterpolar\"}],\"scatter\":[{\"fillpattern\":{\"fillmode\":\"overlay\",\"size\":10,\"solidity\":0.2},\"type\":\"scatter\"}],\"scatterternary\":[{\"marker\":{\"colorbar\":{\"outlinewidth\":0,\"ticks\":\"\"}},\"type\":\"scatterternary\"}],\"surface\":[{\"colorbar\":{\"outlinewidth\":0,\"ticks\":\"\"},\"colorscale\":[[0.0,\"#0d0887\"],[0.1111111111111111,\"#46039f\"],[0.2222222222222222,\"#7201a8\"],[0.3333333333333333,\"#9c179e\"],[0.4444444444444444,\"#bd3786\"],[0.5555555555555556,\"#d8576b\"],[0.6666666666666666,\"#ed7953\"],[0.7777777777777778,\"#fb9f3a\"],[0.8888888888888888,\"#fdca26\"],[1.0,\"#f0f921\"]],\"type\":\"surface\"}],\"table\":[{\"cells\":{\"fill\":{\"color\":\"#EBF0F8\"},\"line\":{\"color\":\"white\"}},\"header\":{\"fill\":{\"color\":\"#C8D4E3\"},\"line\":{\"color\":\"white\"}},\"type\":\"table\"}]},\"layout\":{\"annotationdefaults\":{\"arrowcolor\":\"#2a3f5f\",\"arrowhead\":0,\"arrowwidth\":1},\"autotypenumbers\":\"strict\",\"coloraxis\":{\"colorbar\":{\"outlinewidth\":0,\"ticks\":\"\"}},\"colorscale\":{\"diverging\":[[0,\"#8e0152\"],[0.1,\"#c51b7d\"],[0.2,\"#de77ae\"],[0.3,\"#f1b6da\"],[0.4,\"#fde0ef\"],[0.5,\"#f7f7f7\"],[0.6,\"#e6f5d0\"],[0.7,\"#b8e186\"],[0.8,\"#7fbc41\"],[0.9,\"#4d9221\"],[1,\"#276419\"]],\"sequential\":[[0.0,\"#0d0887\"],[0.1111111111111111,\"#46039f\"],[0.2222222222222222,\"#7201a8\"],[0.3333333333333333,\"#9c179e\"],[0.4444444444444444,\"#bd3786\"],[0.5555555555555556,\"#d8576b\"],[0.6666666666666666,\"#ed7953\"],[0.7777777777777778,\"#fb9f3a\"],[0.8888888888888888,\"#fdca26\"],[1.0,\"#f0f921\"]],\"sequentialminus\":[[0.0,\"#0d0887\"],[0.1111111111111111,\"#46039f\"],[0.2222222222222222,\"#7201a8\"],[0.3333333333333333,\"#9c179e\"],[0.4444444444444444,\"#bd3786\"],[0.5555555555555556,\"#d8576b\"],[0.6666666666666666,\"#ed7953\"],[0.7777777777777778,\"#fb9f3a\"],[0.8888888888888888,\"#fdca26\"],[1.0,\"#f0f921\"]]},\"colorway\":[\"#636efa\",\"#EF553B\",\"#00cc96\",\"#ab63fa\",\"#FFA15A\",\"#19d3f3\",\"#FF6692\",\"#B6E880\",\"#FF97FF\",\"#FECB52\"],\"font\":{\"color\":\"#2a3f5f\"},\"geo\":{\"bgcolor\":\"white\",\"lakecolor\":\"white\",\"landcolor\":\"#E5ECF6\",\"showlakes\":true,\"showland\":true,\"subunitcolor\":\"white\"},\"hoverlabel\":{\"align\":\"left\"},\"hovermode\":\"closest\",\"mapbox\":{\"style\":\"light\"},\"paper_bgcolor\":\"white\",\"plot_bgcolor\":\"#E5ECF6\",\"polar\":{\"angularaxis\":{\"gridcolor\":\"white\",\"linecolor\":\"white\",\"ticks\":\"\"},\"bgcolor\":\"#E5ECF6\",\"radialaxis\":{\"gridcolor\":\"white\",\"linecolor\":\"white\",\"ticks\":\"\"}},\"scene\":{\"xaxis\":{\"backgroundcolor\":\"#E5ECF6\",\"gridcolor\":\"white\",\"gridwidth\":2,\"linecolor\":\"white\",\"showbackground\":true,\"ticks\":\"\",\"zerolinecolor\":\"white\"},\"yaxis\":{\"backgroundcolor\":\"#E5ECF6\",\"gridcolor\":\"white\",\"gridwidth\":2,\"linecolor\":\"white\",\"showbackground\":true,\"ticks\":\"\",\"zerolinecolor\":\"white\"},\"zaxis\":{\"backgroundcolor\":\"#E5ECF6\",\"gridcolor\":\"white\",\"gridwidth\":2,\"linecolor\":\"white\",\"showbackground\":true,\"ticks\":\"\",\"zerolinecolor\":\"white\"}},\"shapedefaults\":{\"line\":{\"color\":\"#2a3f5f\"}},\"ternary\":{\"aaxis\":{\"gridcolor\":\"white\",\"linecolor\":\"white\",\"ticks\":\"\"},\"baxis\":{\"gridcolor\":\"white\",\"linecolor\":\"white\",\"ticks\":\"\"},\"bgcolor\":\"#E5ECF6\",\"caxis\":{\"gridcolor\":\"white\",\"linecolor\":\"white\",\"ticks\":\"\"}},\"title\":{\"x\":0.05},\"xaxis\":{\"automargin\":true,\"gridcolor\":\"white\",\"linecolor\":\"white\",\"ticks\":\"\",\"title\":{\"standoff\":15},\"zerolinecolor\":\"white\",\"zerolinewidth\":2},\"yaxis\":{\"automargin\":true,\"gridcolor\":\"white\",\"linecolor\":\"white\",\"ticks\":\"\",\"title\":{\"standoff\":15},\"zerolinecolor\":\"white\",\"zerolinewidth\":2}}},\"title\":{\"text\":\"Distribution of class variable in train dataset\"}},                        {\"responsive\": true}                    ).then(function(){\n",
       "                            \n",
       "var gd = document.getElementById('0e5839ce-518e-45c0-a7cd-4d59eb653b52');\n",
       "var x = new MutationObserver(function (mutations, observer) {{\n",
       "        var display = window.getComputedStyle(gd).display;\n",
       "        if (!display || display === 'none') {{\n",
       "            console.log([gd, 'removed!']);\n",
       "            Plotly.purge(gd);\n",
       "            observer.disconnect();\n",
       "        }}\n",
       "}});\n",
       "\n",
       "// Listen for the removal of the full notebook cells\n",
       "var notebookContainer = gd.closest('#notebook-container');\n",
       "if (notebookContainer) {{\n",
       "    x.observe(notebookContainer, {childList: true});\n",
       "}}\n",
       "\n",
       "// Listen for the clearing of the current output cell\n",
       "var outputEl = gd.closest('.output');\n",
       "if (outputEl) {{\n",
       "    x.observe(outputEl, {childList: true});\n",
       "}}\n",
       "\n",
       "                        })                };                });            </script>        </div>"
      ]
     },
     "metadata": {},
     "output_type": "display_data"
    }
   ],
   "source": [
    "trace = go.Pie(labels = ['Pneumonia', 'Normal'], values = df_train['class'].value_counts(), \n",
    "               textfont=dict(size=15), opacity = 0.8,\n",
    "               marker=dict(colors=['lightskyblue','gold'], \n",
    "                           line=dict(color='#000000', width=1.5)))\n",
    "\n",
    "\n",
    "layout = dict(title =  'Distribution of class variable in train dataset')\n",
    "           \n",
    "fig = dict(data = [trace], layout=layout)\n",
    "py.iplot(fig)"
   ]
  },
  {
   "cell_type": "code",
   "execution_count": 9,
   "id": "190b096b",
   "metadata": {},
   "outputs": [
    {
     "data": {
      "application/vnd.plotly.v1+json": {
       "config": {
        "linkText": "Export to plot.ly",
        "plotlyServerURL": "https://plot.ly",
        "showLink": false
       },
       "data": [
        {
         "marker": {
          "color": [
           "gold",
           "lightskyblue"
          ],
          "line": {
           "color": "#000000",
           "width": 1.5
          }
         },
         "opacity": 0.8,
         "orientation": "h",
         "type": "bar",
         "x": [
          390,
          234
         ],
         "y": [
          "Pneumonia",
          "Normal"
         ]
        }
       ],
       "layout": {
        "template": {
         "data": {
          "bar": [
           {
            "error_x": {
             "color": "#2a3f5f"
            },
            "error_y": {
             "color": "#2a3f5f"
            },
            "marker": {
             "line": {
              "color": "#E5ECF6",
              "width": 0.5
             },
             "pattern": {
              "fillmode": "overlay",
              "size": 10,
              "solidity": 0.2
             }
            },
            "type": "bar"
           }
          ],
          "barpolar": [
           {
            "marker": {
             "line": {
              "color": "#E5ECF6",
              "width": 0.5
             },
             "pattern": {
              "fillmode": "overlay",
              "size": 10,
              "solidity": 0.2
             }
            },
            "type": "barpolar"
           }
          ],
          "carpet": [
           {
            "aaxis": {
             "endlinecolor": "#2a3f5f",
             "gridcolor": "white",
             "linecolor": "white",
             "minorgridcolor": "white",
             "startlinecolor": "#2a3f5f"
            },
            "baxis": {
             "endlinecolor": "#2a3f5f",
             "gridcolor": "white",
             "linecolor": "white",
             "minorgridcolor": "white",
             "startlinecolor": "#2a3f5f"
            },
            "type": "carpet"
           }
          ],
          "choropleth": [
           {
            "colorbar": {
             "outlinewidth": 0,
             "ticks": ""
            },
            "type": "choropleth"
           }
          ],
          "contour": [
           {
            "colorbar": {
             "outlinewidth": 0,
             "ticks": ""
            },
            "colorscale": [
             [
              0,
              "#0d0887"
             ],
             [
              0.1111111111111111,
              "#46039f"
             ],
             [
              0.2222222222222222,
              "#7201a8"
             ],
             [
              0.3333333333333333,
              "#9c179e"
             ],
             [
              0.4444444444444444,
              "#bd3786"
             ],
             [
              0.5555555555555556,
              "#d8576b"
             ],
             [
              0.6666666666666666,
              "#ed7953"
             ],
             [
              0.7777777777777778,
              "#fb9f3a"
             ],
             [
              0.8888888888888888,
              "#fdca26"
             ],
             [
              1,
              "#f0f921"
             ]
            ],
            "type": "contour"
           }
          ],
          "contourcarpet": [
           {
            "colorbar": {
             "outlinewidth": 0,
             "ticks": ""
            },
            "type": "contourcarpet"
           }
          ],
          "heatmap": [
           {
            "colorbar": {
             "outlinewidth": 0,
             "ticks": ""
            },
            "colorscale": [
             [
              0,
              "#0d0887"
             ],
             [
              0.1111111111111111,
              "#46039f"
             ],
             [
              0.2222222222222222,
              "#7201a8"
             ],
             [
              0.3333333333333333,
              "#9c179e"
             ],
             [
              0.4444444444444444,
              "#bd3786"
             ],
             [
              0.5555555555555556,
              "#d8576b"
             ],
             [
              0.6666666666666666,
              "#ed7953"
             ],
             [
              0.7777777777777778,
              "#fb9f3a"
             ],
             [
              0.8888888888888888,
              "#fdca26"
             ],
             [
              1,
              "#f0f921"
             ]
            ],
            "type": "heatmap"
           }
          ],
          "heatmapgl": [
           {
            "colorbar": {
             "outlinewidth": 0,
             "ticks": ""
            },
            "colorscale": [
             [
              0,
              "#0d0887"
             ],
             [
              0.1111111111111111,
              "#46039f"
             ],
             [
              0.2222222222222222,
              "#7201a8"
             ],
             [
              0.3333333333333333,
              "#9c179e"
             ],
             [
              0.4444444444444444,
              "#bd3786"
             ],
             [
              0.5555555555555556,
              "#d8576b"
             ],
             [
              0.6666666666666666,
              "#ed7953"
             ],
             [
              0.7777777777777778,
              "#fb9f3a"
             ],
             [
              0.8888888888888888,
              "#fdca26"
             ],
             [
              1,
              "#f0f921"
             ]
            ],
            "type": "heatmapgl"
           }
          ],
          "histogram": [
           {
            "marker": {
             "pattern": {
              "fillmode": "overlay",
              "size": 10,
              "solidity": 0.2
             }
            },
            "type": "histogram"
           }
          ],
          "histogram2d": [
           {
            "colorbar": {
             "outlinewidth": 0,
             "ticks": ""
            },
            "colorscale": [
             [
              0,
              "#0d0887"
             ],
             [
              0.1111111111111111,
              "#46039f"
             ],
             [
              0.2222222222222222,
              "#7201a8"
             ],
             [
              0.3333333333333333,
              "#9c179e"
             ],
             [
              0.4444444444444444,
              "#bd3786"
             ],
             [
              0.5555555555555556,
              "#d8576b"
             ],
             [
              0.6666666666666666,
              "#ed7953"
             ],
             [
              0.7777777777777778,
              "#fb9f3a"
             ],
             [
              0.8888888888888888,
              "#fdca26"
             ],
             [
              1,
              "#f0f921"
             ]
            ],
            "type": "histogram2d"
           }
          ],
          "histogram2dcontour": [
           {
            "colorbar": {
             "outlinewidth": 0,
             "ticks": ""
            },
            "colorscale": [
             [
              0,
              "#0d0887"
             ],
             [
              0.1111111111111111,
              "#46039f"
             ],
             [
              0.2222222222222222,
              "#7201a8"
             ],
             [
              0.3333333333333333,
              "#9c179e"
             ],
             [
              0.4444444444444444,
              "#bd3786"
             ],
             [
              0.5555555555555556,
              "#d8576b"
             ],
             [
              0.6666666666666666,
              "#ed7953"
             ],
             [
              0.7777777777777778,
              "#fb9f3a"
             ],
             [
              0.8888888888888888,
              "#fdca26"
             ],
             [
              1,
              "#f0f921"
             ]
            ],
            "type": "histogram2dcontour"
           }
          ],
          "mesh3d": [
           {
            "colorbar": {
             "outlinewidth": 0,
             "ticks": ""
            },
            "type": "mesh3d"
           }
          ],
          "parcoords": [
           {
            "line": {
             "colorbar": {
              "outlinewidth": 0,
              "ticks": ""
             }
            },
            "type": "parcoords"
           }
          ],
          "pie": [
           {
            "automargin": true,
            "type": "pie"
           }
          ],
          "scatter": [
           {
            "fillpattern": {
             "fillmode": "overlay",
             "size": 10,
             "solidity": 0.2
            },
            "type": "scatter"
           }
          ],
          "scatter3d": [
           {
            "line": {
             "colorbar": {
              "outlinewidth": 0,
              "ticks": ""
             }
            },
            "marker": {
             "colorbar": {
              "outlinewidth": 0,
              "ticks": ""
             }
            },
            "type": "scatter3d"
           }
          ],
          "scattercarpet": [
           {
            "marker": {
             "colorbar": {
              "outlinewidth": 0,
              "ticks": ""
             }
            },
            "type": "scattercarpet"
           }
          ],
          "scattergeo": [
           {
            "marker": {
             "colorbar": {
              "outlinewidth": 0,
              "ticks": ""
             }
            },
            "type": "scattergeo"
           }
          ],
          "scattergl": [
           {
            "marker": {
             "colorbar": {
              "outlinewidth": 0,
              "ticks": ""
             }
            },
            "type": "scattergl"
           }
          ],
          "scattermapbox": [
           {
            "marker": {
             "colorbar": {
              "outlinewidth": 0,
              "ticks": ""
             }
            },
            "type": "scattermapbox"
           }
          ],
          "scatterpolar": [
           {
            "marker": {
             "colorbar": {
              "outlinewidth": 0,
              "ticks": ""
             }
            },
            "type": "scatterpolar"
           }
          ],
          "scatterpolargl": [
           {
            "marker": {
             "colorbar": {
              "outlinewidth": 0,
              "ticks": ""
             }
            },
            "type": "scatterpolargl"
           }
          ],
          "scatterternary": [
           {
            "marker": {
             "colorbar": {
              "outlinewidth": 0,
              "ticks": ""
             }
            },
            "type": "scatterternary"
           }
          ],
          "surface": [
           {
            "colorbar": {
             "outlinewidth": 0,
             "ticks": ""
            },
            "colorscale": [
             [
              0,
              "#0d0887"
             ],
             [
              0.1111111111111111,
              "#46039f"
             ],
             [
              0.2222222222222222,
              "#7201a8"
             ],
             [
              0.3333333333333333,
              "#9c179e"
             ],
             [
              0.4444444444444444,
              "#bd3786"
             ],
             [
              0.5555555555555556,
              "#d8576b"
             ],
             [
              0.6666666666666666,
              "#ed7953"
             ],
             [
              0.7777777777777778,
              "#fb9f3a"
             ],
             [
              0.8888888888888888,
              "#fdca26"
             ],
             [
              1,
              "#f0f921"
             ]
            ],
            "type": "surface"
           }
          ],
          "table": [
           {
            "cells": {
             "fill": {
              "color": "#EBF0F8"
             },
             "line": {
              "color": "white"
             }
            },
            "header": {
             "fill": {
              "color": "#C8D4E3"
             },
             "line": {
              "color": "white"
             }
            },
            "type": "table"
           }
          ]
         },
         "layout": {
          "annotationdefaults": {
           "arrowcolor": "#2a3f5f",
           "arrowhead": 0,
           "arrowwidth": 1
          },
          "autotypenumbers": "strict",
          "coloraxis": {
           "colorbar": {
            "outlinewidth": 0,
            "ticks": ""
           }
          },
          "colorscale": {
           "diverging": [
            [
             0,
             "#8e0152"
            ],
            [
             0.1,
             "#c51b7d"
            ],
            [
             0.2,
             "#de77ae"
            ],
            [
             0.3,
             "#f1b6da"
            ],
            [
             0.4,
             "#fde0ef"
            ],
            [
             0.5,
             "#f7f7f7"
            ],
            [
             0.6,
             "#e6f5d0"
            ],
            [
             0.7,
             "#b8e186"
            ],
            [
             0.8,
             "#7fbc41"
            ],
            [
             0.9,
             "#4d9221"
            ],
            [
             1,
             "#276419"
            ]
           ],
           "sequential": [
            [
             0,
             "#0d0887"
            ],
            [
             0.1111111111111111,
             "#46039f"
            ],
            [
             0.2222222222222222,
             "#7201a8"
            ],
            [
             0.3333333333333333,
             "#9c179e"
            ],
            [
             0.4444444444444444,
             "#bd3786"
            ],
            [
             0.5555555555555556,
             "#d8576b"
            ],
            [
             0.6666666666666666,
             "#ed7953"
            ],
            [
             0.7777777777777778,
             "#fb9f3a"
            ],
            [
             0.8888888888888888,
             "#fdca26"
            ],
            [
             1,
             "#f0f921"
            ]
           ],
           "sequentialminus": [
            [
             0,
             "#0d0887"
            ],
            [
             0.1111111111111111,
             "#46039f"
            ],
            [
             0.2222222222222222,
             "#7201a8"
            ],
            [
             0.3333333333333333,
             "#9c179e"
            ],
            [
             0.4444444444444444,
             "#bd3786"
            ],
            [
             0.5555555555555556,
             "#d8576b"
            ],
            [
             0.6666666666666666,
             "#ed7953"
            ],
            [
             0.7777777777777778,
             "#fb9f3a"
            ],
            [
             0.8888888888888888,
             "#fdca26"
            ],
            [
             1,
             "#f0f921"
            ]
           ]
          },
          "colorway": [
           "#636efa",
           "#EF553B",
           "#00cc96",
           "#ab63fa",
           "#FFA15A",
           "#19d3f3",
           "#FF6692",
           "#B6E880",
           "#FF97FF",
           "#FECB52"
          ],
          "font": {
           "color": "#2a3f5f"
          },
          "geo": {
           "bgcolor": "white",
           "lakecolor": "white",
           "landcolor": "#E5ECF6",
           "showlakes": true,
           "showland": true,
           "subunitcolor": "white"
          },
          "hoverlabel": {
           "align": "left"
          },
          "hovermode": "closest",
          "mapbox": {
           "style": "light"
          },
          "paper_bgcolor": "white",
          "plot_bgcolor": "#E5ECF6",
          "polar": {
           "angularaxis": {
            "gridcolor": "white",
            "linecolor": "white",
            "ticks": ""
           },
           "bgcolor": "#E5ECF6",
           "radialaxis": {
            "gridcolor": "white",
            "linecolor": "white",
            "ticks": ""
           }
          },
          "scene": {
           "xaxis": {
            "backgroundcolor": "#E5ECF6",
            "gridcolor": "white",
            "gridwidth": 2,
            "linecolor": "white",
            "showbackground": true,
            "ticks": "",
            "zerolinecolor": "white"
           },
           "yaxis": {
            "backgroundcolor": "#E5ECF6",
            "gridcolor": "white",
            "gridwidth": 2,
            "linecolor": "white",
            "showbackground": true,
            "ticks": "",
            "zerolinecolor": "white"
           },
           "zaxis": {
            "backgroundcolor": "#E5ECF6",
            "gridcolor": "white",
            "gridwidth": 2,
            "linecolor": "white",
            "showbackground": true,
            "ticks": "",
            "zerolinecolor": "white"
           }
          },
          "shapedefaults": {
           "line": {
            "color": "#2a3f5f"
           }
          },
          "ternary": {
           "aaxis": {
            "gridcolor": "white",
            "linecolor": "white",
            "ticks": ""
           },
           "baxis": {
            "gridcolor": "white",
            "linecolor": "white",
            "ticks": ""
           },
           "bgcolor": "#E5ECF6",
           "caxis": {
            "gridcolor": "white",
            "linecolor": "white",
            "ticks": ""
           }
          },
          "title": {
           "x": 0.05
          },
          "xaxis": {
           "automargin": true,
           "gridcolor": "white",
           "linecolor": "white",
           "ticks": "",
           "title": {
            "standoff": 15
           },
           "zerolinecolor": "white",
           "zerolinewidth": 2
          },
          "yaxis": {
           "automargin": true,
           "gridcolor": "white",
           "linecolor": "white",
           "ticks": "",
           "title": {
            "standoff": 15
           },
           "zerolinecolor": "white",
           "zerolinewidth": 2
          }
         }
        },
        "title": {
         "text": "Count of class variable in test dataset"
        }
       }
      },
      "text/html": [
       "<div>                            <div id=\"6b34f363-50e2-4a49-a234-c39b8574799c\" class=\"plotly-graph-div\" style=\"height:525px; width:100%;\"></div>            <script type=\"text/javascript\">                require([\"plotly\"], function(Plotly) {                    window.PLOTLYENV=window.PLOTLYENV || {};                                    if (document.getElementById(\"6b34f363-50e2-4a49-a234-c39b8574799c\")) {                    Plotly.newPlot(                        \"6b34f363-50e2-4a49-a234-c39b8574799c\",                        [{\"marker\":{\"color\":[\"gold\",\"lightskyblue\"],\"line\":{\"color\":\"#000000\",\"width\":1.5}},\"opacity\":0.8,\"orientation\":\"h\",\"x\":[390,234],\"y\":[\"Pneumonia\",\"Normal\"],\"type\":\"bar\"}],                        {\"template\":{\"data\":{\"barpolar\":[{\"marker\":{\"line\":{\"color\":\"#E5ECF6\",\"width\":0.5},\"pattern\":{\"fillmode\":\"overlay\",\"size\":10,\"solidity\":0.2}},\"type\":\"barpolar\"}],\"bar\":[{\"error_x\":{\"color\":\"#2a3f5f\"},\"error_y\":{\"color\":\"#2a3f5f\"},\"marker\":{\"line\":{\"color\":\"#E5ECF6\",\"width\":0.5},\"pattern\":{\"fillmode\":\"overlay\",\"size\":10,\"solidity\":0.2}},\"type\":\"bar\"}],\"carpet\":[{\"aaxis\":{\"endlinecolor\":\"#2a3f5f\",\"gridcolor\":\"white\",\"linecolor\":\"white\",\"minorgridcolor\":\"white\",\"startlinecolor\":\"#2a3f5f\"},\"baxis\":{\"endlinecolor\":\"#2a3f5f\",\"gridcolor\":\"white\",\"linecolor\":\"white\",\"minorgridcolor\":\"white\",\"startlinecolor\":\"#2a3f5f\"},\"type\":\"carpet\"}],\"choropleth\":[{\"colorbar\":{\"outlinewidth\":0,\"ticks\":\"\"},\"type\":\"choropleth\"}],\"contourcarpet\":[{\"colorbar\":{\"outlinewidth\":0,\"ticks\":\"\"},\"type\":\"contourcarpet\"}],\"contour\":[{\"colorbar\":{\"outlinewidth\":0,\"ticks\":\"\"},\"colorscale\":[[0.0,\"#0d0887\"],[0.1111111111111111,\"#46039f\"],[0.2222222222222222,\"#7201a8\"],[0.3333333333333333,\"#9c179e\"],[0.4444444444444444,\"#bd3786\"],[0.5555555555555556,\"#d8576b\"],[0.6666666666666666,\"#ed7953\"],[0.7777777777777778,\"#fb9f3a\"],[0.8888888888888888,\"#fdca26\"],[1.0,\"#f0f921\"]],\"type\":\"contour\"}],\"heatmapgl\":[{\"colorbar\":{\"outlinewidth\":0,\"ticks\":\"\"},\"colorscale\":[[0.0,\"#0d0887\"],[0.1111111111111111,\"#46039f\"],[0.2222222222222222,\"#7201a8\"],[0.3333333333333333,\"#9c179e\"],[0.4444444444444444,\"#bd3786\"],[0.5555555555555556,\"#d8576b\"],[0.6666666666666666,\"#ed7953\"],[0.7777777777777778,\"#fb9f3a\"],[0.8888888888888888,\"#fdca26\"],[1.0,\"#f0f921\"]],\"type\":\"heatmapgl\"}],\"heatmap\":[{\"colorbar\":{\"outlinewidth\":0,\"ticks\":\"\"},\"colorscale\":[[0.0,\"#0d0887\"],[0.1111111111111111,\"#46039f\"],[0.2222222222222222,\"#7201a8\"],[0.3333333333333333,\"#9c179e\"],[0.4444444444444444,\"#bd3786\"],[0.5555555555555556,\"#d8576b\"],[0.6666666666666666,\"#ed7953\"],[0.7777777777777778,\"#fb9f3a\"],[0.8888888888888888,\"#fdca26\"],[1.0,\"#f0f921\"]],\"type\":\"heatmap\"}],\"histogram2dcontour\":[{\"colorbar\":{\"outlinewidth\":0,\"ticks\":\"\"},\"colorscale\":[[0.0,\"#0d0887\"],[0.1111111111111111,\"#46039f\"],[0.2222222222222222,\"#7201a8\"],[0.3333333333333333,\"#9c179e\"],[0.4444444444444444,\"#bd3786\"],[0.5555555555555556,\"#d8576b\"],[0.6666666666666666,\"#ed7953\"],[0.7777777777777778,\"#fb9f3a\"],[0.8888888888888888,\"#fdca26\"],[1.0,\"#f0f921\"]],\"type\":\"histogram2dcontour\"}],\"histogram2d\":[{\"colorbar\":{\"outlinewidth\":0,\"ticks\":\"\"},\"colorscale\":[[0.0,\"#0d0887\"],[0.1111111111111111,\"#46039f\"],[0.2222222222222222,\"#7201a8\"],[0.3333333333333333,\"#9c179e\"],[0.4444444444444444,\"#bd3786\"],[0.5555555555555556,\"#d8576b\"],[0.6666666666666666,\"#ed7953\"],[0.7777777777777778,\"#fb9f3a\"],[0.8888888888888888,\"#fdca26\"],[1.0,\"#f0f921\"]],\"type\":\"histogram2d\"}],\"histogram\":[{\"marker\":{\"pattern\":{\"fillmode\":\"overlay\",\"size\":10,\"solidity\":0.2}},\"type\":\"histogram\"}],\"mesh3d\":[{\"colorbar\":{\"outlinewidth\":0,\"ticks\":\"\"},\"type\":\"mesh3d\"}],\"parcoords\":[{\"line\":{\"colorbar\":{\"outlinewidth\":0,\"ticks\":\"\"}},\"type\":\"parcoords\"}],\"pie\":[{\"automargin\":true,\"type\":\"pie\"}],\"scatter3d\":[{\"line\":{\"colorbar\":{\"outlinewidth\":0,\"ticks\":\"\"}},\"marker\":{\"colorbar\":{\"outlinewidth\":0,\"ticks\":\"\"}},\"type\":\"scatter3d\"}],\"scattercarpet\":[{\"marker\":{\"colorbar\":{\"outlinewidth\":0,\"ticks\":\"\"}},\"type\":\"scattercarpet\"}],\"scattergeo\":[{\"marker\":{\"colorbar\":{\"outlinewidth\":0,\"ticks\":\"\"}},\"type\":\"scattergeo\"}],\"scattergl\":[{\"marker\":{\"colorbar\":{\"outlinewidth\":0,\"ticks\":\"\"}},\"type\":\"scattergl\"}],\"scattermapbox\":[{\"marker\":{\"colorbar\":{\"outlinewidth\":0,\"ticks\":\"\"}},\"type\":\"scattermapbox\"}],\"scatterpolargl\":[{\"marker\":{\"colorbar\":{\"outlinewidth\":0,\"ticks\":\"\"}},\"type\":\"scatterpolargl\"}],\"scatterpolar\":[{\"marker\":{\"colorbar\":{\"outlinewidth\":0,\"ticks\":\"\"}},\"type\":\"scatterpolar\"}],\"scatter\":[{\"fillpattern\":{\"fillmode\":\"overlay\",\"size\":10,\"solidity\":0.2},\"type\":\"scatter\"}],\"scatterternary\":[{\"marker\":{\"colorbar\":{\"outlinewidth\":0,\"ticks\":\"\"}},\"type\":\"scatterternary\"}],\"surface\":[{\"colorbar\":{\"outlinewidth\":0,\"ticks\":\"\"},\"colorscale\":[[0.0,\"#0d0887\"],[0.1111111111111111,\"#46039f\"],[0.2222222222222222,\"#7201a8\"],[0.3333333333333333,\"#9c179e\"],[0.4444444444444444,\"#bd3786\"],[0.5555555555555556,\"#d8576b\"],[0.6666666666666666,\"#ed7953\"],[0.7777777777777778,\"#fb9f3a\"],[0.8888888888888888,\"#fdca26\"],[1.0,\"#f0f921\"]],\"type\":\"surface\"}],\"table\":[{\"cells\":{\"fill\":{\"color\":\"#EBF0F8\"},\"line\":{\"color\":\"white\"}},\"header\":{\"fill\":{\"color\":\"#C8D4E3\"},\"line\":{\"color\":\"white\"}},\"type\":\"table\"}]},\"layout\":{\"annotationdefaults\":{\"arrowcolor\":\"#2a3f5f\",\"arrowhead\":0,\"arrowwidth\":1},\"autotypenumbers\":\"strict\",\"coloraxis\":{\"colorbar\":{\"outlinewidth\":0,\"ticks\":\"\"}},\"colorscale\":{\"diverging\":[[0,\"#8e0152\"],[0.1,\"#c51b7d\"],[0.2,\"#de77ae\"],[0.3,\"#f1b6da\"],[0.4,\"#fde0ef\"],[0.5,\"#f7f7f7\"],[0.6,\"#e6f5d0\"],[0.7,\"#b8e186\"],[0.8,\"#7fbc41\"],[0.9,\"#4d9221\"],[1,\"#276419\"]],\"sequential\":[[0.0,\"#0d0887\"],[0.1111111111111111,\"#46039f\"],[0.2222222222222222,\"#7201a8\"],[0.3333333333333333,\"#9c179e\"],[0.4444444444444444,\"#bd3786\"],[0.5555555555555556,\"#d8576b\"],[0.6666666666666666,\"#ed7953\"],[0.7777777777777778,\"#fb9f3a\"],[0.8888888888888888,\"#fdca26\"],[1.0,\"#f0f921\"]],\"sequentialminus\":[[0.0,\"#0d0887\"],[0.1111111111111111,\"#46039f\"],[0.2222222222222222,\"#7201a8\"],[0.3333333333333333,\"#9c179e\"],[0.4444444444444444,\"#bd3786\"],[0.5555555555555556,\"#d8576b\"],[0.6666666666666666,\"#ed7953\"],[0.7777777777777778,\"#fb9f3a\"],[0.8888888888888888,\"#fdca26\"],[1.0,\"#f0f921\"]]},\"colorway\":[\"#636efa\",\"#EF553B\",\"#00cc96\",\"#ab63fa\",\"#FFA15A\",\"#19d3f3\",\"#FF6692\",\"#B6E880\",\"#FF97FF\",\"#FECB52\"],\"font\":{\"color\":\"#2a3f5f\"},\"geo\":{\"bgcolor\":\"white\",\"lakecolor\":\"white\",\"landcolor\":\"#E5ECF6\",\"showlakes\":true,\"showland\":true,\"subunitcolor\":\"white\"},\"hoverlabel\":{\"align\":\"left\"},\"hovermode\":\"closest\",\"mapbox\":{\"style\":\"light\"},\"paper_bgcolor\":\"white\",\"plot_bgcolor\":\"#E5ECF6\",\"polar\":{\"angularaxis\":{\"gridcolor\":\"white\",\"linecolor\":\"white\",\"ticks\":\"\"},\"bgcolor\":\"#E5ECF6\",\"radialaxis\":{\"gridcolor\":\"white\",\"linecolor\":\"white\",\"ticks\":\"\"}},\"scene\":{\"xaxis\":{\"backgroundcolor\":\"#E5ECF6\",\"gridcolor\":\"white\",\"gridwidth\":2,\"linecolor\":\"white\",\"showbackground\":true,\"ticks\":\"\",\"zerolinecolor\":\"white\"},\"yaxis\":{\"backgroundcolor\":\"#E5ECF6\",\"gridcolor\":\"white\",\"gridwidth\":2,\"linecolor\":\"white\",\"showbackground\":true,\"ticks\":\"\",\"zerolinecolor\":\"white\"},\"zaxis\":{\"backgroundcolor\":\"#E5ECF6\",\"gridcolor\":\"white\",\"gridwidth\":2,\"linecolor\":\"white\",\"showbackground\":true,\"ticks\":\"\",\"zerolinecolor\":\"white\"}},\"shapedefaults\":{\"line\":{\"color\":\"#2a3f5f\"}},\"ternary\":{\"aaxis\":{\"gridcolor\":\"white\",\"linecolor\":\"white\",\"ticks\":\"\"},\"baxis\":{\"gridcolor\":\"white\",\"linecolor\":\"white\",\"ticks\":\"\"},\"bgcolor\":\"#E5ECF6\",\"caxis\":{\"gridcolor\":\"white\",\"linecolor\":\"white\",\"ticks\":\"\"}},\"title\":{\"x\":0.05},\"xaxis\":{\"automargin\":true,\"gridcolor\":\"white\",\"linecolor\":\"white\",\"ticks\":\"\",\"title\":{\"standoff\":15},\"zerolinecolor\":\"white\",\"zerolinewidth\":2},\"yaxis\":{\"automargin\":true,\"gridcolor\":\"white\",\"linecolor\":\"white\",\"ticks\":\"\",\"title\":{\"standoff\":15},\"zerolinecolor\":\"white\",\"zerolinewidth\":2}}},\"title\":{\"text\":\"Count of class variable in test dataset\"}},                        {\"responsive\": true}                    ).then(function(){\n",
       "                            \n",
       "var gd = document.getElementById('6b34f363-50e2-4a49-a234-c39b8574799c');\n",
       "var x = new MutationObserver(function (mutations, observer) {{\n",
       "        var display = window.getComputedStyle(gd).display;\n",
       "        if (!display || display === 'none') {{\n",
       "            console.log([gd, 'removed!']);\n",
       "            Plotly.purge(gd);\n",
       "            observer.disconnect();\n",
       "        }}\n",
       "}});\n",
       "\n",
       "// Listen for the removal of the full notebook cells\n",
       "var notebookContainer = gd.closest('#notebook-container');\n",
       "if (notebookContainer) {{\n",
       "    x.observe(notebookContainer, {childList: true});\n",
       "}}\n",
       "\n",
       "// Listen for the clearing of the current output cell\n",
       "var outputEl = gd.closest('.output');\n",
       "if (outputEl) {{\n",
       "    x.observe(outputEl, {childList: true});\n",
       "}}\n",
       "\n",
       "                        })                };                });            </script>        </div>"
      ]
     },
     "metadata": {},
     "output_type": "display_data"
    }
   ],
   "source": [
    "Pneumonia = df_test[(df_test['class'] == 'Pneumonia')]\n",
    "Normal = df_test[(df_test['class'] == 'Normal')]\n",
    "\n",
    "trace = go.Bar(x = (len(Pneumonia), len(Normal)), y = ['Pneumonia', 'Normal'], orientation = 'h', opacity = 0.8, marker=dict(\n",
    "        color=['gold', 'lightskyblue'],\n",
    "        line=dict(color='#000000',width=1.5)))\n",
    "\n",
    "layout = dict(title =  'Count of class variable in test dataset')\n",
    "                    \n",
    "fig = dict(data = [trace], layout=layout)\n",
    "py.iplot(fig)"
   ]
  },
  {
   "cell_type": "code",
   "execution_count": 10,
   "id": "5bc4a4cc",
   "metadata": {},
   "outputs": [
    {
     "data": {
      "application/vnd.plotly.v1+json": {
       "config": {
        "linkText": "Export to plot.ly",
        "plotlyServerURL": "https://plot.ly",
        "showLink": false
       },
       "data": [
        {
         "labels": [
          "Pneumonia",
          "Normal"
         ],
         "marker": {
          "colors": [
           "lightskyblue",
           "gold"
          ],
          "line": {
           "color": "#000000",
           "width": 1.5
          }
         },
         "opacity": 0.8,
         "textfont": {
          "size": 15
         },
         "type": "pie",
         "values": [
          390,
          234
         ]
        }
       ],
       "layout": {
        "template": {
         "data": {
          "bar": [
           {
            "error_x": {
             "color": "#2a3f5f"
            },
            "error_y": {
             "color": "#2a3f5f"
            },
            "marker": {
             "line": {
              "color": "#E5ECF6",
              "width": 0.5
             },
             "pattern": {
              "fillmode": "overlay",
              "size": 10,
              "solidity": 0.2
             }
            },
            "type": "bar"
           }
          ],
          "barpolar": [
           {
            "marker": {
             "line": {
              "color": "#E5ECF6",
              "width": 0.5
             },
             "pattern": {
              "fillmode": "overlay",
              "size": 10,
              "solidity": 0.2
             }
            },
            "type": "barpolar"
           }
          ],
          "carpet": [
           {
            "aaxis": {
             "endlinecolor": "#2a3f5f",
             "gridcolor": "white",
             "linecolor": "white",
             "minorgridcolor": "white",
             "startlinecolor": "#2a3f5f"
            },
            "baxis": {
             "endlinecolor": "#2a3f5f",
             "gridcolor": "white",
             "linecolor": "white",
             "minorgridcolor": "white",
             "startlinecolor": "#2a3f5f"
            },
            "type": "carpet"
           }
          ],
          "choropleth": [
           {
            "colorbar": {
             "outlinewidth": 0,
             "ticks": ""
            },
            "type": "choropleth"
           }
          ],
          "contour": [
           {
            "colorbar": {
             "outlinewidth": 0,
             "ticks": ""
            },
            "colorscale": [
             [
              0,
              "#0d0887"
             ],
             [
              0.1111111111111111,
              "#46039f"
             ],
             [
              0.2222222222222222,
              "#7201a8"
             ],
             [
              0.3333333333333333,
              "#9c179e"
             ],
             [
              0.4444444444444444,
              "#bd3786"
             ],
             [
              0.5555555555555556,
              "#d8576b"
             ],
             [
              0.6666666666666666,
              "#ed7953"
             ],
             [
              0.7777777777777778,
              "#fb9f3a"
             ],
             [
              0.8888888888888888,
              "#fdca26"
             ],
             [
              1,
              "#f0f921"
             ]
            ],
            "type": "contour"
           }
          ],
          "contourcarpet": [
           {
            "colorbar": {
             "outlinewidth": 0,
             "ticks": ""
            },
            "type": "contourcarpet"
           }
          ],
          "heatmap": [
           {
            "colorbar": {
             "outlinewidth": 0,
             "ticks": ""
            },
            "colorscale": [
             [
              0,
              "#0d0887"
             ],
             [
              0.1111111111111111,
              "#46039f"
             ],
             [
              0.2222222222222222,
              "#7201a8"
             ],
             [
              0.3333333333333333,
              "#9c179e"
             ],
             [
              0.4444444444444444,
              "#bd3786"
             ],
             [
              0.5555555555555556,
              "#d8576b"
             ],
             [
              0.6666666666666666,
              "#ed7953"
             ],
             [
              0.7777777777777778,
              "#fb9f3a"
             ],
             [
              0.8888888888888888,
              "#fdca26"
             ],
             [
              1,
              "#f0f921"
             ]
            ],
            "type": "heatmap"
           }
          ],
          "heatmapgl": [
           {
            "colorbar": {
             "outlinewidth": 0,
             "ticks": ""
            },
            "colorscale": [
             [
              0,
              "#0d0887"
             ],
             [
              0.1111111111111111,
              "#46039f"
             ],
             [
              0.2222222222222222,
              "#7201a8"
             ],
             [
              0.3333333333333333,
              "#9c179e"
             ],
             [
              0.4444444444444444,
              "#bd3786"
             ],
             [
              0.5555555555555556,
              "#d8576b"
             ],
             [
              0.6666666666666666,
              "#ed7953"
             ],
             [
              0.7777777777777778,
              "#fb9f3a"
             ],
             [
              0.8888888888888888,
              "#fdca26"
             ],
             [
              1,
              "#f0f921"
             ]
            ],
            "type": "heatmapgl"
           }
          ],
          "histogram": [
           {
            "marker": {
             "pattern": {
              "fillmode": "overlay",
              "size": 10,
              "solidity": 0.2
             }
            },
            "type": "histogram"
           }
          ],
          "histogram2d": [
           {
            "colorbar": {
             "outlinewidth": 0,
             "ticks": ""
            },
            "colorscale": [
             [
              0,
              "#0d0887"
             ],
             [
              0.1111111111111111,
              "#46039f"
             ],
             [
              0.2222222222222222,
              "#7201a8"
             ],
             [
              0.3333333333333333,
              "#9c179e"
             ],
             [
              0.4444444444444444,
              "#bd3786"
             ],
             [
              0.5555555555555556,
              "#d8576b"
             ],
             [
              0.6666666666666666,
              "#ed7953"
             ],
             [
              0.7777777777777778,
              "#fb9f3a"
             ],
             [
              0.8888888888888888,
              "#fdca26"
             ],
             [
              1,
              "#f0f921"
             ]
            ],
            "type": "histogram2d"
           }
          ],
          "histogram2dcontour": [
           {
            "colorbar": {
             "outlinewidth": 0,
             "ticks": ""
            },
            "colorscale": [
             [
              0,
              "#0d0887"
             ],
             [
              0.1111111111111111,
              "#46039f"
             ],
             [
              0.2222222222222222,
              "#7201a8"
             ],
             [
              0.3333333333333333,
              "#9c179e"
             ],
             [
              0.4444444444444444,
              "#bd3786"
             ],
             [
              0.5555555555555556,
              "#d8576b"
             ],
             [
              0.6666666666666666,
              "#ed7953"
             ],
             [
              0.7777777777777778,
              "#fb9f3a"
             ],
             [
              0.8888888888888888,
              "#fdca26"
             ],
             [
              1,
              "#f0f921"
             ]
            ],
            "type": "histogram2dcontour"
           }
          ],
          "mesh3d": [
           {
            "colorbar": {
             "outlinewidth": 0,
             "ticks": ""
            },
            "type": "mesh3d"
           }
          ],
          "parcoords": [
           {
            "line": {
             "colorbar": {
              "outlinewidth": 0,
              "ticks": ""
             }
            },
            "type": "parcoords"
           }
          ],
          "pie": [
           {
            "automargin": true,
            "type": "pie"
           }
          ],
          "scatter": [
           {
            "fillpattern": {
             "fillmode": "overlay",
             "size": 10,
             "solidity": 0.2
            },
            "type": "scatter"
           }
          ],
          "scatter3d": [
           {
            "line": {
             "colorbar": {
              "outlinewidth": 0,
              "ticks": ""
             }
            },
            "marker": {
             "colorbar": {
              "outlinewidth": 0,
              "ticks": ""
             }
            },
            "type": "scatter3d"
           }
          ],
          "scattercarpet": [
           {
            "marker": {
             "colorbar": {
              "outlinewidth": 0,
              "ticks": ""
             }
            },
            "type": "scattercarpet"
           }
          ],
          "scattergeo": [
           {
            "marker": {
             "colorbar": {
              "outlinewidth": 0,
              "ticks": ""
             }
            },
            "type": "scattergeo"
           }
          ],
          "scattergl": [
           {
            "marker": {
             "colorbar": {
              "outlinewidth": 0,
              "ticks": ""
             }
            },
            "type": "scattergl"
           }
          ],
          "scattermapbox": [
           {
            "marker": {
             "colorbar": {
              "outlinewidth": 0,
              "ticks": ""
             }
            },
            "type": "scattermapbox"
           }
          ],
          "scatterpolar": [
           {
            "marker": {
             "colorbar": {
              "outlinewidth": 0,
              "ticks": ""
             }
            },
            "type": "scatterpolar"
           }
          ],
          "scatterpolargl": [
           {
            "marker": {
             "colorbar": {
              "outlinewidth": 0,
              "ticks": ""
             }
            },
            "type": "scatterpolargl"
           }
          ],
          "scatterternary": [
           {
            "marker": {
             "colorbar": {
              "outlinewidth": 0,
              "ticks": ""
             }
            },
            "type": "scatterternary"
           }
          ],
          "surface": [
           {
            "colorbar": {
             "outlinewidth": 0,
             "ticks": ""
            },
            "colorscale": [
             [
              0,
              "#0d0887"
             ],
             [
              0.1111111111111111,
              "#46039f"
             ],
             [
              0.2222222222222222,
              "#7201a8"
             ],
             [
              0.3333333333333333,
              "#9c179e"
             ],
             [
              0.4444444444444444,
              "#bd3786"
             ],
             [
              0.5555555555555556,
              "#d8576b"
             ],
             [
              0.6666666666666666,
              "#ed7953"
             ],
             [
              0.7777777777777778,
              "#fb9f3a"
             ],
             [
              0.8888888888888888,
              "#fdca26"
             ],
             [
              1,
              "#f0f921"
             ]
            ],
            "type": "surface"
           }
          ],
          "table": [
           {
            "cells": {
             "fill": {
              "color": "#EBF0F8"
             },
             "line": {
              "color": "white"
             }
            },
            "header": {
             "fill": {
              "color": "#C8D4E3"
             },
             "line": {
              "color": "white"
             }
            },
            "type": "table"
           }
          ]
         },
         "layout": {
          "annotationdefaults": {
           "arrowcolor": "#2a3f5f",
           "arrowhead": 0,
           "arrowwidth": 1
          },
          "autotypenumbers": "strict",
          "coloraxis": {
           "colorbar": {
            "outlinewidth": 0,
            "ticks": ""
           }
          },
          "colorscale": {
           "diverging": [
            [
             0,
             "#8e0152"
            ],
            [
             0.1,
             "#c51b7d"
            ],
            [
             0.2,
             "#de77ae"
            ],
            [
             0.3,
             "#f1b6da"
            ],
            [
             0.4,
             "#fde0ef"
            ],
            [
             0.5,
             "#f7f7f7"
            ],
            [
             0.6,
             "#e6f5d0"
            ],
            [
             0.7,
             "#b8e186"
            ],
            [
             0.8,
             "#7fbc41"
            ],
            [
             0.9,
             "#4d9221"
            ],
            [
             1,
             "#276419"
            ]
           ],
           "sequential": [
            [
             0,
             "#0d0887"
            ],
            [
             0.1111111111111111,
             "#46039f"
            ],
            [
             0.2222222222222222,
             "#7201a8"
            ],
            [
             0.3333333333333333,
             "#9c179e"
            ],
            [
             0.4444444444444444,
             "#bd3786"
            ],
            [
             0.5555555555555556,
             "#d8576b"
            ],
            [
             0.6666666666666666,
             "#ed7953"
            ],
            [
             0.7777777777777778,
             "#fb9f3a"
            ],
            [
             0.8888888888888888,
             "#fdca26"
            ],
            [
             1,
             "#f0f921"
            ]
           ],
           "sequentialminus": [
            [
             0,
             "#0d0887"
            ],
            [
             0.1111111111111111,
             "#46039f"
            ],
            [
             0.2222222222222222,
             "#7201a8"
            ],
            [
             0.3333333333333333,
             "#9c179e"
            ],
            [
             0.4444444444444444,
             "#bd3786"
            ],
            [
             0.5555555555555556,
             "#d8576b"
            ],
            [
             0.6666666666666666,
             "#ed7953"
            ],
            [
             0.7777777777777778,
             "#fb9f3a"
            ],
            [
             0.8888888888888888,
             "#fdca26"
            ],
            [
             1,
             "#f0f921"
            ]
           ]
          },
          "colorway": [
           "#636efa",
           "#EF553B",
           "#00cc96",
           "#ab63fa",
           "#FFA15A",
           "#19d3f3",
           "#FF6692",
           "#B6E880",
           "#FF97FF",
           "#FECB52"
          ],
          "font": {
           "color": "#2a3f5f"
          },
          "geo": {
           "bgcolor": "white",
           "lakecolor": "white",
           "landcolor": "#E5ECF6",
           "showlakes": true,
           "showland": true,
           "subunitcolor": "white"
          },
          "hoverlabel": {
           "align": "left"
          },
          "hovermode": "closest",
          "mapbox": {
           "style": "light"
          },
          "paper_bgcolor": "white",
          "plot_bgcolor": "#E5ECF6",
          "polar": {
           "angularaxis": {
            "gridcolor": "white",
            "linecolor": "white",
            "ticks": ""
           },
           "bgcolor": "#E5ECF6",
           "radialaxis": {
            "gridcolor": "white",
            "linecolor": "white",
            "ticks": ""
           }
          },
          "scene": {
           "xaxis": {
            "backgroundcolor": "#E5ECF6",
            "gridcolor": "white",
            "gridwidth": 2,
            "linecolor": "white",
            "showbackground": true,
            "ticks": "",
            "zerolinecolor": "white"
           },
           "yaxis": {
            "backgroundcolor": "#E5ECF6",
            "gridcolor": "white",
            "gridwidth": 2,
            "linecolor": "white",
            "showbackground": true,
            "ticks": "",
            "zerolinecolor": "white"
           },
           "zaxis": {
            "backgroundcolor": "#E5ECF6",
            "gridcolor": "white",
            "gridwidth": 2,
            "linecolor": "white",
            "showbackground": true,
            "ticks": "",
            "zerolinecolor": "white"
           }
          },
          "shapedefaults": {
           "line": {
            "color": "#2a3f5f"
           }
          },
          "ternary": {
           "aaxis": {
            "gridcolor": "white",
            "linecolor": "white",
            "ticks": ""
           },
           "baxis": {
            "gridcolor": "white",
            "linecolor": "white",
            "ticks": ""
           },
           "bgcolor": "#E5ECF6",
           "caxis": {
            "gridcolor": "white",
            "linecolor": "white",
            "ticks": ""
           }
          },
          "title": {
           "x": 0.05
          },
          "xaxis": {
           "automargin": true,
           "gridcolor": "white",
           "linecolor": "white",
           "ticks": "",
           "title": {
            "standoff": 15
           },
           "zerolinecolor": "white",
           "zerolinewidth": 2
          },
          "yaxis": {
           "automargin": true,
           "gridcolor": "white",
           "linecolor": "white",
           "ticks": "",
           "title": {
            "standoff": 15
           },
           "zerolinecolor": "white",
           "zerolinewidth": 2
          }
         }
        },
        "title": {
         "text": "Distribution of class variable in test dataset"
        }
       }
      },
      "text/html": [
       "<div>                            <div id=\"091adfb3-faf4-4345-8ea6-6421aaa6a1e2\" class=\"plotly-graph-div\" style=\"height:525px; width:100%;\"></div>            <script type=\"text/javascript\">                require([\"plotly\"], function(Plotly) {                    window.PLOTLYENV=window.PLOTLYENV || {};                                    if (document.getElementById(\"091adfb3-faf4-4345-8ea6-6421aaa6a1e2\")) {                    Plotly.newPlot(                        \"091adfb3-faf4-4345-8ea6-6421aaa6a1e2\",                        [{\"labels\":[\"Pneumonia\",\"Normal\"],\"marker\":{\"colors\":[\"lightskyblue\",\"gold\"],\"line\":{\"color\":\"#000000\",\"width\":1.5}},\"opacity\":0.8,\"textfont\":{\"size\":15},\"values\":[390,234],\"type\":\"pie\"}],                        {\"template\":{\"data\":{\"barpolar\":[{\"marker\":{\"line\":{\"color\":\"#E5ECF6\",\"width\":0.5},\"pattern\":{\"fillmode\":\"overlay\",\"size\":10,\"solidity\":0.2}},\"type\":\"barpolar\"}],\"bar\":[{\"error_x\":{\"color\":\"#2a3f5f\"},\"error_y\":{\"color\":\"#2a3f5f\"},\"marker\":{\"line\":{\"color\":\"#E5ECF6\",\"width\":0.5},\"pattern\":{\"fillmode\":\"overlay\",\"size\":10,\"solidity\":0.2}},\"type\":\"bar\"}],\"carpet\":[{\"aaxis\":{\"endlinecolor\":\"#2a3f5f\",\"gridcolor\":\"white\",\"linecolor\":\"white\",\"minorgridcolor\":\"white\",\"startlinecolor\":\"#2a3f5f\"},\"baxis\":{\"endlinecolor\":\"#2a3f5f\",\"gridcolor\":\"white\",\"linecolor\":\"white\",\"minorgridcolor\":\"white\",\"startlinecolor\":\"#2a3f5f\"},\"type\":\"carpet\"}],\"choropleth\":[{\"colorbar\":{\"outlinewidth\":0,\"ticks\":\"\"},\"type\":\"choropleth\"}],\"contourcarpet\":[{\"colorbar\":{\"outlinewidth\":0,\"ticks\":\"\"},\"type\":\"contourcarpet\"}],\"contour\":[{\"colorbar\":{\"outlinewidth\":0,\"ticks\":\"\"},\"colorscale\":[[0.0,\"#0d0887\"],[0.1111111111111111,\"#46039f\"],[0.2222222222222222,\"#7201a8\"],[0.3333333333333333,\"#9c179e\"],[0.4444444444444444,\"#bd3786\"],[0.5555555555555556,\"#d8576b\"],[0.6666666666666666,\"#ed7953\"],[0.7777777777777778,\"#fb9f3a\"],[0.8888888888888888,\"#fdca26\"],[1.0,\"#f0f921\"]],\"type\":\"contour\"}],\"heatmapgl\":[{\"colorbar\":{\"outlinewidth\":0,\"ticks\":\"\"},\"colorscale\":[[0.0,\"#0d0887\"],[0.1111111111111111,\"#46039f\"],[0.2222222222222222,\"#7201a8\"],[0.3333333333333333,\"#9c179e\"],[0.4444444444444444,\"#bd3786\"],[0.5555555555555556,\"#d8576b\"],[0.6666666666666666,\"#ed7953\"],[0.7777777777777778,\"#fb9f3a\"],[0.8888888888888888,\"#fdca26\"],[1.0,\"#f0f921\"]],\"type\":\"heatmapgl\"}],\"heatmap\":[{\"colorbar\":{\"outlinewidth\":0,\"ticks\":\"\"},\"colorscale\":[[0.0,\"#0d0887\"],[0.1111111111111111,\"#46039f\"],[0.2222222222222222,\"#7201a8\"],[0.3333333333333333,\"#9c179e\"],[0.4444444444444444,\"#bd3786\"],[0.5555555555555556,\"#d8576b\"],[0.6666666666666666,\"#ed7953\"],[0.7777777777777778,\"#fb9f3a\"],[0.8888888888888888,\"#fdca26\"],[1.0,\"#f0f921\"]],\"type\":\"heatmap\"}],\"histogram2dcontour\":[{\"colorbar\":{\"outlinewidth\":0,\"ticks\":\"\"},\"colorscale\":[[0.0,\"#0d0887\"],[0.1111111111111111,\"#46039f\"],[0.2222222222222222,\"#7201a8\"],[0.3333333333333333,\"#9c179e\"],[0.4444444444444444,\"#bd3786\"],[0.5555555555555556,\"#d8576b\"],[0.6666666666666666,\"#ed7953\"],[0.7777777777777778,\"#fb9f3a\"],[0.8888888888888888,\"#fdca26\"],[1.0,\"#f0f921\"]],\"type\":\"histogram2dcontour\"}],\"histogram2d\":[{\"colorbar\":{\"outlinewidth\":0,\"ticks\":\"\"},\"colorscale\":[[0.0,\"#0d0887\"],[0.1111111111111111,\"#46039f\"],[0.2222222222222222,\"#7201a8\"],[0.3333333333333333,\"#9c179e\"],[0.4444444444444444,\"#bd3786\"],[0.5555555555555556,\"#d8576b\"],[0.6666666666666666,\"#ed7953\"],[0.7777777777777778,\"#fb9f3a\"],[0.8888888888888888,\"#fdca26\"],[1.0,\"#f0f921\"]],\"type\":\"histogram2d\"}],\"histogram\":[{\"marker\":{\"pattern\":{\"fillmode\":\"overlay\",\"size\":10,\"solidity\":0.2}},\"type\":\"histogram\"}],\"mesh3d\":[{\"colorbar\":{\"outlinewidth\":0,\"ticks\":\"\"},\"type\":\"mesh3d\"}],\"parcoords\":[{\"line\":{\"colorbar\":{\"outlinewidth\":0,\"ticks\":\"\"}},\"type\":\"parcoords\"}],\"pie\":[{\"automargin\":true,\"type\":\"pie\"}],\"scatter3d\":[{\"line\":{\"colorbar\":{\"outlinewidth\":0,\"ticks\":\"\"}},\"marker\":{\"colorbar\":{\"outlinewidth\":0,\"ticks\":\"\"}},\"type\":\"scatter3d\"}],\"scattercarpet\":[{\"marker\":{\"colorbar\":{\"outlinewidth\":0,\"ticks\":\"\"}},\"type\":\"scattercarpet\"}],\"scattergeo\":[{\"marker\":{\"colorbar\":{\"outlinewidth\":0,\"ticks\":\"\"}},\"type\":\"scattergeo\"}],\"scattergl\":[{\"marker\":{\"colorbar\":{\"outlinewidth\":0,\"ticks\":\"\"}},\"type\":\"scattergl\"}],\"scattermapbox\":[{\"marker\":{\"colorbar\":{\"outlinewidth\":0,\"ticks\":\"\"}},\"type\":\"scattermapbox\"}],\"scatterpolargl\":[{\"marker\":{\"colorbar\":{\"outlinewidth\":0,\"ticks\":\"\"}},\"type\":\"scatterpolargl\"}],\"scatterpolar\":[{\"marker\":{\"colorbar\":{\"outlinewidth\":0,\"ticks\":\"\"}},\"type\":\"scatterpolar\"}],\"scatter\":[{\"fillpattern\":{\"fillmode\":\"overlay\",\"size\":10,\"solidity\":0.2},\"type\":\"scatter\"}],\"scatterternary\":[{\"marker\":{\"colorbar\":{\"outlinewidth\":0,\"ticks\":\"\"}},\"type\":\"scatterternary\"}],\"surface\":[{\"colorbar\":{\"outlinewidth\":0,\"ticks\":\"\"},\"colorscale\":[[0.0,\"#0d0887\"],[0.1111111111111111,\"#46039f\"],[0.2222222222222222,\"#7201a8\"],[0.3333333333333333,\"#9c179e\"],[0.4444444444444444,\"#bd3786\"],[0.5555555555555556,\"#d8576b\"],[0.6666666666666666,\"#ed7953\"],[0.7777777777777778,\"#fb9f3a\"],[0.8888888888888888,\"#fdca26\"],[1.0,\"#f0f921\"]],\"type\":\"surface\"}],\"table\":[{\"cells\":{\"fill\":{\"color\":\"#EBF0F8\"},\"line\":{\"color\":\"white\"}},\"header\":{\"fill\":{\"color\":\"#C8D4E3\"},\"line\":{\"color\":\"white\"}},\"type\":\"table\"}]},\"layout\":{\"annotationdefaults\":{\"arrowcolor\":\"#2a3f5f\",\"arrowhead\":0,\"arrowwidth\":1},\"autotypenumbers\":\"strict\",\"coloraxis\":{\"colorbar\":{\"outlinewidth\":0,\"ticks\":\"\"}},\"colorscale\":{\"diverging\":[[0,\"#8e0152\"],[0.1,\"#c51b7d\"],[0.2,\"#de77ae\"],[0.3,\"#f1b6da\"],[0.4,\"#fde0ef\"],[0.5,\"#f7f7f7\"],[0.6,\"#e6f5d0\"],[0.7,\"#b8e186\"],[0.8,\"#7fbc41\"],[0.9,\"#4d9221\"],[1,\"#276419\"]],\"sequential\":[[0.0,\"#0d0887\"],[0.1111111111111111,\"#46039f\"],[0.2222222222222222,\"#7201a8\"],[0.3333333333333333,\"#9c179e\"],[0.4444444444444444,\"#bd3786\"],[0.5555555555555556,\"#d8576b\"],[0.6666666666666666,\"#ed7953\"],[0.7777777777777778,\"#fb9f3a\"],[0.8888888888888888,\"#fdca26\"],[1.0,\"#f0f921\"]],\"sequentialminus\":[[0.0,\"#0d0887\"],[0.1111111111111111,\"#46039f\"],[0.2222222222222222,\"#7201a8\"],[0.3333333333333333,\"#9c179e\"],[0.4444444444444444,\"#bd3786\"],[0.5555555555555556,\"#d8576b\"],[0.6666666666666666,\"#ed7953\"],[0.7777777777777778,\"#fb9f3a\"],[0.8888888888888888,\"#fdca26\"],[1.0,\"#f0f921\"]]},\"colorway\":[\"#636efa\",\"#EF553B\",\"#00cc96\",\"#ab63fa\",\"#FFA15A\",\"#19d3f3\",\"#FF6692\",\"#B6E880\",\"#FF97FF\",\"#FECB52\"],\"font\":{\"color\":\"#2a3f5f\"},\"geo\":{\"bgcolor\":\"white\",\"lakecolor\":\"white\",\"landcolor\":\"#E5ECF6\",\"showlakes\":true,\"showland\":true,\"subunitcolor\":\"white\"},\"hoverlabel\":{\"align\":\"left\"},\"hovermode\":\"closest\",\"mapbox\":{\"style\":\"light\"},\"paper_bgcolor\":\"white\",\"plot_bgcolor\":\"#E5ECF6\",\"polar\":{\"angularaxis\":{\"gridcolor\":\"white\",\"linecolor\":\"white\",\"ticks\":\"\"},\"bgcolor\":\"#E5ECF6\",\"radialaxis\":{\"gridcolor\":\"white\",\"linecolor\":\"white\",\"ticks\":\"\"}},\"scene\":{\"xaxis\":{\"backgroundcolor\":\"#E5ECF6\",\"gridcolor\":\"white\",\"gridwidth\":2,\"linecolor\":\"white\",\"showbackground\":true,\"ticks\":\"\",\"zerolinecolor\":\"white\"},\"yaxis\":{\"backgroundcolor\":\"#E5ECF6\",\"gridcolor\":\"white\",\"gridwidth\":2,\"linecolor\":\"white\",\"showbackground\":true,\"ticks\":\"\",\"zerolinecolor\":\"white\"},\"zaxis\":{\"backgroundcolor\":\"#E5ECF6\",\"gridcolor\":\"white\",\"gridwidth\":2,\"linecolor\":\"white\",\"showbackground\":true,\"ticks\":\"\",\"zerolinecolor\":\"white\"}},\"shapedefaults\":{\"line\":{\"color\":\"#2a3f5f\"}},\"ternary\":{\"aaxis\":{\"gridcolor\":\"white\",\"linecolor\":\"white\",\"ticks\":\"\"},\"baxis\":{\"gridcolor\":\"white\",\"linecolor\":\"white\",\"ticks\":\"\"},\"bgcolor\":\"#E5ECF6\",\"caxis\":{\"gridcolor\":\"white\",\"linecolor\":\"white\",\"ticks\":\"\"}},\"title\":{\"x\":0.05},\"xaxis\":{\"automargin\":true,\"gridcolor\":\"white\",\"linecolor\":\"white\",\"ticks\":\"\",\"title\":{\"standoff\":15},\"zerolinecolor\":\"white\",\"zerolinewidth\":2},\"yaxis\":{\"automargin\":true,\"gridcolor\":\"white\",\"linecolor\":\"white\",\"ticks\":\"\",\"title\":{\"standoff\":15},\"zerolinecolor\":\"white\",\"zerolinewidth\":2}}},\"title\":{\"text\":\"Distribution of class variable in test dataset\"}},                        {\"responsive\": true}                    ).then(function(){\n",
       "                            \n",
       "var gd = document.getElementById('091adfb3-faf4-4345-8ea6-6421aaa6a1e2');\n",
       "var x = new MutationObserver(function (mutations, observer) {{\n",
       "        var display = window.getComputedStyle(gd).display;\n",
       "        if (!display || display === 'none') {{\n",
       "            console.log([gd, 'removed!']);\n",
       "            Plotly.purge(gd);\n",
       "            observer.disconnect();\n",
       "        }}\n",
       "}});\n",
       "\n",
       "// Listen for the removal of the full notebook cells\n",
       "var notebookContainer = gd.closest('#notebook-container');\n",
       "if (notebookContainer) {{\n",
       "    x.observe(notebookContainer, {childList: true});\n",
       "}}\n",
       "\n",
       "// Listen for the clearing of the current output cell\n",
       "var outputEl = gd.closest('.output');\n",
       "if (outputEl) {{\n",
       "    x.observe(outputEl, {childList: true});\n",
       "}}\n",
       "\n",
       "                        })                };                });            </script>        </div>"
      ]
     },
     "metadata": {},
     "output_type": "display_data"
    }
   ],
   "source": [
    "trace = go.Pie(labels = ['Pneumonia', 'Normal'],values = df_test['class'].value_counts(),\n",
    "               textfont=dict(size=15),opacity=0.8,\n",
    "               marker=dict(colors=['lightskyblue','gold'],\n",
    "                           line=dict(color='#000000',width=1.5))\n",
    "               )\n",
    "layout = dict(title='Distribution of class variable in test dataset')\n",
    "\n",
    "fig = dict(data = [trace], layout=layout)\n",
    "py.iplot(fig)"
   ]
  },
  {
   "cell_type": "markdown",
   "id": "80261eeb",
   "metadata": {},
   "source": [
    "# Previewing the images"
   ]
  },
  {
   "cell_type": "code",
   "execution_count": 11,
   "id": "8b90ba03",
   "metadata": {},
   "outputs": [
    {
     "name": "stdout",
     "output_type": "stream",
     "text": [
      "Train Set - Normal\n"
     ]
    },
    {
     "data": {
      "image/png": "[encoded data removed]",
      "text/plain": [
       "<Figure size 1200x1200 with 3 Axes>"
      ]
     },
     "metadata": {},
     "output_type": "display_data"
    },
    {
     "name": "stdout",
     "output_type": "stream",
     "text": [
      "Train Set - Pneumonia\n"
     ]
    },
    {
     "data": {
      "image/png": "[encoded data removed]",
      "text/plain": [
       "<Figure size 1200x1200 with 3 Axes>"
      ]
     },
     "metadata": {},
     "output_type": "display_data"
    }
   ],
   "source": [
    "print('Train Set - Normal') \n",
    "\n",
    "plt.figure(figsize=(12,12))\n",
    "\n",
    "for i in range(0,3):\n",
    "    plt.subplot(3, 4, i+1)\n",
    "    img = cv2.imread(train_normal[i])\n",
    "    img = cv2.resize(img, (244,244))\n",
    "    plt.imshow(img)\n",
    "    plt.axis(\"off\")\n",
    "\n",
    "plt.tight_layout()\n",
    "plt.show()\n",
    "\n",
    "print('Train Set - Pneumonia')\n",
    "plt.figure(figsize=(12,12))\n",
    "\n",
    "for i in range(0,3):\n",
    "    plt.subplot(3,4,i+1)\n",
    "    img = cv2.imread(train_pneumonia[i])\n",
    "    img = cv2.resize(img, (244,244))\n",
    "    plt.imshow(img)\n",
    "    plt.axis(\"off\")\n",
    "\n",
    "plt.tight_layout()\n",
    "\n",
    "plt.show()"
   ]
  },
  {
   "cell_type": "markdown",
   "id": "027bd6da",
   "metadata": {},
   "source": [
    "# Data Splitting"
   ]
  },
  {
   "cell_type": "code",
   "execution_count": 12,
   "id": "0423fdfa",
   "metadata": {},
   "outputs": [],
   "source": [
    "SEED = 42\n",
    "train_df,val_df = train_test_split(df_train,test_size=0.2,random_state = SEED, \n",
    "                                      stratify = df_train['class'])"
   ]
  },
  {
   "cell_type": "markdown",
   "id": "efab2f07",
   "metadata": {},
   "source": [
    "# Data Augmentation"
   ]
  },
  {
   "cell_type": "code",
   "execution_count": 13,
   "id": "8a989f24",
   "metadata": {},
   "outputs": [
    {
     "name": "stdout",
     "output_type": "stream",
     "text": [
      "Found 4172 validated image filenames belonging to 2 classes.\n",
      "Found 1044 validated image filenames belonging to 2 classes.\n",
      "Found 624 validated image filenames belonging to 2 classes.\n"
     ]
    }
   ],
   "source": [
    "IMG_SIZE = 224\n",
    "BATCH = 32\n",
    "# ImageDataGenerator class allows the users to perform image augmentation while training the model\n",
    "train_datagen = ImageDataGenerator(rescale=1/255.,\n",
    "                                   zoom_range = 0.1,\n",
    "                                   width_shift_range = 0.1,\n",
    "                                   height_shift_range= 0.1)\n",
    "\n",
    "val_datagen = ImageDataGenerator(rescale=1/255.)\n",
    "\n",
    "# The flow_from_dataframe() method takes the Pandas DataFrame and the path to a directory and generates batches of augmented/normalized data\n",
    "ds_train = train_datagen.flow_from_dataframe(train_df,\n",
    "                                             x_col = 'image',\n",
    "                                             y_col = 'class',\n",
    "                                             target_size=(IMG_SIZE,IMG_SIZE),\n",
    "                                             class_mode='binary',\n",
    "                                             batch_size=BATCH,\n",
    "                                             seed=SEED,\n",
    "                                             )\n",
    "\n",
    "ds_val = val_datagen.flow_from_dataframe(val_df,\n",
    "                                            x_col = 'image',\n",
    "                                            y_col = 'class',\n",
    "                                            target_size = (IMG_SIZE, IMG_SIZE),\n",
    "                                            class_mode = 'binary',\n",
    "                                            batch_size = BATCH,\n",
    "                                            seed = SEED)\n",
    "\n",
    "ds_test = val_datagen.flow_from_dataframe(df_test,\n",
    "                                             x_col = 'image',\n",
    "                                             y_col = 'class',\n",
    "                                             target_size=(IMG_SIZE,IMG_SIZE),\n",
    "                                             class_mode='binary',\n",
    "                                             batch_size=BATCH,\n",
    "                                             seed=SEED,\n",
    "                                             )\n"
   ]
  },
  {
   "cell_type": "markdown",
   "id": "3d1b2ef1",
   "metadata": {},
   "source": [
    "# Setting callbakcs"
   ]
  },
  {
   "cell_type": "code",
   "execution_count": 14,
   "id": "ac53f98a",
   "metadata": {},
   "outputs": [],
   "source": [
    "# callbacks.EarlyStopping : is a method that allows you to specify an arbitrary \n",
    "# large number of training epochs and stop training once the model performance\n",
    "# stops improving on a hold out validation dataset.\n",
    "\n",
    "early_stopping = callbacks.EarlyStopping(\n",
    "    monitor='val_loss',\n",
    "    patience=5,\n",
    "    min_delta=1e-7,\n",
    "    restore_best_weights=True,\n",
    ")\n",
    "\n",
    "\n",
    "# Reduce learning rate when a metric has stopped improving\n",
    "plateau = callbacks.ReduceLROnPlateau(\n",
    "    monitor='val_loss',\n",
    "    factor = 0.2,                                     \n",
    "    patience = 2,                                   \n",
    "    min_delt = 1e-7,                                \n",
    "    cooldown = 0,                               \n",
    "    verbose = 1\n",
    ") "
   ]
  },
  {
   "cell_type": "markdown",
   "id": "f25c995e",
   "metadata": {},
   "source": [
    "# Create Model"
   ]
  },
  {
   "cell_type": "code",
   "execution_count": 15,
   "id": "2cafd3ae",
   "metadata": {},
   "outputs": [],
   "source": [
    "def get_model():\n",
    "\n",
    "    inputs = layers.Input(shape=(IMG_SIZE, IMG_SIZE,3))\n",
    "\n",
    "\n",
    "    # Bloc One\n",
    "    x = layers.Conv2D(filters=16, kernel_size=3, padding='valid')(inputs) \n",
    "    # Batch normalization applies a transformation that maintains the \n",
    "    # mean output close to 0 and the output standard deviation close to 1.\n",
    "    x = layers.BatchNormalization()(x)\n",
    "    x = layers.Activation('relu')(x)\n",
    "    x = layers.MaxPool2D()(x)\n",
    "    x = layers.Dropout(0.2)(x)\n",
    "\n",
    "    # Bloc Two \n",
    "    x = layers.Conv2D(filters=32, kernel_size=3, padding='valid')(x)\n",
    "    x = layers.BatchNormalization()(x)\n",
    "    x = layers.Activation('relu')(x)\n",
    "    x = layers.MaxPool2D()(x)\n",
    "    x = layers.Dropout(0.2)(x)\n",
    "\n",
    "    # Bloc Three \n",
    "    x = layers.Conv2D(filters=64, kernel_size=3, padding='valid')(x) \n",
    "    x = layers.Conv2D(filters=64, kernel_size=3, padding='valid')(x)\n",
    "    x = layers.BatchNormalization()(x)\n",
    "    x = layers.Activation('relu')(x)\n",
    "    x = layers.MaxPool2D()(x)\n",
    "    x = layers.Dropout(0.4)(x)\n",
    "\n",
    "    # Head\n",
    "    x = layers.Flatten()(x)\n",
    "    x = layers.Dense(64, activation='relu')(x)\n",
    "    x = layers.Dropout(0.5)(x)\n",
    "\n",
    "    output = layers.Dense(1, activation='sigmoid')(x)\n",
    "\n",
    "    model = keras.Model(inputs=[inputs], outputs=output)\n",
    "    return model"
   ]
  },
  {
   "cell_type": "code",
   "execution_count": 16,
   "id": "1b98804f",
   "metadata": {},
   "outputs": [
    {
     "name": "stdout",
     "output_type": "stream",
     "text": [
      "Model: \"model\"\n",
      "_________________________________________________________________\n",
      " Layer (type)                Output Shape              Param #   \n",
      "=================================================================\n",
      " input_1 (InputLayer)        [(None, 224, 224, 3)]     0         \n",
      "                                                                 \n",
      " conv2d (Conv2D)             (None, 222, 222, 16)      448       \n",
      "                                                                 \n",
      " batch_normalization (BatchN  (None, 222, 222, 16)     64        \n",
      " ormalization)                                                   \n",
      "                                                                 \n",
      " activation (Activation)     (None, 222, 222, 16)      0         \n",
      "                                                                 \n",
      " max_pooling2d (MaxPooling2D  (None, 111, 111, 16)     0         \n",
      " )                                                               \n",
      "                                                                 \n",
      " dropout (Dropout)           (None, 111, 111, 16)      0         \n",
      "                                                                 \n",
      " conv2d_1 (Conv2D)           (None, 109, 109, 32)      4640      \n",
      "                                                                 \n",
      " batch_normalization_1 (Batc  (None, 109, 109, 32)     128       \n",
      " hNormalization)                                                 \n",
      "                                                                 \n",
      " activation_1 (Activation)   (None, 109, 109, 32)      0         \n",
      "                                                                 \n",
      " max_pooling2d_1 (MaxPooling  (None, 54, 54, 32)       0         \n",
      " 2D)                                                             \n",
      "                                                                 \n",
      " dropout_1 (Dropout)         (None, 54, 54, 32)        0         \n",
      "                                                                 \n",
      " conv2d_2 (Conv2D)           (None, 52, 52, 64)        18496     \n",
      "                                                                 \n",
      " conv2d_3 (Conv2D)           (None, 50, 50, 64)        36928     \n",
      "                                                                 \n",
      " batch_normalization_2 (Batc  (None, 50, 50, 64)       256       \n",
      " hNormalization)                                                 \n",
      "                                                                 \n",
      " activation_2 (Activation)   (None, 50, 50, 64)        0         \n",
      "                                                                 \n",
      " max_pooling2d_2 (MaxPooling  (None, 25, 25, 64)       0         \n",
      " 2D)                                                             \n",
      "                                                                 \n",
      " dropout_2 (Dropout)         (None, 25, 25, 64)        0         \n",
      "                                                                 \n",
      " flatten (Flatten)           (None, 40000)             0         \n",
      "                                                                 \n",
      " dense (Dense)               (None, 64)                2560064   \n",
      "                                                                 \n",
      " dropout_3 (Dropout)         (None, 64)                0         \n",
      "                                                                 \n",
      " dense_1 (Dense)             (None, 1)                 65        \n",
      "                                                                 \n",
      "=================================================================\n",
      "Total params: 2,621,089\n",
      "Trainable params: 2,620,865\n",
      "Non-trainable params: 224\n",
      "_________________________________________________________________\n"
     ]
    }
   ],
   "source": [
    "model = get_model()\n",
    "model.compile(loss='binary_crossentropy',\n",
    "              optimizer = keras.optimizers.Adam(learning_rate=3e-5),metrics='binary_accuracy')\n",
    "model.summary()\n"
   ]
  },
  {
   "cell_type": "code",
   "execution_count": 17,
   "id": "bd8636a8",
   "metadata": {},
   "outputs": [
    {
     "name": "stdout",
     "output_type": "stream",
     "text": [
      "Epoch 1/50\n",
      "130/130 [==============================] - 152s 1s/step - loss: 0.5246 - binary_accuracy: 0.7536 - val_loss: 1.1457 - val_binary_accuracy: 0.7393 - lr: 3.0000e-05\n",
      "Epoch 2/50\n",
      "130/130 [==============================] - 146s 1s/step - loss: 0.3586 - binary_accuracy: 0.8304 - val_loss: 1.9790 - val_binary_accuracy: 0.7432 - lr: 3.0000e-05\n",
      "Epoch 3/50\n",
      "130/130 [==============================] - ETA: 0s - loss: 0.2690 - binary_accuracy: 0.8829\n",
      "Epoch 3: ReduceLROnPlateau reducing learning rate to 5.9999998484272515e-06.\n",
      "130/130 [==============================] - 156s 1s/step - loss: 0.2690 - binary_accuracy: 0.8829 - val_loss: 2.0129 - val_binary_accuracy: 0.7432 - lr: 3.0000e-05\n",
      "Epoch 4/50\n",
      "130/130 [==============================] - 156s 1s/step - loss: 0.2361 - binary_accuracy: 0.9010 - val_loss: 1.4588 - val_binary_accuracy: 0.7422 - lr: 6.0000e-06\n",
      "Epoch 5/50\n",
      "130/130 [==============================] - 161s 1s/step - loss: 0.2198 - binary_accuracy: 0.9092 - val_loss: 0.5314 - val_binary_accuracy: 0.7842 - lr: 6.0000e-06\n",
      "Epoch 6/50\n",
      "130/130 [==============================] - 158s 1s/step - loss: 0.2189 - binary_accuracy: 0.9116 - val_loss: 0.1748 - val_binary_accuracy: 0.9307 - lr: 6.0000e-06\n",
      "Epoch 7/50\n",
      "130/130 [==============================] - 150s 1s/step - loss: 0.2155 - binary_accuracy: 0.9140 - val_loss: 0.1530 - val_binary_accuracy: 0.9404 - lr: 6.0000e-06\n",
      "Epoch 8/50\n",
      "130/130 [==============================] - 154s 1s/step - loss: 0.2176 - binary_accuracy: 0.9123 - val_loss: 0.1572 - val_binary_accuracy: 0.9385 - lr: 6.0000e-06\n",
      "Epoch 9/50\n",
      "130/130 [==============================] - 149s 1s/step - loss: 0.2047 - binary_accuracy: 0.9196 - val_loss: 0.1386 - val_binary_accuracy: 0.9502 - lr: 6.0000e-06\n",
      "Epoch 10/50\n",
      "130/130 [==============================] - 149s 1s/step - loss: 0.2006 - binary_accuracy: 0.9254 - val_loss: 0.1570 - val_binary_accuracy: 0.9375 - lr: 6.0000e-06\n",
      "Epoch 11/50\n",
      "130/130 [==============================] - ETA: 0s - loss: 0.1987 - binary_accuracy: 0.9188\n",
      "Epoch 11: ReduceLROnPlateau reducing learning rate to 1.1999999514955563e-06.\n",
      "130/130 [==============================] - 151s 1s/step - loss: 0.1987 - binary_accuracy: 0.9188 - val_loss: 0.1645 - val_binary_accuracy: 0.9316 - lr: 6.0000e-06\n",
      "Epoch 12/50\n",
      "130/130 [==============================] - 146s 1s/step - loss: 0.1892 - binary_accuracy: 0.9229 - val_loss: 0.1643 - val_binary_accuracy: 0.9316 - lr: 1.2000e-06\n",
      "Epoch 13/50\n",
      "130/130 [==============================] - ETA: 0s - loss: 0.1916 - binary_accuracy: 0.9254\n",
      "Epoch 13: ReduceLROnPlateau reducing learning rate to 2.3999998575163774e-07.\n",
      "130/130 [==============================] - 150s 1s/step - loss: 0.1916 - binary_accuracy: 0.9254 - val_loss: 0.1576 - val_binary_accuracy: 0.9346 - lr: 1.2000e-06\n",
      "Epoch 14/50\n",
      "130/130 [==============================] - 150s 1s/step - loss: 0.1998 - binary_accuracy: 0.9213 - val_loss: 0.1621 - val_binary_accuracy: 0.9326 - lr: 2.4000e-07\n"
     ]
    }
   ],
   "source": [
    "history = model.fit(ds_train,\n",
    "                    batch_size = 32, epochs = 50,\n",
    "                    validation_data = ds_val,\n",
    "                    callbacks=[early_stopping,plateau],\n",
    "                    steps_per_epoch=(len(train_df)//BATCH),\n",
    "                    validation_steps=(len(val_df)//BATCH)\n",
    "                   );"
   ]
  },
  {
   "cell_type": "code",
   "execution_count": 24,
   "id": "9e1fc1ac",
   "metadata": {},
   "outputs": [
    {
     "data": {
      "image/png": "[encoded data removed]",
      "text/plain": [
       "<Figure size 2000x800 with 1 Axes>"
      ]
     },
     "metadata": {},
     "output_type": "display_data"
    }
   ],
   "source": [
    "fig, ax = plt.subplots(figsize=(20,8))\n",
    "sns.lineplot(x=history.epoch, y = history.history['binary_accuracy'])\n",
    "sns.lineplot(x= history.epoch, y = history.history['val_binary_accuracy'])\n",
    "\n",
    "ax.set_title('Learning Curve (Accuracy)')\n",
    "ax.set_ylabel('Accuracy')\n",
    "ax.set_xlabel('Epoch')\n",
    "ax.set_ylim(0.8, 1.0)\n",
    "ax.legend(['train','val'], loc='best')\n",
    "plt.show()"
   ]
  },
  {
   "cell_type": "code",
   "execution_count": 25,
   "id": "e8354fce",
   "metadata": {},
   "outputs": [
    {
     "name": "stdout",
     "output_type": "stream",
     "text": [
      "WARNING:tensorflow:Your input ran out of data; interrupting training. Make sure that your dataset or generator can generate at least `steps_per_epoch * epochs` batches (in this case, 624 batches). You may need to use the repeat() function when building your dataset.\n"
     ]
    }
   ],
   "source": [
    "score = model.evaluate(ds_val,steps=len(df_test),verbose = 0)"
   ]
  },
  {
   "cell_type": "code",
   "execution_count": 26,
   "id": "24112708",
   "metadata": {},
   "outputs": [
    {
     "name": "stdout",
     "output_type": "stream",
     "text": [
      "Val loss: 0.14149154722690582\n",
      "Val accuracy: 0.946360170841217\n"
     ]
    }
   ],
   "source": [
    "print('Val loss:', score[0])\n",
    "print('Val accuracy:', score[1]) "
   ]
  },
  {
   "cell_type": "code",
   "execution_count": 27,
   "id": "b1757f26",
   "metadata": {},
   "outputs": [
    {
     "name": "stdout",
     "output_type": "stream",
     "text": [
      "WARNING:tensorflow:Your input ran out of data; interrupting training. Make sure that your dataset or generator can generate at least `steps_per_epoch * epochs` batches (in this case, 624 batches). You may need to use the repeat() function when building your dataset.\n",
      "Test loss: 0.5380926132202148\n",
      "Test accuracy: 0.7964743375778198\n"
     ]
    }
   ],
   "source": [
    "score = model.evaluate(ds_test,steps=len(df_test),verbose = 0)\n",
    "print('Test loss:', score[0])\n",
    "print('Test accuracy:', score[1]) "
   ]
  },
  {
   "cell_type": "markdown",
   "id": "a8212c4c",
   "metadata": {},
   "source": [
    "# ResNet"
   ]
  },
  {
   "cell_type": "code",
   "execution_count": 28,
   "id": "c899f7e4",
   "metadata": {},
   "outputs": [
    {
     "name": "stdout",
     "output_type": "stream",
     "text": [
      "Downloading data from https://storage.googleapis.com/tensorflow/keras-applications/resnet/resnet152v2_weights_tf_dim_ordering_tf_kernels_notop.h5\n",
      "234545216/234545216 [==============================] - 395s 2us/step\n"
     ]
    }
   ],
   "source": [
    "#ResNet\n",
    "\n",
    "base_model = tf.keras.applications.resnet_v2.ResNet152V2(weights='imagenet',\n",
    "                                             input_shape=(IMG_SIZE, IMG_SIZE,3),\n",
    "                                             include_top=False)\n",
    "\n",
    "base_model.trainable = False \n",
    "\n",
    "\n",
    "# globalAveragePooling2d() function is used\n",
    "# for applying global average pooling operation for spatial data.\n",
    "\n",
    "def get_pretrained():\n",
    "    \n",
    "    inputs = layers.Input(shape=(IMG_SIZE,IMG_SIZE,3))\n",
    "    x = base_model(inputs)\n",
    "    \n",
    "    \n",
    "    #HEAD\n",
    "    x = layers.GlobalAveragePooling2D()(x)\n",
    "    x = layers.Dense(128, activation='relu')(x)\n",
    "    x = layers.Dropout(0.1)(x)\n",
    "    \n",
    "    #Final Layer (Output)\n",
    "    output = layers.Dense(1,activation='sigmoid')(x)\n",
    "    \n",
    "    model = keras.Model(inputs=[inputs],outputs=output)\n",
    "    \n",
    "    return model"
   ]
  },
  {
   "cell_type": "code",
   "execution_count": 29,
   "id": "cbbd43bb",
   "metadata": {},
   "outputs": [
    {
     "name": "stdout",
     "output_type": "stream",
     "text": [
      "Model: \"model\"\n",
      "_________________________________________________________________\n",
      " Layer (type)                Output Shape              Param #   \n",
      "=================================================================\n",
      " input_1 (InputLayer)        [(None, 224, 224, 3)]     0         \n",
      "                                                                 \n",
      " resnet152v2 (Functional)    (None, 7, 7, 2048)        58331648  \n",
      "                                                                 \n",
      " global_average_pooling2d (G  (None, 2048)             0         \n",
      " lobalAveragePooling2D)                                          \n",
      "                                                                 \n",
      " dense (Dense)               (None, 128)               262272    \n",
      "                                                                 \n",
      " dropout (Dropout)           (None, 128)               0         \n",
      "                                                                 \n",
      " dense_1 (Dense)             (None, 1)                 129       \n",
      "                                                                 \n",
      "=================================================================\n",
      "Total params: 58,594,049\n",
      "Trainable params: 262,401\n",
      "Non-trainable params: 58,331,648\n",
      "_________________________________________________________________\n"
     ]
    }
   ],
   "source": [
    "keras.backend.clear_session()\n",
    "\n",
    "model_pretrained = get_pretrained()\n",
    "model_pretrained.compile(loss='binary_crossentropy',optimizer= keras.optimizers.Adam(learning_rate=5e-5),\n",
    "                         metrics='binary_accuracy')\n",
    "model_pretrained.summary()"
   ]
  },
  {
   "cell_type": "code",
   "execution_count": 30,
   "id": "30bb6a4a",
   "metadata": {},
   "outputs": [
    {
     "name": "stdout",
     "output_type": "stream",
     "text": [
      "Epoch 1/50\n",
      "130/130 [==============================] - 499s 4s/step - loss: 0.3331 - binary_accuracy: 0.8597 - val_loss: 0.1944 - val_binary_accuracy: 0.9215 - lr: 5.0000e-05\n",
      "Epoch 2/50\n",
      "130/130 [==============================] - 475s 4s/step - loss: 0.1911 - binary_accuracy: 0.9309 - val_loss: 0.1491 - val_binary_accuracy: 0.9435 - lr: 5.0000e-05\n",
      "Epoch 3/50\n",
      "130/130 [==============================] - 454s 3s/step - loss: 0.1553 - binary_accuracy: 0.9396 - val_loss: 0.1261 - val_binary_accuracy: 0.9511 - lr: 5.0000e-05\n",
      "Epoch 4/50\n",
      "130/130 [==============================] - 453s 3s/step - loss: 0.1463 - binary_accuracy: 0.9493 - val_loss: 0.1479 - val_binary_accuracy: 0.9358 - lr: 5.0000e-05\n",
      "Epoch 5/50\n",
      "130/130 [==============================] - 462s 4s/step - loss: 0.1424 - binary_accuracy: 0.9486 - val_loss: 0.1108 - val_binary_accuracy: 0.9598 - lr: 5.0000e-05\n",
      "Epoch 6/50\n",
      "130/130 [==============================] - 457s 4s/step - loss: 0.1329 - binary_accuracy: 0.9498 - val_loss: 0.1356 - val_binary_accuracy: 0.9435 - lr: 5.0000e-05\n",
      "Epoch 7/50\n",
      "130/130 [==============================] - 437s 3s/step - loss: 0.1213 - binary_accuracy: 0.9594 - val_loss: 0.0934 - val_binary_accuracy: 0.9665 - lr: 5.0000e-05\n",
      "Epoch 8/50\n",
      "130/130 [==============================] - 437s 3s/step - loss: 0.1174 - binary_accuracy: 0.9577 - val_loss: 0.0963 - val_binary_accuracy: 0.9646 - lr: 5.0000e-05\n",
      "Epoch 9/50\n",
      "130/130 [==============================] - 437s 3s/step - loss: 0.1120 - binary_accuracy: 0.9616 - val_loss: 0.0907 - val_binary_accuracy: 0.9674 - lr: 5.0000e-05\n",
      "Epoch 10/50\n",
      "130/130 [==============================] - 438s 3s/step - loss: 0.1055 - binary_accuracy: 0.9606 - val_loss: 0.1016 - val_binary_accuracy: 0.9626 - lr: 5.0000e-05\n",
      "Epoch 11/50\n",
      "130/130 [==============================] - ETA: 0s - loss: 0.1031 - binary_accuracy: 0.9611\n",
      "Epoch 11: ReduceLROnPlateau reducing learning rate to 9.999999747378752e-06.\n",
      "130/130 [==============================] - 437s 3s/step - loss: 0.1031 - binary_accuracy: 0.9611 - val_loss: 0.0983 - val_binary_accuracy: 0.9636 - lr: 5.0000e-05\n",
      "Epoch 12/50\n",
      "130/130 [==============================] - 438s 3s/step - loss: 0.1003 - binary_accuracy: 0.9647 - val_loss: 0.0904 - val_binary_accuracy: 0.9674 - lr: 1.0000e-05\n",
      "Epoch 13/50\n",
      "130/130 [==============================] - 437s 3s/step - loss: 0.1008 - binary_accuracy: 0.9626 - val_loss: 0.0873 - val_binary_accuracy: 0.9674 - lr: 1.0000e-05\n",
      "Epoch 14/50\n",
      "130/130 [==============================] - 438s 3s/step - loss: 0.1010 - binary_accuracy: 0.9645 - val_loss: 0.0861 - val_binary_accuracy: 0.9674 - lr: 1.0000e-05\n",
      "Epoch 15/50\n",
      "130/130 [==============================] - 441s 3s/step - loss: 0.0974 - binary_accuracy: 0.9652 - val_loss: 0.0858 - val_binary_accuracy: 0.9665 - lr: 1.0000e-05\n",
      "Epoch 16/50\n",
      "130/130 [==============================] - 461s 4s/step - loss: 0.1003 - binary_accuracy: 0.9630 - val_loss: 0.0808 - val_binary_accuracy: 0.9693 - lr: 1.0000e-05\n",
      "Epoch 17/50\n",
      "130/130 [==============================] - 464s 4s/step - loss: 0.0969 - binary_accuracy: 0.9650 - val_loss: 0.0892 - val_binary_accuracy: 0.9674 - lr: 1.0000e-05\n",
      "Epoch 18/50\n",
      "130/130 [==============================] - ETA: 0s - loss: 0.1051 - binary_accuracy: 0.9599\n",
      "Epoch 18: ReduceLROnPlateau reducing learning rate to 1.9999999494757505e-06.\n",
      "130/130 [==============================] - 463s 4s/step - loss: 0.1051 - binary_accuracy: 0.9599 - val_loss: 0.0898 - val_binary_accuracy: 0.9674 - lr: 1.0000e-05\n",
      "Epoch 19/50\n",
      "130/130 [==============================] - 445s 3s/step - loss: 0.0900 - binary_accuracy: 0.9681 - val_loss: 0.0843 - val_binary_accuracy: 0.9674 - lr: 2.0000e-06\n",
      "Epoch 20/50\n",
      "130/130 [==============================] - ETA: 0s - loss: 0.0986 - binary_accuracy: 0.9635\n",
      "Epoch 20: ReduceLROnPlateau reducing learning rate to 3.999999989900971e-07.\n",
      "130/130 [==============================] - 438s 3s/step - loss: 0.0986 - binary_accuracy: 0.9635 - val_loss: 0.0844 - val_binary_accuracy: 0.9674 - lr: 2.0000e-06\n",
      "Epoch 21/50\n",
      "130/130 [==============================] - 438s 3s/step - loss: 0.0985 - binary_accuracy: 0.9667 - val_loss: 0.0844 - val_binary_accuracy: 0.9674 - lr: 4.0000e-07\n"
     ]
    }
   ],
   "source": [
    "history = model_pretrained.fit(ds_train, batch_size = BATCH,\n",
    "                              epochs = 50, validation_data = ds_val,\n",
    "                              callbacks=[early_stopping,plateau],\n",
    "                              steps_per_epoch=(len(train_df)//BATCH),\n",
    "                              validation_steps=(len(val_df)/BATCH));"
   ]
  },
  {
   "cell_type": "code",
   "execution_count": 31,
   "id": "a898f721",
   "metadata": {},
   "outputs": [],
   "source": [
    "model_pretrained.save(\"model_pretrained.h5\")"
   ]
  },
  {
   "cell_type": "code",
   "execution_count": 32,
   "id": "b4862d8c",
   "metadata": {},
   "outputs": [
    {
     "data": {
      "image/png": "[encoded data removed]",
      "text/plain": [
       "<Figure size 2000x800 with 1 Axes>"
      ]
     },
     "metadata": {},
     "output_type": "display_data"
    }
   ],
   "source": [
    "fig, ax = plt.subplots(figsize=(20,8))\n",
    "sns.lineplot(x=history.epoch, y = history.history['loss'])\n",
    "sns.lineplot(x= history.epoch, y= history.history['val_loss'])\n",
    "ax.set_title('Learning Curve (LOSS)')\n",
    "ax.set_ylabel('Loss')\n",
    "ax.set_xlabel('Epoch')\n",
    "ax.set_ylim(0,0.5)\n",
    "ax.legend(['train','val'],loc='best')\n",
    "plt.show()"
   ]
  },
  {
   "cell_type": "code",
   "execution_count": 33,
   "id": "8174060c",
   "metadata": {},
   "outputs": [
    {
     "data": {
      "image/png": "[encoded data removed]",
      "text/plain": [
       "<Figure size 2000x800 with 1 Axes>"
      ]
     },
     "metadata": {},
     "output_type": "display_data"
    }
   ],
   "source": [
    "fig, ax = plt.subplots(figsize=(20,8))\n",
    "sns.lineplot(x=history.epoch, y = history.history['binary_accuracy'])\n",
    "sns.lineplot(x= history.epoch, y= history.history['val_binary_accuracy'])\n",
    "ax.set_title('Learning Curve (Accuracy)')\n",
    "ax.set_ylabel('Accuracy')\n",
    "ax.set_xlabel('Epoch')\n",
    "ax.set_ylim(0.8,1)\n",
    "ax.legend(['train','val'],loc='best')\n",
    "plt.show()"
   ]
  },
  {
   "cell_type": "code",
   "execution_count": 34,
   "id": "d318857f",
   "metadata": {},
   "outputs": [
    {
     "name": "stdout",
     "output_type": "stream",
     "text": [
      "Val loss: 0.08081024140119553\n",
      "Val accuracy: 0.969348669052124\n"
     ]
    }
   ],
   "source": [
    "score = model_pretrained.evaluate(ds_val, steps = len(val_df)/BATCH, verbose = 0)\n",
    "print('Val loss:', score[0])\n",
    "print('Val accuracy:', score[1])"
   ]
  },
  {
   "cell_type": "code",
   "execution_count": 35,
   "id": "a4427ccc",
   "metadata": {},
   "outputs": [
    {
     "name": "stdout",
     "output_type": "stream",
     "text": [
      "Test loss: 0.46151643991470337\n",
      "Test accuracy: 0.8413461446762085\n"
     ]
    }
   ],
   "source": [
    "score = model_pretrained.evaluate(ds_test, steps = len(df_test)/BATCH, verbose = 0)\n",
    "print('Test loss:', score[0])\n",
    "print('Test accuracy:', score[1])"
   ]
  },
  {
   "cell_type": "markdown",
   "id": "2a98f566",
   "metadata": {},
   "source": [
    "# Fine Tuning"
   ]
  },
  {
   "cell_type": "code",
   "execution_count": 36,
   "id": "1d371f7f",
   "metadata": {},
   "outputs": [],
   "source": [
    "#Fine Tuning \n",
    "\n",
    "base_model.trainable=True\n",
    "\n",
    "for layers in base_model.layers[:-20]:\n",
    "    layers.trainable = False\n",
    "    "
   ]
  },
  {
   "cell_type": "code",
   "execution_count": 37,
   "id": "8efe655e",
   "metadata": {},
   "outputs": [
    {
     "name": "stdout",
     "output_type": "stream",
     "text": [
      "0 input_2 False\n",
      "1 conv1_pad False\n",
      "2 conv1_conv False\n",
      "3 pool1_pad False\n",
      "4 pool1_pool False\n",
      "5 conv2_block1_preact_bn False\n",
      "6 conv2_block1_preact_relu False\n",
      "7 conv2_block1_1_conv False\n",
      "8 conv2_block1_1_bn False\n",
      "9 conv2_block1_1_relu False\n",
      "10 conv2_block1_2_pad False\n",
      "11 conv2_block1_2_conv False\n",
      "12 conv2_block1_2_bn False\n",
      "13 conv2_block1_2_relu False\n",
      "14 conv2_block1_0_conv False\n",
      "15 conv2_block1_3_conv False\n",
      "16 conv2_block1_out False\n",
      "17 conv2_block2_preact_bn False\n",
      "18 conv2_block2_preact_relu False\n",
      "19 conv2_block2_1_conv False\n",
      "20 conv2_block2_1_bn False\n",
      "21 conv2_block2_1_relu False\n",
      "22 conv2_block2_2_pad False\n",
      "23 conv2_block2_2_conv False\n",
      "24 conv2_block2_2_bn False\n",
      "25 conv2_block2_2_relu False\n",
      "26 conv2_block2_3_conv False\n",
      "27 conv2_block2_out False\n",
      "28 conv2_block3_preact_bn False\n",
      "29 conv2_block3_preact_relu False\n",
      "30 conv2_block3_1_conv False\n",
      "31 conv2_block3_1_bn False\n",
      "32 conv2_block3_1_relu False\n",
      "33 conv2_block3_2_pad False\n",
      "34 conv2_block3_2_conv False\n",
      "35 conv2_block3_2_bn False\n",
      "36 conv2_block3_2_relu False\n",
      "37 max_pooling2d_3 False\n",
      "38 conv2_block3_3_conv False\n",
      "39 conv2_block3_out False\n",
      "40 conv3_block1_preact_bn False\n",
      "41 conv3_block1_preact_relu False\n",
      "42 conv3_block1_1_conv False\n",
      "43 conv3_block1_1_bn False\n",
      "44 conv3_block1_1_relu False\n",
      "45 conv3_block1_2_pad False\n",
      "46 conv3_block1_2_conv False\n",
      "47 conv3_block1_2_bn False\n",
      "48 conv3_block1_2_relu False\n",
      "49 conv3_block1_0_conv False\n",
      "50 conv3_block1_3_conv False\n",
      "51 conv3_block1_out False\n",
      "52 conv3_block2_preact_bn False\n",
      "53 conv3_block2_preact_relu False\n",
      "54 conv3_block2_1_conv False\n",
      "55 conv3_block2_1_bn False\n",
      "56 conv3_block2_1_relu False\n",
      "57 conv3_block2_2_pad False\n",
      "58 conv3_block2_2_conv False\n",
      "59 conv3_block2_2_bn False\n",
      "60 conv3_block2_2_relu False\n",
      "61 conv3_block2_3_conv False\n",
      "62 conv3_block2_out False\n",
      "63 conv3_block3_preact_bn False\n",
      "64 conv3_block3_preact_relu False\n",
      "65 conv3_block3_1_conv False\n",
      "66 conv3_block3_1_bn False\n",
      "67 conv3_block3_1_relu False\n",
      "68 conv3_block3_2_pad False\n",
      "69 conv3_block3_2_conv False\n",
      "70 conv3_block3_2_bn False\n",
      "71 conv3_block3_2_relu False\n",
      "72 conv3_block3_3_conv False\n",
      "73 conv3_block3_out False\n",
      "74 conv3_block4_preact_bn False\n",
      "75 conv3_block4_preact_relu False\n",
      "76 conv3_block4_1_conv False\n",
      "77 conv3_block4_1_bn False\n",
      "78 conv3_block4_1_relu False\n",
      "79 conv3_block4_2_pad False\n",
      "80 conv3_block4_2_conv False\n",
      "81 conv3_block4_2_bn False\n",
      "82 conv3_block4_2_relu False\n",
      "83 conv3_block4_3_conv False\n",
      "84 conv3_block4_out False\n",
      "85 conv3_block5_preact_bn False\n",
      "86 conv3_block5_preact_relu False\n",
      "87 conv3_block5_1_conv False\n",
      "88 conv3_block5_1_bn False\n",
      "89 conv3_block5_1_relu False\n",
      "90 conv3_block5_2_pad False\n",
      "91 conv3_block5_2_conv False\n",
      "92 conv3_block5_2_bn False\n",
      "93 conv3_block5_2_relu False\n",
      "94 conv3_block5_3_conv False\n",
      "95 conv3_block5_out False\n",
      "96 conv3_block6_preact_bn False\n",
      "97 conv3_block6_preact_relu False\n",
      "98 conv3_block6_1_conv False\n",
      "99 conv3_block6_1_bn False\n",
      "100 conv3_block6_1_relu False\n",
      "101 conv3_block6_2_pad False\n",
      "102 conv3_block6_2_conv False\n",
      "103 conv3_block6_2_bn False\n",
      "104 conv3_block6_2_relu False\n",
      "105 conv3_block6_3_conv False\n",
      "106 conv3_block6_out False\n",
      "107 conv3_block7_preact_bn False\n",
      "108 conv3_block7_preact_relu False\n",
      "109 conv3_block7_1_conv False\n",
      "110 conv3_block7_1_bn False\n",
      "111 conv3_block7_1_relu False\n",
      "112 conv3_block7_2_pad False\n",
      "113 conv3_block7_2_conv False\n",
      "114 conv3_block7_2_bn False\n",
      "115 conv3_block7_2_relu False\n",
      "116 conv3_block7_3_conv False\n",
      "117 conv3_block7_out False\n",
      "118 conv3_block8_preact_bn False\n",
      "119 conv3_block8_preact_relu False\n",
      "120 conv3_block8_1_conv False\n",
      "121 conv3_block8_1_bn False\n",
      "122 conv3_block8_1_relu False\n",
      "123 conv3_block8_2_pad False\n",
      "124 conv3_block8_2_conv False\n",
      "125 conv3_block8_2_bn False\n",
      "126 conv3_block8_2_relu False\n",
      "127 max_pooling2d_4 False\n",
      "128 conv3_block8_3_conv False\n",
      "129 conv3_block8_out False\n",
      "130 conv4_block1_preact_bn False\n",
      "131 conv4_block1_preact_relu False\n",
      "132 conv4_block1_1_conv False\n",
      "133 conv4_block1_1_bn False\n",
      "134 conv4_block1_1_relu False\n",
      "135 conv4_block1_2_pad False\n",
      "136 conv4_block1_2_conv False\n",
      "137 conv4_block1_2_bn False\n",
      "138 conv4_block1_2_relu False\n",
      "139 conv4_block1_0_conv False\n",
      "140 conv4_block1_3_conv False\n",
      "141 conv4_block1_out False\n",
      "142 conv4_block2_preact_bn False\n",
      "143 conv4_block2_preact_relu False\n",
      "144 conv4_block2_1_conv False\n",
      "145 conv4_block2_1_bn False\n",
      "146 conv4_block2_1_relu False\n",
      "147 conv4_block2_2_pad False\n",
      "148 conv4_block2_2_conv False\n",
      "149 conv4_block2_2_bn False\n",
      "150 conv4_block2_2_relu False\n",
      "151 conv4_block2_3_conv False\n",
      "152 conv4_block2_out False\n",
      "153 conv4_block3_preact_bn False\n",
      "154 conv4_block3_preact_relu False\n",
      "155 conv4_block3_1_conv False\n",
      "156 conv4_block3_1_bn False\n",
      "157 conv4_block3_1_relu False\n",
      "158 conv4_block3_2_pad False\n",
      "159 conv4_block3_2_conv False\n",
      "160 conv4_block3_2_bn False\n",
      "161 conv4_block3_2_relu False\n",
      "162 conv4_block3_3_conv False\n",
      "163 conv4_block3_out False\n",
      "164 conv4_block4_preact_bn False\n",
      "165 conv4_block4_preact_relu False\n",
      "166 conv4_block4_1_conv False\n",
      "167 conv4_block4_1_bn False\n",
      "168 conv4_block4_1_relu False\n",
      "169 conv4_block4_2_pad False\n",
      "170 conv4_block4_2_conv False\n",
      "171 conv4_block4_2_bn False\n",
      "172 conv4_block4_2_relu False\n",
      "173 conv4_block4_3_conv False\n",
      "174 conv4_block4_out False\n",
      "175 conv4_block5_preact_bn False\n",
      "176 conv4_block5_preact_relu False\n",
      "177 conv4_block5_1_conv False\n",
      "178 conv4_block5_1_bn False\n",
      "179 conv4_block5_1_relu False\n",
      "180 conv4_block5_2_pad False\n",
      "181 conv4_block5_2_conv False\n",
      "182 conv4_block5_2_bn False\n",
      "183 conv4_block5_2_relu False\n",
      "184 conv4_block5_3_conv False\n",
      "185 conv4_block5_out False\n",
      "186 conv4_block6_preact_bn False\n",
      "187 conv4_block6_preact_relu False\n",
      "188 conv4_block6_1_conv False\n",
      "189 conv4_block6_1_bn False\n",
      "190 conv4_block6_1_relu False\n",
      "191 conv4_block6_2_pad False\n",
      "192 conv4_block6_2_conv False\n",
      "193 conv4_block6_2_bn False\n",
      "194 conv4_block6_2_relu False\n",
      "195 conv4_block6_3_conv False\n",
      "196 conv4_block6_out False\n",
      "197 conv4_block7_preact_bn False\n",
      "198 conv4_block7_preact_relu False\n",
      "199 conv4_block7_1_conv False\n",
      "200 conv4_block7_1_bn False\n",
      "201 conv4_block7_1_relu False\n",
      "202 conv4_block7_2_pad False\n",
      "203 conv4_block7_2_conv False\n",
      "204 conv4_block7_2_bn False\n",
      "205 conv4_block7_2_relu False\n",
      "206 conv4_block7_3_conv False\n",
      "207 conv4_block7_out False\n",
      "208 conv4_block8_preact_bn False\n",
      "209 conv4_block8_preact_relu False\n",
      "210 conv4_block8_1_conv False\n",
      "211 conv4_block8_1_bn False\n",
      "212 conv4_block8_1_relu False\n",
      "213 conv4_block8_2_pad False\n",
      "214 conv4_block8_2_conv False\n",
      "215 conv4_block8_2_bn False\n",
      "216 conv4_block8_2_relu False\n",
      "217 conv4_block8_3_conv False\n",
      "218 conv4_block8_out False\n",
      "219 conv4_block9_preact_bn False\n",
      "220 conv4_block9_preact_relu False\n",
      "221 conv4_block9_1_conv False\n",
      "222 conv4_block9_1_bn False\n",
      "223 conv4_block9_1_relu False\n",
      "224 conv4_block9_2_pad False\n",
      "225 conv4_block9_2_conv False\n",
      "226 conv4_block9_2_bn False\n",
      "227 conv4_block9_2_relu False\n",
      "228 conv4_block9_3_conv False\n",
      "229 conv4_block9_out False\n",
      "230 conv4_block10_preact_bn False\n",
      "231 conv4_block10_preact_relu False\n",
      "232 conv4_block10_1_conv False\n",
      "233 conv4_block10_1_bn False\n",
      "234 conv4_block10_1_relu False\n",
      "235 conv4_block10_2_pad False\n",
      "236 conv4_block10_2_conv False\n",
      "237 conv4_block10_2_bn False\n",
      "238 conv4_block10_2_relu False\n",
      "239 conv4_block10_3_conv False\n",
      "240 conv4_block10_out False\n",
      "241 conv4_block11_preact_bn False\n",
      "242 conv4_block11_preact_relu False\n",
      "243 conv4_block11_1_conv False\n",
      "244 conv4_block11_1_bn False\n",
      "245 conv4_block11_1_relu False\n",
      "246 conv4_block11_2_pad False\n",
      "247 conv4_block11_2_conv False\n",
      "248 conv4_block11_2_bn False\n",
      "249 conv4_block11_2_relu False\n",
      "250 conv4_block11_3_conv False\n",
      "251 conv4_block11_out False\n",
      "252 conv4_block12_preact_bn False\n",
      "253 conv4_block12_preact_relu False\n",
      "254 conv4_block12_1_conv False\n",
      "255 conv4_block12_1_bn False\n",
      "256 conv4_block12_1_relu False\n",
      "257 conv4_block12_2_pad False\n",
      "258 conv4_block12_2_conv False\n",
      "259 conv4_block12_2_bn False\n",
      "260 conv4_block12_2_relu False\n",
      "261 conv4_block12_3_conv False\n",
      "262 conv4_block12_out False\n",
      "263 conv4_block13_preact_bn False\n",
      "264 conv4_block13_preact_relu False\n",
      "265 conv4_block13_1_conv False\n",
      "266 conv4_block13_1_bn False\n",
      "267 conv4_block13_1_relu False\n",
      "268 conv4_block13_2_pad False\n",
      "269 conv4_block13_2_conv False\n",
      "270 conv4_block13_2_bn False\n",
      "271 conv4_block13_2_relu False\n",
      "272 conv4_block13_3_conv False\n",
      "273 conv4_block13_out False\n",
      "274 conv4_block14_preact_bn False\n",
      "275 conv4_block14_preact_relu False\n",
      "276 conv4_block14_1_conv False\n",
      "277 conv4_block14_1_bn False\n",
      "278 conv4_block14_1_relu False\n",
      "279 conv4_block14_2_pad False\n",
      "280 conv4_block14_2_conv False\n",
      "281 conv4_block14_2_bn False\n",
      "282 conv4_block14_2_relu False\n",
      "283 conv4_block14_3_conv False\n",
      "284 conv4_block14_out False\n",
      "285 conv4_block15_preact_bn False\n",
      "286 conv4_block15_preact_relu False\n",
      "287 conv4_block15_1_conv False\n",
      "288 conv4_block15_1_bn False\n",
      "289 conv4_block15_1_relu False\n",
      "290 conv4_block15_2_pad False\n",
      "291 conv4_block15_2_conv False\n",
      "292 conv4_block15_2_bn False\n",
      "293 conv4_block15_2_relu False\n",
      "294 conv4_block15_3_conv False\n",
      "295 conv4_block15_out False\n",
      "296 conv4_block16_preact_bn False\n",
      "297 conv4_block16_preact_relu False\n",
      "298 conv4_block16_1_conv False\n",
      "299 conv4_block16_1_bn False\n",
      "300 conv4_block16_1_relu False\n",
      "301 conv4_block16_2_pad False\n",
      "302 conv4_block16_2_conv False\n",
      "303 conv4_block16_2_bn False\n",
      "304 conv4_block16_2_relu False\n",
      "305 conv4_block16_3_conv False\n",
      "306 conv4_block16_out False\n",
      "307 conv4_block17_preact_bn False\n",
      "308 conv4_block17_preact_relu False\n",
      "309 conv4_block17_1_conv False\n",
      "310 conv4_block17_1_bn False\n",
      "311 conv4_block17_1_relu False\n",
      "312 conv4_block17_2_pad False\n",
      "313 conv4_block17_2_conv False\n",
      "314 conv4_block17_2_bn False\n",
      "315 conv4_block17_2_relu False\n",
      "316 conv4_block17_3_conv False\n",
      "317 conv4_block17_out False\n",
      "318 conv4_block18_preact_bn False\n",
      "319 conv4_block18_preact_relu False\n",
      "320 conv4_block18_1_conv False\n",
      "321 conv4_block18_1_bn False\n",
      "322 conv4_block18_1_relu False\n",
      "323 conv4_block18_2_pad False\n",
      "324 conv4_block18_2_conv False\n",
      "325 conv4_block18_2_bn False\n",
      "326 conv4_block18_2_relu False\n",
      "327 conv4_block18_3_conv False\n",
      "328 conv4_block18_out False\n",
      "329 conv4_block19_preact_bn False\n",
      "330 conv4_block19_preact_relu False\n",
      "331 conv4_block19_1_conv False\n",
      "332 conv4_block19_1_bn False\n",
      "333 conv4_block19_1_relu False\n",
      "334 conv4_block19_2_pad False\n",
      "335 conv4_block19_2_conv False\n",
      "336 conv4_block19_2_bn False\n",
      "337 conv4_block19_2_relu False\n",
      "338 conv4_block19_3_conv False\n",
      "339 conv4_block19_out False\n",
      "340 conv4_block20_preact_bn False\n",
      "341 conv4_block20_preact_relu False\n",
      "342 conv4_block20_1_conv False\n",
      "343 conv4_block20_1_bn False\n",
      "344 conv4_block20_1_relu False\n",
      "345 conv4_block20_2_pad False\n",
      "346 conv4_block20_2_conv False\n",
      "347 conv4_block20_2_bn False\n",
      "348 conv4_block20_2_relu False\n",
      "349 conv4_block20_3_conv False\n",
      "350 conv4_block20_out False\n",
      "351 conv4_block21_preact_bn False\n",
      "352 conv4_block21_preact_relu False\n",
      "353 conv4_block21_1_conv False\n",
      "354 conv4_block21_1_bn False\n",
      "355 conv4_block21_1_relu False\n",
      "356 conv4_block21_2_pad False\n",
      "357 conv4_block21_2_conv False\n",
      "358 conv4_block21_2_bn False\n",
      "359 conv4_block21_2_relu False\n",
      "360 conv4_block21_3_conv False\n",
      "361 conv4_block21_out False\n",
      "362 conv4_block22_preact_bn False\n",
      "363 conv4_block22_preact_relu False\n",
      "364 conv4_block22_1_conv False\n",
      "365 conv4_block22_1_bn False\n",
      "366 conv4_block22_1_relu False\n",
      "367 conv4_block22_2_pad False\n",
      "368 conv4_block22_2_conv False\n",
      "369 conv4_block22_2_bn False\n",
      "370 conv4_block22_2_relu False\n",
      "371 conv4_block22_3_conv False\n",
      "372 conv4_block22_out False\n",
      "373 conv4_block23_preact_bn False\n",
      "374 conv4_block23_preact_relu False\n",
      "375 conv4_block23_1_conv False\n",
      "376 conv4_block23_1_bn False\n",
      "377 conv4_block23_1_relu False\n",
      "378 conv4_block23_2_pad False\n",
      "379 conv4_block23_2_conv False\n",
      "380 conv4_block23_2_bn False\n",
      "381 conv4_block23_2_relu False\n",
      "382 conv4_block23_3_conv False\n",
      "383 conv4_block23_out False\n",
      "384 conv4_block24_preact_bn False\n",
      "385 conv4_block24_preact_relu False\n",
      "386 conv4_block24_1_conv False\n",
      "387 conv4_block24_1_bn False\n",
      "388 conv4_block24_1_relu False\n",
      "389 conv4_block24_2_pad False\n",
      "390 conv4_block24_2_conv False\n",
      "391 conv4_block24_2_bn False\n",
      "392 conv4_block24_2_relu False\n",
      "393 conv4_block24_3_conv False\n",
      "394 conv4_block24_out False\n",
      "395 conv4_block25_preact_bn False\n",
      "396 conv4_block25_preact_relu False\n",
      "397 conv4_block25_1_conv False\n",
      "398 conv4_block25_1_bn False\n",
      "399 conv4_block25_1_relu False\n",
      "400 conv4_block25_2_pad False\n",
      "401 conv4_block25_2_conv False\n",
      "402 conv4_block25_2_bn False\n",
      "403 conv4_block25_2_relu False\n",
      "404 conv4_block25_3_conv False\n",
      "405 conv4_block25_out False\n",
      "406 conv4_block26_preact_bn False\n",
      "407 conv4_block26_preact_relu False\n",
      "408 conv4_block26_1_conv False\n",
      "409 conv4_block26_1_bn False\n",
      "410 conv4_block26_1_relu False\n",
      "411 conv4_block26_2_pad False\n",
      "412 conv4_block26_2_conv False\n",
      "413 conv4_block26_2_bn False\n",
      "414 conv4_block26_2_relu False\n",
      "415 conv4_block26_3_conv False\n",
      "416 conv4_block26_out False\n",
      "417 conv4_block27_preact_bn False\n",
      "418 conv4_block27_preact_relu False\n",
      "419 conv4_block27_1_conv False\n",
      "420 conv4_block27_1_bn False\n",
      "421 conv4_block27_1_relu False\n",
      "422 conv4_block27_2_pad False\n",
      "423 conv4_block27_2_conv False\n",
      "424 conv4_block27_2_bn False\n",
      "425 conv4_block27_2_relu False\n",
      "426 conv4_block27_3_conv False\n",
      "427 conv4_block27_out False\n",
      "428 conv4_block28_preact_bn False\n",
      "429 conv4_block28_preact_relu False\n",
      "430 conv4_block28_1_conv False\n",
      "431 conv4_block28_1_bn False\n",
      "432 conv4_block28_1_relu False\n",
      "433 conv4_block28_2_pad False\n",
      "434 conv4_block28_2_conv False\n",
      "435 conv4_block28_2_bn False\n",
      "436 conv4_block28_2_relu False\n",
      "437 conv4_block28_3_conv False\n",
      "438 conv4_block28_out False\n",
      "439 conv4_block29_preact_bn False\n",
      "440 conv4_block29_preact_relu False\n",
      "441 conv4_block29_1_conv False\n",
      "442 conv4_block29_1_bn False\n",
      "443 conv4_block29_1_relu False\n",
      "444 conv4_block29_2_pad False\n",
      "445 conv4_block29_2_conv False\n",
      "446 conv4_block29_2_bn False\n",
      "447 conv4_block29_2_relu False\n",
      "448 conv4_block29_3_conv False\n",
      "449 conv4_block29_out False\n",
      "450 conv4_block30_preact_bn False\n",
      "451 conv4_block30_preact_relu False\n",
      "452 conv4_block30_1_conv False\n",
      "453 conv4_block30_1_bn False\n",
      "454 conv4_block30_1_relu False\n",
      "455 conv4_block30_2_pad False\n",
      "456 conv4_block30_2_conv False\n",
      "457 conv4_block30_2_bn False\n",
      "458 conv4_block30_2_relu False\n",
      "459 conv4_block30_3_conv False\n",
      "460 conv4_block30_out False\n",
      "461 conv4_block31_preact_bn False\n",
      "462 conv4_block31_preact_relu False\n",
      "463 conv4_block31_1_conv False\n",
      "464 conv4_block31_1_bn False\n",
      "465 conv4_block31_1_relu False\n",
      "466 conv4_block31_2_pad False\n",
      "467 conv4_block31_2_conv False\n",
      "468 conv4_block31_2_bn False\n",
      "469 conv4_block31_2_relu False\n",
      "470 conv4_block31_3_conv False\n",
      "471 conv4_block31_out False\n",
      "472 conv4_block32_preact_bn False\n",
      "473 conv4_block32_preact_relu False\n",
      "474 conv4_block32_1_conv False\n",
      "475 conv4_block32_1_bn False\n",
      "476 conv4_block32_1_relu False\n",
      "477 conv4_block32_2_pad False\n",
      "478 conv4_block32_2_conv False\n",
      "479 conv4_block32_2_bn False\n",
      "480 conv4_block32_2_relu False\n",
      "481 conv4_block32_3_conv False\n",
      "482 conv4_block32_out False\n",
      "483 conv4_block33_preact_bn False\n",
      "484 conv4_block33_preact_relu False\n",
      "485 conv4_block33_1_conv False\n",
      "486 conv4_block33_1_bn False\n",
      "487 conv4_block33_1_relu False\n",
      "488 conv4_block33_2_pad False\n",
      "489 conv4_block33_2_conv False\n",
      "490 conv4_block33_2_bn False\n",
      "491 conv4_block33_2_relu False\n",
      "492 conv4_block33_3_conv False\n",
      "493 conv4_block33_out False\n",
      "494 conv4_block34_preact_bn False\n",
      "495 conv4_block34_preact_relu False\n",
      "496 conv4_block34_1_conv False\n",
      "497 conv4_block34_1_bn False\n",
      "498 conv4_block34_1_relu False\n",
      "499 conv4_block34_2_pad False\n",
      "500 conv4_block34_2_conv False\n",
      "501 conv4_block34_2_bn False\n",
      "502 conv4_block34_2_relu False\n",
      "503 conv4_block34_3_conv False\n",
      "504 conv4_block34_out False\n",
      "505 conv4_block35_preact_bn False\n",
      "506 conv4_block35_preact_relu False\n",
      "507 conv4_block35_1_conv False\n",
      "508 conv4_block35_1_bn False\n",
      "509 conv4_block35_1_relu False\n",
      "510 conv4_block35_2_pad False\n",
      "511 conv4_block35_2_conv False\n",
      "512 conv4_block35_2_bn False\n",
      "513 conv4_block35_2_relu False\n",
      "514 conv4_block35_3_conv False\n",
      "515 conv4_block35_out False\n",
      "516 conv4_block36_preact_bn False\n",
      "517 conv4_block36_preact_relu False\n",
      "518 conv4_block36_1_conv False\n",
      "519 conv4_block36_1_bn False\n",
      "520 conv4_block36_1_relu False\n",
      "521 conv4_block36_2_pad False\n",
      "522 conv4_block36_2_conv False\n",
      "523 conv4_block36_2_bn False\n",
      "524 conv4_block36_2_relu False\n",
      "525 max_pooling2d_5 False\n",
      "526 conv4_block36_3_conv False\n",
      "527 conv4_block36_out False\n",
      "528 conv5_block1_preact_bn False\n",
      "529 conv5_block1_preact_relu False\n",
      "530 conv5_block1_1_conv False\n",
      "531 conv5_block1_1_bn False\n",
      "532 conv5_block1_1_relu False\n",
      "533 conv5_block1_2_pad False\n",
      "534 conv5_block1_2_conv False\n",
      "535 conv5_block1_2_bn False\n",
      "536 conv5_block1_2_relu False\n",
      "537 conv5_block1_0_conv False\n",
      "538 conv5_block1_3_conv False\n",
      "539 conv5_block1_out False\n",
      "540 conv5_block2_preact_bn False\n",
      "541 conv5_block2_preact_relu False\n",
      "542 conv5_block2_1_conv False\n",
      "543 conv5_block2_1_bn False\n",
      "544 conv5_block2_1_relu True\n",
      "545 conv5_block2_2_pad True\n",
      "546 conv5_block2_2_conv True\n",
      "547 conv5_block2_2_bn True\n",
      "548 conv5_block2_2_relu True\n",
      "549 conv5_block2_3_conv True\n",
      "550 conv5_block2_out True\n",
      "551 conv5_block3_preact_bn True\n",
      "552 conv5_block3_preact_relu True\n",
      "553 conv5_block3_1_conv True\n",
      "554 conv5_block3_1_bn True\n",
      "555 conv5_block3_1_relu True\n",
      "556 conv5_block3_2_pad True\n",
      "557 conv5_block3_2_conv True\n",
      "558 conv5_block3_2_bn True\n",
      "559 conv5_block3_2_relu True\n",
      "560 conv5_block3_3_conv True\n",
      "561 conv5_block3_out True\n",
      "562 post_bn True\n",
      "563 post_relu True\n"
     ]
    }
   ],
   "source": [
    "for layer_number, layer in enumerate(base_model.layers):\n",
    "    print(layer_number,layer.name,layer.trainable)"
   ]
  },
  {
   "cell_type": "code",
   "execution_count": 38,
   "id": "541b400c",
   "metadata": {},
   "outputs": [
    {
     "name": "stdout",
     "output_type": "stream",
     "text": [
      "Epoch 1/25\n",
      "130/130 [==============================] - 441s 3s/step - loss: 0.0957 - binary_accuracy: 0.9645 - val_loss: 0.0817 - val_binary_accuracy: 0.9684 - lr: 4.0000e-07\n",
      "Epoch 2/25\n",
      "130/130 [==============================] - 441s 3s/step - loss: 0.0960 - binary_accuracy: 0.9648 - val_loss: 0.0824 - val_binary_accuracy: 0.9674 - lr: 4.0000e-07\n",
      "Epoch 3/25\n",
      "131/130 [==============================] - ETA: -1s - loss: 0.0930 - binary_accuracy: 0.9624\n",
      "Epoch 3: ReduceLROnPlateau reducing learning rate to 8.00000009348878e-08.\n",
      "130/130 [==============================] - 452s 3s/step - loss: 0.0930 - binary_accuracy: 0.9624 - val_loss: 0.0828 - val_binary_accuracy: 0.9674 - lr: 4.0000e-07\n",
      "Epoch 4/25\n",
      "130/130 [==============================] - 466s 4s/step - loss: 0.1037 - binary_accuracy: 0.9624 - val_loss: 0.0829 - val_binary_accuracy: 0.9674 - lr: 8.0000e-08\n",
      "Epoch 5/25\n",
      "131/130 [==============================] - ETA: -1s - loss: 0.0993 - binary_accuracy: 0.9638\n",
      "Epoch 5: ReduceLROnPlateau reducing learning rate to 1.5999999902760466e-08.\n",
      "130/130 [==============================] - 459s 4s/step - loss: 0.0993 - binary_accuracy: 0.9638 - val_loss: 0.0830 - val_binary_accuracy: 0.9674 - lr: 8.0000e-08\n",
      "Epoch 6/25\n",
      "130/130 [==============================] - 440s 3s/step - loss: 0.0997 - binary_accuracy: 0.9657 - val_loss: 0.0830 - val_binary_accuracy: 0.9674 - lr: 1.6000e-08\n"
     ]
    }
   ],
   "source": [
    "history = model_pretrained.fit(ds_train,\n",
    "          batch_size = BATCH, epochs = 25,\n",
    "          validation_data=ds_val,\n",
    "          callbacks=[early_stopping, plateau],\n",
    "          steps_per_epoch=(len(train_df)/BATCH),\n",
    "          validation_steps=(len(val_df)/BATCH));"
   ]
  },
  {
   "cell_type": "code",
   "execution_count": 39,
   "id": "39972cce",
   "metadata": {},
   "outputs": [],
   "source": [
    "model_pretrained.save(\"model_pretrained.h5\")"
   ]
  },
  {
   "cell_type": "code",
   "execution_count": 40,
   "id": "00327a67",
   "metadata": {},
   "outputs": [
    {
     "data": {
      "image/png": "[encoded data removed]",
      "text/plain": [
       "<Figure size 2000x800 with 1 Axes>"
      ]
     },
     "metadata": {},
     "output_type": "display_data"
    }
   ],
   "source": [
    "fig, ax = plt.subplots(figsize=(20,8))\n",
    "sns.lineplot(x = history.epoch, y = history.history['loss'])\n",
    "sns.lineplot(x = history.epoch, y = history.history['val_loss'])\n",
    "ax.set_title('Learning Curve (Loss)')\n",
    "ax.set_ylabel('Loss')\n",
    "ax.set_xlabel('Epoch')\n",
    "ax.set_ylim(0, 0.3)\n",
    "ax.legend(['train', 'val'], loc='best')\n",
    "plt.show()"
   ]
  },
  {
   "cell_type": "code",
   "execution_count": 41,
   "id": "01baec1d",
   "metadata": {},
   "outputs": [
    {
     "data": {
      "image/png": "[encoded data removed]",
      "text/plain": [
       "<Figure size 2000x800 with 1 Axes>"
      ]
     },
     "metadata": {},
     "output_type": "display_data"
    }
   ],
   "source": [
    "fig, ax = plt.subplots(figsize=(20,8))\n",
    "sns.lineplot(x = history.epoch, y = history.history['binary_accuracy'])\n",
    "sns.lineplot(x = history.epoch, y = history.history['val_binary_accuracy'])\n",
    "ax.set_title('Learning Curve (Accuracy)')\n",
    "ax.set_ylabel('Accuracy')\n",
    "ax.set_xlabel('Epoch')\n",
    "ax.set_ylim(0.90, 1.0)\n",
    "ax.legend(['train', 'val'], loc='best')\n",
    "plt.show()"
   ]
  },
  {
   "cell_type": "markdown",
   "id": "0a30f40b",
   "metadata": {},
   "source": [
    "# Evaluation"
   ]
  },
  {
   "cell_type": "code",
   "execution_count": 42,
   "id": "03151610",
   "metadata": {},
   "outputs": [
    {
     "name": "stdout",
     "output_type": "stream",
     "text": [
      "Val loss: 0.08173094689846039\n",
      "Val accuracy: 0.9683908224105835\n"
     ]
    }
   ],
   "source": [
    "score = model_pretrained.evaluate(ds_val, steps = len(val_df)/BATCH, verbose = 0)\n",
    "print('Val loss:', score[0])\n",
    "print('Val accuracy:', score[1])"
   ]
  },
  {
   "cell_type": "code",
   "execution_count": 43,
   "id": "f935781d",
   "metadata": {},
   "outputs": [
    {
     "name": "stdout",
     "output_type": "stream",
     "text": [
      "WARNING:tensorflow:Your input ran out of data; interrupting training. Make sure that your dataset or generator can generate at least `steps_per_epoch * epochs` batches (in this case, 624 batches). You may need to use the repeat() function when building your dataset.\n",
      "Test loss: 0.4548720419406891\n",
      "Test accuracy: 0.8429487347602844\n"
     ]
    }
   ],
   "source": [
    "score = model_pretrained.evaluate(ds_test, steps = len(df_test), verbose = 0)\n",
    "print('Test loss:', score[0])\n",
    "print('Test accuracy:', score[1])"
   ]
  },
  {
   "cell_type": "code",
   "execution_count": null,
   "id": "843fa658",
   "metadata": {},
   "outputs": [],
   "source": []
  }
 ],
 "metadata": {
  "kernelspec": {
   "display_name": "Python 3 (ipykernel)",
   "language": "python",
   "name": "python3"
  },
  "language_info": {
   "codemirror_mode": {
    "name": "ipython",
    "version": 3
   },
   "file_extension": ".py",
   "mimetype": "text/x-python",
   "name": "python",
   "nbconvert_exporter": "python",
   "pygments_lexer": "ipython3",
   "version": "3.9.18"
  }
 },
 "nbformat": 4,
 "nbformat_minor": 5
}
